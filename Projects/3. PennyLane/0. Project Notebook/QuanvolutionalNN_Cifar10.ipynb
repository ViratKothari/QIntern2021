{
  "nbformat": 4,
  "nbformat_minor": 0,
  "metadata": {
    "colab": {
      "name": "QuanvolutionalNN_Cifar10.ipynb",
      "provenance": []
    },
    "kernelspec": {
      "display_name": "Python 3",
      "language": "python",
      "name": "python3"
    },
    "language_info": {
      "codemirror_mode": {
        "name": "ipython",
        "version": 3
      },
      "file_extension": ".py",
      "mimetype": "text/x-python",
      "name": "python",
      "nbconvert_exporter": "python",
      "pygments_lexer": "ipython3",
      "version": "3.8.3"
    }
  },
  "cells": [
    {
      "cell_type": "markdown",
      "metadata": {
        "id": "zbTXNHoumBSV"
      },
      "source": [
        "# **Setup**"
      ]
    },
    {
      "cell_type": "code",
      "metadata": {
        "colab": {
          "base_uri": "https://localhost:8080/"
        },
        "id": "woRVxHidlr_l",
        "outputId": "a58dbe86-9943-48ca-e5e5-70cb0606633f"
      },
      "source": [
        "!pip install pennylane"
      ],
      "execution_count": null,
      "outputs": [
        {
          "name": "stdout",
          "output_type": "stream",
          "text": [
            "Collecting pennylane\n",
            "  Downloading PennyLane-0.17.0-py3-none-any.whl (580 kB)\n",
            "\u001b[K     |████████████████████████████████| 580 kB 5.1 MB/s \n",
            "\u001b[?25hRequirement already satisfied: toml in /usr/local/lib/python3.7/dist-packages (from pennylane) (0.10.2)\n",
            "Requirement already satisfied: numpy in /usr/local/lib/python3.7/dist-packages (from pennylane) (1.19.5)\n",
            "Requirement already satisfied: scipy in /usr/local/lib/python3.7/dist-packages (from pennylane) (1.4.1)\n",
            "Requirement already satisfied: appdirs in /usr/local/lib/python3.7/dist-packages (from pennylane) (1.4.4)\n",
            "Collecting semantic-version==2.6\n",
            "  Downloading semantic_version-2.6.0-py3-none-any.whl (14 kB)\n",
            "Requirement already satisfied: networkx in /usr/local/lib/python3.7/dist-packages (from pennylane) (2.6.2)\n",
            "Collecting autoray\n",
            "  Downloading autoray-0.2.5-py3-none-any.whl (16 kB)\n",
            "Requirement already satisfied: autograd in /usr/local/lib/python3.7/dist-packages (from pennylane) (1.3)\n",
            "Requirement already satisfied: future>=0.15.2 in /usr/local/lib/python3.7/dist-packages (from autograd->pennylane) (0.16.0)\n",
            "Installing collected packages: semantic-version, autoray, pennylane\n",
            "Successfully installed autoray-0.2.5 pennylane-0.17.0 semantic-version-2.6.0\n"
          ]
        }
      ]
    },
    {
      "cell_type": "code",
      "metadata": {
        "id": "l9IsvldjmIZR"
      },
      "source": [
        "import pennylane as qml\n",
        "from pennylane import numpy as np\n",
        "from pennylane.templates import RandomLayers\n",
        "import tensorflow as tf\n",
        "from tensorflow import keras\n",
        "import matplotlib.pyplot as plt"
      ],
      "execution_count": null,
      "outputs": []
    },
    {
      "cell_type": "code",
      "metadata": {
        "colab": {
          "base_uri": "https://localhost:8080/"
        },
        "id": "4_aQCrfObp-L",
        "outputId": "fdf83b76-cba5-4125-f54c-dc1b0ef7825b"
      },
      "source": [
        "from google.colab import drive\n",
        "drive.mount('/content/drive')"
      ],
      "execution_count": null,
      "outputs": [
        {
          "name": "stdout",
          "output_type": "stream",
          "text": [
            "Mounted at /content/drive\n"
          ]
        }
      ]
    },
    {
      "cell_type": "markdown",
      "metadata": {
        "id": "7B-JSNRN2_xL"
      },
      "source": [
        "Notebook used : https://pennylane.ai/qml/demos/tutorial_quanvolution.html"
      ]
    },
    {
      "cell_type": "markdown",
      "metadata": {
        "id": "Y4HU-tgQmQeF"
      },
      "source": [
        "# **Setting of the main hyper-parameters of the model**\n",
        "\n",
        "\n"
      ]
    },
    {
      "cell_type": "code",
      "metadata": {
        "id": "LHXhE8ywmP5f"
      },
      "source": [
        "n_epochs = 30   # Number of optimization epochs\n",
        "n_layers = 1    # Number of random layers\n",
        "n_train = 50    # Size of the train dataset\n",
        "n_test = 30     # Size of the test dataset\n",
        "\n",
        "SAVE_PATH =  \"/content/drive/MyDrive/Qintern/quanvolution/\" # Data saving folder. Create folder with this name in files tab of colab.\n",
        "PREPROCESS = True           # If False, skip quantum processing and load data from SAVE_PATH\n",
        "np.random.seed(0)           # Seed for NumPy random number generator\n",
        "tf.random.set_seed(0)       # Seed for TensorFlow random number generator"
      ],
      "execution_count": null,
      "outputs": []
    },
    {
      "cell_type": "markdown",
      "metadata": {
        "id": "cE_bqNS1mhnb"
      },
      "source": [
        "#**Loading of the CIFAR10 dataset**"
      ]
    },
    {
      "cell_type": "code",
      "metadata": {
        "colab": {
          "base_uri": "https://localhost:8080/"
        },
        "id": "KJNSYLugmZjm",
        "outputId": "486c3821-4cee-4e7b-81f3-b0f127c6c94a"
      },
      "source": [
        "cifar10_dataset = keras.datasets.cifar10\n",
        "(train_images, train_labels), (test_images, test_labels) = cifar10_dataset.load_data()\n",
        "\n",
        "# Reduce dataset size\n",
        "train_images = train_images[:n_train]\n",
        "train_labels = train_labels[:n_train]\n",
        "test_images = test_images[:n_test]\n",
        "test_labels = test_labels[:n_test]\n",
        "\n",
        "# Normalize pixel values within 0 and 1\n",
        "train_images = train_images / 255\n",
        "test_images = test_images / 255"
      ],
      "execution_count": null,
      "outputs": [
        {
          "name": "stdout",
          "output_type": "stream",
          "text": [
            "Downloading data from https://www.cs.toronto.edu/~kriz/cifar-10-python.tar.gz\n",
            "170500096/170498071 [==============================] - 3s 0us/step\n",
            "170508288/170498071 [==============================] - 3s 0us/step\n"
          ]
        }
      ]
    },
    {
      "cell_type": "markdown",
      "metadata": {
        "id": "21yPq_--mtv9"
      },
      "source": [
        "#**Quantum circuit as a convolution kernel**"
      ]
    },
    {
      "cell_type": "code",
      "metadata": {
        "id": "FlYa7Ja2mp56"
      },
      "source": [
        "dev = qml.device(\"default.qubit\", wires=4)\n",
        "# Random circuit parameters\n",
        "rand_params = np.random.uniform(high=2 * np.pi, size=(n_layers, 4))\n",
        "\n",
        "@qml.qnode(dev)\n",
        "def circuit(phi):\n",
        "    # Encoding of 4 classical input values\n",
        "    for j in range(4):\n",
        "        qml.RY(np.pi * phi[j], wires=j)\n",
        "\n",
        "    # Random quantum circuit\n",
        "    RandomLayers(rand_params, wires=list(range(4)))\n",
        "\n",
        "    # Measurement producing 4 classical output values\n",
        "    return [qml.expval(qml.PauliZ(j)) for j in range(4)]"
      ],
      "execution_count": null,
      "outputs": []
    },
    {
      "cell_type": "code",
      "metadata": {
        "id": "qRl_qOsZnXYH"
      },
      "source": [
        "def quanv(image):\n",
        "    \"\"\"Convolves the input image with many applications of the same quantum circuit.\"\"\"\n",
        "    out = np.zeros((14, 14, 4))\n",
        "\n",
        "    # Loop over the coordinates of the top-left pixel of 2X2 squares\n",
        "    for j in range(0, 28, 2):\n",
        "        for k in range(0, 28, 2):\n",
        "            # Process a squared 2x2 region of the image with a quantum circuit\n",
        "            q_results = circuit(\n",
        "                [\n",
        "                    image[j, k, 0],\n",
        "                    image[j, k + 1, 0],\n",
        "                    image[j + 1, k, 0],\n",
        "                    image[j + 1, k + 1, 0]\n",
        "                ]\n",
        "            )\n",
        "            # Assign expectation values to different channels of the output pixel (j/2, k/2)\n",
        "            for c in range(4):\n",
        "                out[j // 2, k // 2, c] = q_results[c]\n",
        "    return out"
      ],
      "execution_count": null,
      "outputs": []
    },
    {
      "cell_type": "markdown",
      "metadata": {
        "id": "UM-oVa1vnlT3"
      },
      "source": [
        "#**Quantum pre-processing of the dataset**"
      ]
    },
    {
      "cell_type": "markdown",
      "metadata": {
        "id": "ws-CIoGCoF1M"
      },
      "source": [
        "#####Since we are not going to train the quantum convolution layer, it is more efficient to apply it as a “pre-processing” layer to all the images of our dataset. Later an entirely classical model will be directly trained and tested on the pre-processed dataset, avoiding unnecessary repetitions of quantum computations.\n",
        "\n",
        "#####The pre-processed images will be saved in the folder SAVE_PATH. Once saved, they can be directly loaded by setting PREPROCESS = False, otherwise the quantum convolution is evaluated at each run of the code."
      ]
    },
    {
      "cell_type": "code",
      "metadata": {
        "colab": {
          "base_uri": "https://localhost:8080/"
        },
        "id": "6WBqzZwZnhGP",
        "outputId": "a21e2531-5092-412c-bb4a-fc6576fd8bd3"
      },
      "source": [
        "if PREPROCESS == True:\n",
        "    q_train_images = []\n",
        "    print(\"Quantum pre-processing of train images:\")\n",
        "    for idx, img in enumerate(train_images):\n",
        "        print(\"{}/{}        \".format(idx + 1, n_train), end=\"\\r\")\n",
        "        q_train_images.append(quanv(img))\n",
        "    q_train_images = np.asarray(q_train_images)\n",
        "\n",
        "    q_test_images = []\n",
        "    print(\"\\nQuantum pre-processing of test images:\")\n",
        "    for idx, img in enumerate(test_images):\n",
        "        print(\"{}/{}        \".format(idx + 1, n_test), end=\"\\r\")\n",
        "        q_test_images.append(quanv(img))\n",
        "    q_test_images = np.asarray(q_test_images)\n",
        "\n",
        "    # Save pre-processed images\n",
        "    np.save(SAVE_PATH + \"q_train_images.npy\", q_train_images)\n",
        "    np.save(SAVE_PATH + \"q_test_images.npy\", q_test_images)\n",
        "\n",
        "\n",
        "# Load pre-processed images\n",
        "q_train_images = np.load(SAVE_PATH + \"q_train_images.npy\")\n",
        "q_test_images = np.load(SAVE_PATH + \"q_test_images.npy\")"
      ],
      "execution_count": null,
      "outputs": [
        {
          "name": "stdout",
          "output_type": "stream",
          "text": [
            "Quantum pre-processing of train images:\n",
            "\n",
            "Quantum pre-processing of test images:\n"
          ]
        }
      ]
    },
    {
      "cell_type": "markdown",
      "metadata": {
        "id": "oLIhhNdpn2cF"
      },
      "source": [
        "\n",
        "#####Let us visualize the effect of the quantum convolution layer on a batch of samples:"
      ]
    },
    {
      "cell_type": "code",
      "metadata": {
        "colab": {
          "base_uri": "https://localhost:8080/",
          "height": 729
        },
        "id": "gmCM8HXjnp_2",
        "outputId": "75071d92-6e2f-4c07-8711-191faec13a9e"
      },
      "source": [
        "n_samples = 4\n",
        "n_channels = 4\n",
        "fig, axes = plt.subplots(1 + n_channels, n_samples, figsize=(10, 10))\n",
        "for k in range(n_samples):\n",
        "    axes[0, 0].set_ylabel(\"Input\")\n",
        "    if k != 0:\n",
        "        axes[0, k].yaxis.set_visible(False)\n",
        "    axes[0, k].imshow(train_images[k, :, :, 0], cmap=\"gray\")\n",
        "\n",
        "    # Plot all output channels\n",
        "    for c in range(n_channels):\n",
        "        axes[c + 1, 0].set_ylabel(\"Output [ch. {}]\".format(c))\n",
        "        if k != 0:\n",
        "            axes[c, k].yaxis.set_visible(False)\n",
        "        axes[c + 1, k].imshow(q_train_images[k, :, :, c], cmap=\"gray\")\n",
        "\n",
        "plt.tight_layout()\n",
        "plt.show()"
      ],
      "execution_count": null,
      "outputs": [
        {
          "data": {
            "image/png": "[encoded data removed]",
            "text/plain": [
              "<Figure size 720x720 with 20 Axes>"
            ]
          },
          "metadata": {
            "needs_background": "light",
            "tags": []
          },
          "output_type": "display_data"
        }
      ]
    },
    {
      "cell_type": "markdown",
      "metadata": {
        "id": "xCNpYAuhb3Kk"
      },
      "source": [
        "#**Hybrid quantum-classical model**"
      ]
    },
    {
      "cell_type": "code",
      "metadata": {
        "id": "TyW16_Mfb4r8"
      },
      "source": [
        "def MyModel():\n",
        "    \"\"\"Initializes and returns a custom Keras model\n",
        "    which is ready to be trained.\"\"\"\n",
        "    model = keras.models.Sequential([\n",
        "        keras.layers.Flatten(),\n",
        "        keras.layers.Dense(10, activation=\"softmax\")\n",
        "    ])\n",
        "\n",
        "    model.compile(\n",
        "        optimizer='Adagrad',\n",
        "        loss=\"sparse_categorical_crossentropy\",\n",
        "        metrics=[\"accuracy\"],\n",
        "    )\n",
        "    return model"
      ],
      "execution_count": null,
      "outputs": []
    },
    {
      "cell_type": "markdown",
      "metadata": {
        "id": "9f0y6G3QCfMx"
      },
      "source": [
        "# **Training**"
      ]
    },
    {
      "cell_type": "code",
      "metadata": {
        "colab": {
          "base_uri": "https://localhost:8080/"
        },
        "id": "0LGUnIDrCewU",
        "outputId": "353cc2d0-03ce-4365-cfea-452f74e230f5"
      },
      "source": [
        "q_model = MyModel()\n",
        "\n",
        "q_history = q_model.fit(\n",
        "    q_train_images,\n",
        "    train_labels,\n",
        "    validation_data=(q_test_images, test_labels),\n",
        "    batch_size=4,\n",
        "    epochs=n_epochs,\n",
        "    verbose=2,\n",
        ")"
      ],
      "execution_count": null,
      "outputs": [
        {
          "name": "stdout",
          "output_type": "stream",
          "text": [
            "Epoch 1/30\n",
            "13/13 - 1s - loss: 2.5988 - accuracy: 0.1000 - val_loss: 2.2946 - val_accuracy: 0.1333\n",
            "Epoch 2/30\n",
            "13/13 - 0s - loss: 2.4148 - accuracy: 0.1400 - val_loss: 2.3076 - val_accuracy: 0.1000\n",
            "Epoch 3/30\n",
            "13/13 - 0s - loss: 2.3097 - accuracy: 0.2000 - val_loss: 2.3175 - val_accuracy: 0.1667\n",
            "Epoch 4/30\n",
            "13/13 - 0s - loss: 2.2358 - accuracy: 0.2000 - val_loss: 2.3242 - val_accuracy: 0.1667\n",
            "Epoch 5/30\n",
            "13/13 - 0s - loss: 2.1769 - accuracy: 0.2400 - val_loss: 2.3402 - val_accuracy: 0.1667\n",
            "Epoch 6/30\n",
            "13/13 - 0s - loss: 2.1254 - accuracy: 0.2400 - val_loss: 2.3516 - val_accuracy: 0.2000\n",
            "Epoch 7/30\n",
            "13/13 - 0s - loss: 2.0836 - accuracy: 0.3000 - val_loss: 2.3612 - val_accuracy: 0.1667\n",
            "Epoch 8/30\n",
            "13/13 - 0s - loss: 2.0468 - accuracy: 0.2800 - val_loss: 2.3731 - val_accuracy: 0.1667\n",
            "Epoch 9/30\n",
            "13/13 - 0s - loss: 2.0109 - accuracy: 0.3000 - val_loss: 2.3836 - val_accuracy: 0.1333\n",
            "Epoch 10/30\n",
            "13/13 - 0s - loss: 1.9836 - accuracy: 0.3400 - val_loss: 2.3919 - val_accuracy: 0.1333\n",
            "Epoch 11/30\n",
            "13/13 - 0s - loss: 1.9531 - accuracy: 0.3400 - val_loss: 2.3964 - val_accuracy: 0.1333\n",
            "Epoch 12/30\n",
            "13/13 - 0s - loss: 1.9301 - accuracy: 0.3400 - val_loss: 2.4074 - val_accuracy: 0.1333\n",
            "Epoch 13/30\n",
            "13/13 - 0s - loss: 1.9054 - accuracy: 0.3800 - val_loss: 2.4120 - val_accuracy: 0.1333\n",
            "Epoch 14/30\n",
            "13/13 - 0s - loss: 1.8804 - accuracy: 0.3800 - val_loss: 2.4172 - val_accuracy: 0.1333\n",
            "Epoch 15/30\n",
            "13/13 - 0s - loss: 1.8601 - accuracy: 0.3800 - val_loss: 2.4227 - val_accuracy: 0.1333\n",
            "Epoch 16/30\n",
            "13/13 - 0s - loss: 1.8396 - accuracy: 0.3800 - val_loss: 2.4319 - val_accuracy: 0.1333\n",
            "Epoch 17/30\n",
            "13/13 - 0s - loss: 1.8209 - accuracy: 0.3800 - val_loss: 2.4356 - val_accuracy: 0.1333\n",
            "Epoch 18/30\n",
            "13/13 - 0s - loss: 1.8031 - accuracy: 0.3800 - val_loss: 2.4411 - val_accuracy: 0.1333\n",
            "Epoch 19/30\n",
            "13/13 - 0s - loss: 1.7843 - accuracy: 0.4000 - val_loss: 2.4456 - val_accuracy: 0.1333\n",
            "Epoch 20/30\n",
            "13/13 - 0s - loss: 1.7662 - accuracy: 0.4000 - val_loss: 2.4526 - val_accuracy: 0.1333\n",
            "Epoch 21/30\n",
            "13/13 - 0s - loss: 1.7516 - accuracy: 0.4400 - val_loss: 2.4597 - val_accuracy: 0.1333\n",
            "Epoch 22/30\n",
            "13/13 - 0s - loss: 1.7357 - accuracy: 0.4200 - val_loss: 2.4655 - val_accuracy: 0.1333\n",
            "Epoch 23/30\n",
            "13/13 - 0s - loss: 1.7209 - accuracy: 0.4400 - val_loss: 2.4686 - val_accuracy: 0.1333\n",
            "Epoch 24/30\n",
            "13/13 - 0s - loss: 1.7048 - accuracy: 0.4600 - val_loss: 2.4752 - val_accuracy: 0.1333\n",
            "Epoch 25/30\n",
            "13/13 - 0s - loss: 1.6896 - accuracy: 0.4600 - val_loss: 2.4816 - val_accuracy: 0.1333\n",
            "Epoch 26/30\n",
            "13/13 - 0s - loss: 1.6774 - accuracy: 0.4600 - val_loss: 2.4881 - val_accuracy: 0.1333\n",
            "Epoch 27/30\n",
            "13/13 - 0s - loss: 1.6635 - accuracy: 0.4600 - val_loss: 2.4904 - val_accuracy: 0.1000\n",
            "Epoch 28/30\n",
            "13/13 - 0s - loss: 1.6519 - accuracy: 0.4600 - val_loss: 2.4937 - val_accuracy: 0.1000\n",
            "Epoch 29/30\n",
            "13/13 - 0s - loss: 1.6380 - accuracy: 0.4800 - val_loss: 2.4960 - val_accuracy: 0.1000\n",
            "Epoch 30/30\n",
            "13/13 - 0s - loss: 1.6263 - accuracy: 0.5000 - val_loss: 2.4992 - val_accuracy: 0.1000\n"
          ]
        }
      ]
    },
    {
      "cell_type": "code",
      "metadata": {
        "colab": {
          "base_uri": "https://localhost:8080/"
        },
        "id": "KVp9rZ9GCpBI",
        "outputId": "fb3a1177-4243-4801-f863-c14b7a72c80f"
      },
      "source": [
        "c_model = MyModel()\n",
        "\n",
        "c_history = c_model.fit(\n",
        "    train_images,\n",
        "    train_labels,\n",
        "    validation_data=(test_images, test_labels),\n",
        "    batch_size=4,\n",
        "    epochs=n_epochs,\n",
        "    verbose=2,\n",
        ")\n"
      ],
      "execution_count": null,
      "outputs": [
        {
          "name": "stdout",
          "output_type": "stream",
          "text": [
            "Epoch 1/30\n",
            "13/13 - 0s - loss: 2.5663 - accuracy: 0.1000 - val_loss: 2.5427 - val_accuracy: 0.0000e+00\n",
            "Epoch 2/30\n",
            "13/13 - 0s - loss: 2.3390 - accuracy: 0.1200 - val_loss: 2.5757 - val_accuracy: 0.0333\n",
            "Epoch 3/30\n",
            "13/13 - 0s - loss: 2.2540 - accuracy: 0.2400 - val_loss: 2.5912 - val_accuracy: 0.0000e+00\n",
            "Epoch 4/30\n",
            "13/13 - 0s - loss: 2.1818 - accuracy: 0.2400 - val_loss: 2.5484 - val_accuracy: 0.0667\n",
            "Epoch 5/30\n",
            "13/13 - 0s - loss: 2.1105 - accuracy: 0.2800 - val_loss: 2.5949 - val_accuracy: 0.0333\n",
            "Epoch 6/30\n",
            "13/13 - 0s - loss: 2.0406 - accuracy: 0.2600 - val_loss: 2.6099 - val_accuracy: 0.0000e+00\n",
            "Epoch 7/30\n",
            "13/13 - 0s - loss: 1.9947 - accuracy: 0.3400 - val_loss: 2.5686 - val_accuracy: 0.0333\n",
            "Epoch 8/30\n",
            "13/13 - 0s - loss: 1.9689 - accuracy: 0.3600 - val_loss: 2.6269 - val_accuracy: 0.0333\n",
            "Epoch 9/30\n",
            "13/13 - 0s - loss: 1.9128 - accuracy: 0.3400 - val_loss: 2.5989 - val_accuracy: 0.0333\n",
            "Epoch 10/30\n",
            "13/13 - 0s - loss: 1.8896 - accuracy: 0.3600 - val_loss: 2.6130 - val_accuracy: 0.0333\n",
            "Epoch 11/30\n",
            "13/13 - 0s - loss: 1.8397 - accuracy: 0.4000 - val_loss: 2.5702 - val_accuracy: 0.0333\n",
            "Epoch 12/30\n",
            "13/13 - 0s - loss: 1.8392 - accuracy: 0.4400 - val_loss: 2.6234 - val_accuracy: 0.0667\n",
            "Epoch 13/30\n",
            "13/13 - 0s - loss: 1.7978 - accuracy: 0.4400 - val_loss: 2.6178 - val_accuracy: 0.0667\n",
            "Epoch 14/30\n",
            "13/13 - 0s - loss: 1.7512 - accuracy: 0.4400 - val_loss: 2.6207 - val_accuracy: 0.0667\n",
            "Epoch 15/30\n",
            "13/13 - 0s - loss: 1.7372 - accuracy: 0.4200 - val_loss: 2.6098 - val_accuracy: 0.0667\n",
            "Epoch 16/30\n",
            "13/13 - 0s - loss: 1.7039 - accuracy: 0.5000 - val_loss: 2.6421 - val_accuracy: 0.0667\n",
            "Epoch 17/30\n",
            "13/13 - 0s - loss: 1.6902 - accuracy: 0.5000 - val_loss: 2.6014 - val_accuracy: 0.0667\n",
            "Epoch 18/30\n",
            "13/13 - 0s - loss: 1.6657 - accuracy: 0.4800 - val_loss: 2.6085 - val_accuracy: 0.0667\n",
            "Epoch 19/30\n",
            "13/13 - 0s - loss: 1.6338 - accuracy: 0.5000 - val_loss: 2.5697 - val_accuracy: 0.0667\n",
            "Epoch 20/30\n",
            "13/13 - 0s - loss: 1.6125 - accuracy: 0.5200 - val_loss: 2.5953 - val_accuracy: 0.0667\n",
            "Epoch 21/30\n",
            "13/13 - 0s - loss: 1.6010 - accuracy: 0.5000 - val_loss: 2.5988 - val_accuracy: 0.0667\n",
            "Epoch 22/30\n",
            "13/13 - 0s - loss: 1.5824 - accuracy: 0.5400 - val_loss: 2.6215 - val_accuracy: 0.0667\n",
            "Epoch 23/30\n",
            "13/13 - 0s - loss: 1.5707 - accuracy: 0.6000 - val_loss: 2.6052 - val_accuracy: 0.0667\n",
            "Epoch 24/30\n",
            "13/13 - 0s - loss: 1.5473 - accuracy: 0.6000 - val_loss: 2.6384 - val_accuracy: 0.0667\n",
            "Epoch 25/30\n",
            "13/13 - 0s - loss: 1.5267 - accuracy: 0.5200 - val_loss: 2.6392 - val_accuracy: 0.0667\n",
            "Epoch 26/30\n",
            "13/13 - 0s - loss: 1.5149 - accuracy: 0.6400 - val_loss: 2.6542 - val_accuracy: 0.0667\n",
            "Epoch 27/30\n",
            "13/13 - 0s - loss: 1.4978 - accuracy: 0.6000 - val_loss: 2.6607 - val_accuracy: 0.0667\n",
            "Epoch 28/30\n",
            "13/13 - 0s - loss: 1.4879 - accuracy: 0.5400 - val_loss: 2.6569 - val_accuracy: 0.0667\n",
            "Epoch 29/30\n",
            "13/13 - 0s - loss: 1.4683 - accuracy: 0.6400 - val_loss: 2.6567 - val_accuracy: 0.0667\n",
            "Epoch 30/30\n",
            "13/13 - 0s - loss: 1.4618 - accuracy: 0.6600 - val_loss: 2.6544 - val_accuracy: 0.0667\n"
          ]
        }
      ]
    },
    {
      "cell_type": "markdown",
      "metadata": {
        "id": "G0279L1kCy1k"
      },
      "source": [
        "# **Results**"
      ]
    },
    {
      "cell_type": "code",
      "metadata": {
        "colab": {
          "base_uri": "https://localhost:8080/",
          "height": 657
        },
        "id": "qC8Cfxy9CsOq",
        "outputId": "9c559be3-e083-42a7-eec0-33178cf063d2"
      },
      "source": [
        "import matplotlib.pyplot as plt\n",
        "\n",
        "plt.style.use(\"seaborn\")\n",
        "fig, (ax1, ax2) = plt.subplots(2, 1, figsize=(6, 9))\n",
        "\n",
        "ax1.plot(q_history.history[\"val_accuracy\"], \"-ob\", label=\"With quantum layer\")\n",
        "ax1.plot(c_history.history[\"val_accuracy\"], \"-og\", label=\"Without quantum layer\")\n",
        "ax1.set_ylabel(\"Accuracy\")\n",
        "ax1.set_ylim([0, 1])\n",
        "ax1.set_xlabel(\"Epoch\")\n",
        "ax1.legend()\n",
        "\n",
        "ax2.plot(q_history.history[\"val_loss\"], \"-ob\", label=\"With quantum layer\")\n",
        "ax2.plot(c_history.history[\"val_loss\"], \"-og\", label=\"Without quantum layer\")\n",
        "ax2.set_ylabel(\"Loss\")\n",
        "ax2.set_ylim(top=2.5)\n",
        "ax2.set_xlabel(\"Epoch\")\n",
        "ax2.legend()\n",
        "plt.tight_layout()\n",
        "plt.show()\n"
      ],
      "execution_count": null,
      "outputs": [
        {
          "data": {
            "image/png": "[encoded data removed]",
            "text/plain": [
              "<Figure size 432x648 with 2 Axes>"
            ]
          },
          "metadata": {
            "tags": []
          },
          "output_type": "display_data"
        }
      ]
    },
    {
      "cell_type": "code",
      "metadata": {
        "id": "2XXVeoRcC3DM"
      },
      "source": [
        ""
      ],
      "execution_count": null,
      "outputs": []
    }
  ]
}