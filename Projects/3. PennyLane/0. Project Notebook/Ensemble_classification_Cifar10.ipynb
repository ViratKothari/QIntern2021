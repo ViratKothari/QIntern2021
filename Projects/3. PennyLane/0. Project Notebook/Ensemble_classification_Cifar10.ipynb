{
  "nbformat": 4,
  "nbformat_minor": 0,
  "metadata": {
    "colab": {
      "name": "Ensemble_classification_Cifar10.ipynb",
      "provenance": [],
      "collapsed_sections": []
    },
    "kernelspec": {
      "display_name": "Python 3",
      "language": "python",
      "name": "python3"
    },
    "language_info": {
      "codemirror_mode": {
        "name": "ipython",
        "version": 3
      },
      "file_extension": ".py",
      "mimetype": "text/x-python",
      "name": "python",
      "nbconvert_exporter": "python",
      "pygments_lexer": "ipython3",
      "version": "3.8.3"
    }
  },
  "cells": [
    {
      "cell_type": "markdown",
      "metadata": {
        "id": "zbTXNHoumBSV"
      },
      "source": [
        "# **Setup**"
      ]
    },
    {
      "cell_type": "code",
      "metadata": {
        "colab": {
          "base_uri": "https://localhost:8080/"
        },
        "id": "woRVxHidlr_l",
        "outputId": "73493b8b-e902-4669-9e83-3c1dec1cb38c"
      },
      "source": [
        "!pip install pennylane"
      ],
      "execution_count": null,
      "outputs": [
        {
          "name": "stdout",
          "output_type": "stream",
          "text": [
            "Requirement already satisfied: pennylane in /usr/local/lib/python3.7/dist-packages (0.16.0)\n",
            "Requirement already satisfied: networkx in /usr/local/lib/python3.7/dist-packages (from pennylane) (2.6.2)\n",
            "Requirement already satisfied: scipy in /usr/local/lib/python3.7/dist-packages (from pennylane) (1.7.1)\n",
            "Requirement already satisfied: autograd in /usr/local/lib/python3.7/dist-packages (from pennylane) (1.3)\n",
            "Requirement already satisfied: numpy in /usr/local/lib/python3.7/dist-packages (from pennylane) (1.21.2)\n",
            "Requirement already satisfied: toml in /usr/local/lib/python3.7/dist-packages (from pennylane) (0.10.2)\n",
            "Requirement already satisfied: semantic-version==2.6 in /usr/local/lib/python3.7/dist-packages (from pennylane) (2.6.0)\n",
            "Requirement already satisfied: autoray in /usr/local/lib/python3.7/dist-packages (from pennylane) (0.2.5)\n",
            "Requirement already satisfied: appdirs in /usr/local/lib/python3.7/dist-packages (from pennylane) (1.4.4)\n",
            "Requirement already satisfied: future>=0.15.2 in /usr/local/lib/python3.7/dist-packages (from autograd->pennylane) (0.16.0)\n"
          ]
        }
      ]
    },
    {
      "cell_type": "code",
      "metadata": {
        "colab": {
          "base_uri": "https://localhost:8080/"
        },
        "id": "5NLFjvgZVr4j",
        "outputId": "b203d888-f880-43e4-9df3-4d61fd5f2353"
      },
      "source": [
        "pip install pennylane-qiskit"
      ],
      "execution_count": null,
      "outputs": [
        {
          "name": "stdout",
          "output_type": "stream",
          "text": [
            "Requirement already satisfied: pennylane-qiskit in /usr/local/lib/python3.7/dist-packages (0.16.0)\n",
            "Requirement already satisfied: qiskit>=0.25 in /usr/local/lib/python3.7/dist-packages (from pennylane-qiskit) (0.29.0)\n",
            "Requirement already satisfied: networkx>=2.2 in /usr/local/lib/python3.7/dist-packages (from pennylane-qiskit) (2.6.2)\n",
            "Requirement already satisfied: pennylane>=0.16 in /usr/local/lib/python3.7/dist-packages (from pennylane-qiskit) (0.16.0)\n",
            "Requirement already satisfied: numpy in /usr/local/lib/python3.7/dist-packages (from pennylane-qiskit) (1.21.2)\n",
            "Requirement already satisfied: autoray in /usr/local/lib/python3.7/dist-packages (from pennylane>=0.16->pennylane-qiskit) (0.2.5)\n",
            "Requirement already satisfied: autograd in /usr/local/lib/python3.7/dist-packages (from pennylane>=0.16->pennylane-qiskit) (1.3)\n",
            "Requirement already satisfied: toml in /usr/local/lib/python3.7/dist-packages (from pennylane>=0.16->pennylane-qiskit) (0.10.2)\n",
            "Requirement already satisfied: semantic-version==2.6 in /usr/local/lib/python3.7/dist-packages (from pennylane>=0.16->pennylane-qiskit) (2.6.0)\n",
            "Requirement already satisfied: appdirs in /usr/local/lib/python3.7/dist-packages (from pennylane>=0.16->pennylane-qiskit) (1.4.4)\n",
            "Requirement already satisfied: scipy in /usr/local/lib/python3.7/dist-packages (from pennylane>=0.16->pennylane-qiskit) (1.7.1)\n",
            "Requirement already satisfied: qiskit-ignis==0.6.0 in /usr/local/lib/python3.7/dist-packages (from qiskit>=0.25->pennylane-qiskit) (0.6.0)\n",
            "Requirement already satisfied: qiskit-aer==0.8.2 in /usr/local/lib/python3.7/dist-packages (from qiskit>=0.25->pennylane-qiskit) (0.8.2)\n",
            "Requirement already satisfied: qiskit-aqua==0.9.4 in /usr/local/lib/python3.7/dist-packages (from qiskit>=0.25->pennylane-qiskit) (0.9.4)\n",
            "Requirement already satisfied: qiskit-terra==0.18.1 in /usr/local/lib/python3.7/dist-packages (from qiskit>=0.25->pennylane-qiskit) (0.18.1)\n",
            "Requirement already satisfied: qiskit-ibmq-provider==0.16.0 in /usr/local/lib/python3.7/dist-packages (from qiskit>=0.25->pennylane-qiskit) (0.16.0)\n",
            "Requirement already satisfied: pybind11>=2.6 in /usr/local/lib/python3.7/dist-packages (from qiskit-aer==0.8.2->qiskit>=0.25->pennylane-qiskit) (2.7.1)\n",
            "Requirement already satisfied: quandl in /usr/local/lib/python3.7/dist-packages (from qiskit-aqua==0.9.4->qiskit>=0.25->pennylane-qiskit) (3.6.1)\n",
            "Requirement already satisfied: retworkx>=0.8.0 in /usr/local/lib/python3.7/dist-packages (from qiskit-aqua==0.9.4->qiskit>=0.25->pennylane-qiskit) (0.9.0)\n",
            "Requirement already satisfied: pandas in /usr/local/lib/python3.7/dist-packages (from qiskit-aqua==0.9.4->qiskit>=0.25->pennylane-qiskit) (1.1.5)\n",
            "Requirement already satisfied: scikit-learn>=0.20.0 in /usr/local/lib/python3.7/dist-packages (from qiskit-aqua==0.9.4->qiskit>=0.25->pennylane-qiskit) (0.22.2.post1)\n",
            "Requirement already satisfied: docplex>=2.21.207 in /usr/local/lib/python3.7/dist-packages (from qiskit-aqua==0.9.4->qiskit>=0.25->pennylane-qiskit) (2.21.207)\n",
            "Requirement already satisfied: psutil>=5 in /usr/local/lib/python3.7/dist-packages (from qiskit-aqua==0.9.4->qiskit>=0.25->pennylane-qiskit) (5.4.8)\n",
            "Requirement already satisfied: setuptools>=40.1.0 in /usr/local/lib/python3.7/dist-packages (from qiskit-aqua==0.9.4->qiskit>=0.25->pennylane-qiskit) (57.4.0)\n",
            "Requirement already satisfied: yfinance<0.1.63 in /usr/local/lib/python3.7/dist-packages (from qiskit-aqua==0.9.4->qiskit>=0.25->pennylane-qiskit) (0.1.62)\n",
            "Requirement already satisfied: sympy>=1.3 in /usr/local/lib/python3.7/dist-packages (from qiskit-aqua==0.9.4->qiskit>=0.25->pennylane-qiskit) (1.7.1)\n",
            "Requirement already satisfied: fastdtw<=0.3.4 in /usr/local/lib/python3.7/dist-packages (from qiskit-aqua==0.9.4->qiskit>=0.25->pennylane-qiskit) (0.3.4)\n",
            "Requirement already satisfied: dlx<=1.0.4 in /usr/local/lib/python3.7/dist-packages (from qiskit-aqua==0.9.4->qiskit>=0.25->pennylane-qiskit) (1.0.4)\n",
            "Requirement already satisfied: h5py<3.3.0 in /usr/local/lib/python3.7/dist-packages (from qiskit-aqua==0.9.4->qiskit>=0.25->pennylane-qiskit) (3.1.0)\n",
            "Requirement already satisfied: websocket-client>=1.0.1 in /usr/local/lib/python3.7/dist-packages (from qiskit-ibmq-provider==0.16.0->qiskit>=0.25->pennylane-qiskit) (1.2.1)\n",
            "Requirement already satisfied: requests-ntlm>=1.1.0 in /usr/local/lib/python3.7/dist-packages (from qiskit-ibmq-provider==0.16.0->qiskit>=0.25->pennylane-qiskit) (1.1.0)\n",
            "Requirement already satisfied: urllib3>=1.21.1 in /usr/local/lib/python3.7/dist-packages (from qiskit-ibmq-provider==0.16.0->qiskit>=0.25->pennylane-qiskit) (1.24.3)\n",
            "Requirement already satisfied: requests>=2.19 in /usr/local/lib/python3.7/dist-packages (from qiskit-ibmq-provider==0.16.0->qiskit>=0.25->pennylane-qiskit) (2.23.0)\n",
            "Requirement already satisfied: python-dateutil>=2.8.0 in /usr/local/lib/python3.7/dist-packages (from qiskit-ibmq-provider==0.16.0->qiskit>=0.25->pennylane-qiskit) (2.8.2)\n",
            "Requirement already satisfied: tweedledum<2.0,>=1.1 in /usr/local/lib/python3.7/dist-packages (from qiskit-terra==0.18.1->qiskit>=0.25->pennylane-qiskit) (1.1.0)\n",
            "Requirement already satisfied: symengine>0.7 in /usr/local/lib/python3.7/dist-packages (from qiskit-terra==0.18.1->qiskit>=0.25->pennylane-qiskit) (0.7.2)\n",
            "Requirement already satisfied: python-constraint>=1.4 in /usr/local/lib/python3.7/dist-packages (from qiskit-terra==0.18.1->qiskit>=0.25->pennylane-qiskit) (1.4.0)\n",
            "Requirement already satisfied: jsonschema>=2.6 in /usr/local/lib/python3.7/dist-packages (from qiskit-terra==0.18.1->qiskit>=0.25->pennylane-qiskit) (2.6.0)\n",
            "Requirement already satisfied: dill>=0.3 in /usr/local/lib/python3.7/dist-packages (from qiskit-terra==0.18.1->qiskit>=0.25->pennylane-qiskit) (0.3.4)\n",
            "Requirement already satisfied: ply>=3.10 in /usr/local/lib/python3.7/dist-packages (from qiskit-terra==0.18.1->qiskit>=0.25->pennylane-qiskit) (3.11)\n",
            "Requirement already satisfied: fastjsonschema>=2.10 in /usr/local/lib/python3.7/dist-packages (from qiskit-terra==0.18.1->qiskit>=0.25->pennylane-qiskit) (2.15.1)\n",
            "Requirement already satisfied: six in /usr/local/lib/python3.7/dist-packages (from docplex>=2.21.207->qiskit-aqua==0.9.4->qiskit>=0.25->pennylane-qiskit) (1.16.0)\n",
            "Requirement already satisfied: cached-property in /usr/local/lib/python3.7/dist-packages (from h5py<3.3.0->qiskit-aqua==0.9.4->qiskit>=0.25->pennylane-qiskit) (1.5.2)\n",
            "Requirement already satisfied: chardet<4,>=3.0.2 in /usr/local/lib/python3.7/dist-packages (from requests>=2.19->qiskit-ibmq-provider==0.16.0->qiskit>=0.25->pennylane-qiskit) (3.0.4)\n",
            "Requirement already satisfied: idna<3,>=2.5 in /usr/local/lib/python3.7/dist-packages (from requests>=2.19->qiskit-ibmq-provider==0.16.0->qiskit>=0.25->pennylane-qiskit) (2.10)\n",
            "Requirement already satisfied: certifi>=2017.4.17 in /usr/local/lib/python3.7/dist-packages (from requests>=2.19->qiskit-ibmq-provider==0.16.0->qiskit>=0.25->pennylane-qiskit) (2021.5.30)\n",
            "Requirement already satisfied: ntlm-auth>=1.0.2 in /usr/local/lib/python3.7/dist-packages (from requests-ntlm>=1.1.0->qiskit-ibmq-provider==0.16.0->qiskit>=0.25->pennylane-qiskit) (1.5.0)\n",
            "Requirement already satisfied: cryptography>=1.3 in /usr/local/lib/python3.7/dist-packages (from requests-ntlm>=1.1.0->qiskit-ibmq-provider==0.16.0->qiskit>=0.25->pennylane-qiskit) (3.4.7)\n",
            "Requirement already satisfied: cffi>=1.12 in /usr/local/lib/python3.7/dist-packages (from cryptography>=1.3->requests-ntlm>=1.1.0->qiskit-ibmq-provider==0.16.0->qiskit>=0.25->pennylane-qiskit) (1.14.6)\n",
            "Requirement already satisfied: pycparser in /usr/local/lib/python3.7/dist-packages (from cffi>=1.12->cryptography>=1.3->requests-ntlm>=1.1.0->qiskit-ibmq-provider==0.16.0->qiskit>=0.25->pennylane-qiskit) (2.20)\n",
            "Requirement already satisfied: joblib>=0.11 in /usr/local/lib/python3.7/dist-packages (from scikit-learn>=0.20.0->qiskit-aqua==0.9.4->qiskit>=0.25->pennylane-qiskit) (1.0.1)\n",
            "Requirement already satisfied: mpmath>=0.19 in /usr/local/lib/python3.7/dist-packages (from sympy>=1.3->qiskit-aqua==0.9.4->qiskit>=0.25->pennylane-qiskit) (1.2.1)\n",
            "Requirement already satisfied: lxml>=4.5.1 in /usr/local/lib/python3.7/dist-packages (from yfinance<0.1.63->qiskit-aqua==0.9.4->qiskit>=0.25->pennylane-qiskit) (4.6.3)\n",
            "Requirement already satisfied: multitasking>=0.0.7 in /usr/local/lib/python3.7/dist-packages (from yfinance<0.1.63->qiskit-aqua==0.9.4->qiskit>=0.25->pennylane-qiskit) (0.0.9)\n",
            "Requirement already satisfied: pytz>=2017.2 in /usr/local/lib/python3.7/dist-packages (from pandas->qiskit-aqua==0.9.4->qiskit>=0.25->pennylane-qiskit) (2018.9)\n",
            "Requirement already satisfied: future>=0.15.2 in /usr/local/lib/python3.7/dist-packages (from autograd->pennylane>=0.16->pennylane-qiskit) (0.16.0)\n",
            "Requirement already satisfied: more-itertools in /usr/local/lib/python3.7/dist-packages (from quandl->qiskit-aqua==0.9.4->qiskit>=0.25->pennylane-qiskit) (8.8.0)\n",
            "Requirement already satisfied: inflection>=0.3.1 in /usr/local/lib/python3.7/dist-packages (from quandl->qiskit-aqua==0.9.4->qiskit>=0.25->pennylane-qiskit) (0.5.1)\n"
          ]
        }
      ]
    },
    {
      "cell_type": "code",
      "metadata": {
        "colab": {
          "base_uri": "https://localhost:8080/"
        },
        "id": "4Pyh9eWtFP7k",
        "outputId": "0c9795f0-bde5-4bf8-f6bf-1730a3e42ffd"
      },
      "source": [
        "pip install pennylane-cirq"
      ],
      "execution_count": null,
      "outputs": [
        {
          "name": "stdout",
          "output_type": "stream",
          "text": [
            "Requirement already satisfied: pennylane-cirq in /usr/local/lib/python3.7/dist-packages (0.16.0)\n",
            "Requirement already satisfied: cirq>=0.9 in /usr/local/lib/python3.7/dist-packages (from pennylane-cirq) (0.12.0)\n",
            "Requirement already satisfied: pennylane>=0.16 in /usr/local/lib/python3.7/dist-packages (from pennylane-cirq) (0.16.0)\n",
            "Requirement already satisfied: cirq-rigetti==0.12.0 in /usr/local/lib/python3.7/dist-packages (from cirq>=0.9->pennylane-cirq) (0.12.0)\n",
            "Requirement already satisfied: cirq-web==0.12.0 in /usr/local/lib/python3.7/dist-packages (from cirq>=0.9->pennylane-cirq) (0.12.0)\n",
            "Requirement already satisfied: cirq-aqt==0.12.0 in /usr/local/lib/python3.7/dist-packages (from cirq>=0.9->pennylane-cirq) (0.12.0)\n",
            "Requirement already satisfied: cirq-core==0.12.0 in /usr/local/lib/python3.7/dist-packages (from cirq>=0.9->pennylane-cirq) (0.12.0)\n",
            "Requirement already satisfied: cirq-google==0.12.0 in /usr/local/lib/python3.7/dist-packages (from cirq>=0.9->pennylane-cirq) (0.12.0)\n",
            "Requirement already satisfied: cirq-ionq==0.12.0 in /usr/local/lib/python3.7/dist-packages (from cirq>=0.9->pennylane-cirq) (0.12.0)\n",
            "Requirement already satisfied: cirq-pasqal==0.12.0 in /usr/local/lib/python3.7/dist-packages (from cirq>=0.9->pennylane-cirq) (0.12.0)\n",
            "Requirement already satisfied: requests~=2.18 in /usr/local/lib/python3.7/dist-packages (from cirq-aqt==0.12.0->cirq>=0.9->pennylane-cirq) (2.23.0)\n",
            "Requirement already satisfied: matplotlib~=3.0 in /usr/local/lib/python3.7/dist-packages (from cirq-core==0.12.0->cirq>=0.9->pennylane-cirq) (3.2.2)\n",
            "Requirement already satisfied: tqdm in /usr/local/lib/python3.7/dist-packages (from cirq-core==0.12.0->cirq>=0.9->pennylane-cirq) (4.62.0)\n",
            "Requirement already satisfied: pandas in /usr/local/lib/python3.7/dist-packages (from cirq-core==0.12.0->cirq>=0.9->pennylane-cirq) (1.1.5)\n",
            "Requirement already satisfied: typing-extensions in /usr/local/lib/python3.7/dist-packages (from cirq-core==0.12.0->cirq>=0.9->pennylane-cirq) (3.7.4.3)\n",
            "Requirement already satisfied: scipy in /usr/local/lib/python3.7/dist-packages (from cirq-core==0.12.0->cirq>=0.9->pennylane-cirq) (1.7.1)\n",
            "Requirement already satisfied: networkx~=2.4 in /usr/local/lib/python3.7/dist-packages (from cirq-core==0.12.0->cirq>=0.9->pennylane-cirq) (2.6.2)\n",
            "Requirement already satisfied: sortedcontainers~=2.0 in /usr/local/lib/python3.7/dist-packages (from cirq-core==0.12.0->cirq>=0.9->pennylane-cirq) (2.4.0)\n",
            "Requirement already satisfied: numpy~=1.16 in /usr/local/lib/python3.7/dist-packages (from cirq-core==0.12.0->cirq>=0.9->pennylane-cirq) (1.21.2)\n",
            "Requirement already satisfied: sympy in /usr/local/lib/python3.7/dist-packages (from cirq-core==0.12.0->cirq>=0.9->pennylane-cirq) (1.7.1)\n",
            "Requirement already satisfied: protobuf~=3.13.0 in /usr/local/lib/python3.7/dist-packages (from cirq-google==0.12.0->cirq>=0.9->pennylane-cirq) (3.13.0)\n",
            "Requirement already satisfied: google-api-core[grpc]<2.0.0dev,>=1.14.0 in /usr/local/lib/python3.7/dist-packages (from cirq-google==0.12.0->cirq>=0.9->pennylane-cirq) (1.26.3)\n",
            "Requirement already satisfied: pyjwt~=1.7.1 in /usr/local/lib/python3.7/dist-packages (from cirq-rigetti==0.12.0->cirq>=0.9->pennylane-cirq) (1.7.1)\n",
            "Requirement already satisfied: python-dateutil~=2.8.1 in /usr/local/lib/python3.7/dist-packages (from cirq-rigetti==0.12.0->cirq>=0.9->pennylane-cirq) (2.8.2)\n",
            "Requirement already satisfied: rfc3986~=1.5.0 in /usr/local/lib/python3.7/dist-packages (from cirq-rigetti==0.12.0->cirq>=0.9->pennylane-cirq) (1.5.0)\n",
            "Requirement already satisfied: httpcore~=0.11.1 in /usr/local/lib/python3.7/dist-packages (from cirq-rigetti==0.12.0->cirq>=0.9->pennylane-cirq) (0.11.1)\n",
            "Requirement already satisfied: rfc3339~=6.2 in /usr/local/lib/python3.7/dist-packages (from cirq-rigetti==0.12.0->cirq>=0.9->pennylane-cirq) (6.2)\n",
            "Requirement already satisfied: h11~=0.9.0 in /usr/local/lib/python3.7/dist-packages (from cirq-rigetti==0.12.0->cirq>=0.9->pennylane-cirq) (0.9.0)\n",
            "Requirement already satisfied: qcs-api-client~=0.8.0 in /usr/local/lib/python3.7/dist-packages (from cirq-rigetti==0.12.0->cirq>=0.9->pennylane-cirq) (0.8.0)\n",
            "Requirement already satisfied: toml~=0.10.2 in /usr/local/lib/python3.7/dist-packages (from cirq-rigetti==0.12.0->cirq>=0.9->pennylane-cirq) (0.10.2)\n",
            "Requirement already satisfied: idna~=2.10 in /usr/local/lib/python3.7/dist-packages (from cirq-rigetti==0.12.0->cirq>=0.9->pennylane-cirq) (2.10)\n",
            "Requirement already satisfied: attrs~=20.3.0 in /usr/local/lib/python3.7/dist-packages (from cirq-rigetti==0.12.0->cirq>=0.9->pennylane-cirq) (20.3.0)\n",
            "Requirement already satisfied: retrying~=1.3.3 in /usr/local/lib/python3.7/dist-packages (from cirq-rigetti==0.12.0->cirq>=0.9->pennylane-cirq) (1.3.3)\n",
            "Requirement already satisfied: pyquil~=3.0.0 in /usr/local/lib/python3.7/dist-packages (from cirq-rigetti==0.12.0->cirq>=0.9->pennylane-cirq) (3.0.0)\n",
            "Requirement already satisfied: certifi~=2021.5.30 in /usr/local/lib/python3.7/dist-packages (from cirq-rigetti==0.12.0->cirq>=0.9->pennylane-cirq) (2021.5.30)\n",
            "Requirement already satisfied: six~=1.16.0 in /usr/local/lib/python3.7/dist-packages (from cirq-rigetti==0.12.0->cirq>=0.9->pennylane-cirq) (1.16.0)\n",
            "Requirement already satisfied: httpx~=0.15.5 in /usr/local/lib/python3.7/dist-packages (from cirq-rigetti==0.12.0->cirq>=0.9->pennylane-cirq) (0.15.5)\n",
            "Requirement already satisfied: sniffio~=1.2.0 in /usr/local/lib/python3.7/dist-packages (from cirq-rigetti==0.12.0->cirq>=0.9->pennylane-cirq) (1.2.0)\n",
            "Requirement already satisfied: iso8601~=0.1.14 in /usr/local/lib/python3.7/dist-packages (from cirq-rigetti==0.12.0->cirq>=0.9->pennylane-cirq) (0.1.16)\n",
            "Requirement already satisfied: pydantic~=1.8.2 in /usr/local/lib/python3.7/dist-packages (from cirq-rigetti==0.12.0->cirq>=0.9->pennylane-cirq) (1.8.2)\n",
            "Requirement already satisfied: google-auth<2.0dev,>=1.21.1 in /usr/local/lib/python3.7/dist-packages (from google-api-core[grpc]<2.0.0dev,>=1.14.0->cirq-google==0.12.0->cirq>=0.9->pennylane-cirq) (1.34.0)\n",
            "Requirement already satisfied: setuptools>=40.3.0 in /usr/local/lib/python3.7/dist-packages (from google-api-core[grpc]<2.0.0dev,>=1.14.0->cirq-google==0.12.0->cirq>=0.9->pennylane-cirq) (57.4.0)\n",
            "Requirement already satisfied: googleapis-common-protos<2.0dev,>=1.6.0 in /usr/local/lib/python3.7/dist-packages (from google-api-core[grpc]<2.0.0dev,>=1.14.0->cirq-google==0.12.0->cirq>=0.9->pennylane-cirq) (1.53.0)\n",
            "Requirement already satisfied: packaging>=14.3 in /usr/local/lib/python3.7/dist-packages (from google-api-core[grpc]<2.0.0dev,>=1.14.0->cirq-google==0.12.0->cirq>=0.9->pennylane-cirq) (21.0)\n",
            "Requirement already satisfied: pytz in /usr/local/lib/python3.7/dist-packages (from google-api-core[grpc]<2.0.0dev,>=1.14.0->cirq-google==0.12.0->cirq>=0.9->pennylane-cirq) (2018.9)\n",
            "Requirement already satisfied: grpcio<2.0dev,>=1.29.0 in /usr/local/lib/python3.7/dist-packages (from google-api-core[grpc]<2.0.0dev,>=1.14.0->cirq-google==0.12.0->cirq>=0.9->pennylane-cirq) (1.34.1)\n",
            "Requirement already satisfied: rsa<5,>=3.1.4 in /usr/local/lib/python3.7/dist-packages (from google-auth<2.0dev,>=1.21.1->google-api-core[grpc]<2.0.0dev,>=1.14.0->cirq-google==0.12.0->cirq>=0.9->pennylane-cirq) (4.7.2)\n",
            "Requirement already satisfied: pyasn1-modules>=0.2.1 in /usr/local/lib/python3.7/dist-packages (from google-auth<2.0dev,>=1.21.1->google-api-core[grpc]<2.0.0dev,>=1.14.0->cirq-google==0.12.0->cirq>=0.9->pennylane-cirq) (0.2.8)\n",
            "Requirement already satisfied: cachetools<5.0,>=2.0.0 in /usr/local/lib/python3.7/dist-packages (from google-auth<2.0dev,>=1.21.1->google-api-core[grpc]<2.0.0dev,>=1.14.0->cirq-google==0.12.0->cirq>=0.9->pennylane-cirq) (4.2.2)\n",
            "Requirement already satisfied: cycler>=0.10 in /usr/local/lib/python3.7/dist-packages (from matplotlib~=3.0->cirq-core==0.12.0->cirq>=0.9->pennylane-cirq) (0.10.0)\n",
            "Requirement already satisfied: kiwisolver>=1.0.1 in /usr/local/lib/python3.7/dist-packages (from matplotlib~=3.0->cirq-core==0.12.0->cirq>=0.9->pennylane-cirq) (1.3.1)\n",
            "Requirement already satisfied: pyparsing!=2.0.4,!=2.1.2,!=2.1.6,>=2.0.1 in /usr/local/lib/python3.7/dist-packages (from matplotlib~=3.0->cirq-core==0.12.0->cirq>=0.9->pennylane-cirq) (2.4.7)\n",
            "Requirement already satisfied: autoray in /usr/local/lib/python3.7/dist-packages (from pennylane>=0.16->pennylane-cirq) (0.2.5)\n",
            "Requirement already satisfied: appdirs in /usr/local/lib/python3.7/dist-packages (from pennylane>=0.16->pennylane-cirq) (1.4.4)\n",
            "Requirement already satisfied: semantic-version==2.6 in /usr/local/lib/python3.7/dist-packages (from pennylane>=0.16->pennylane-cirq) (2.6.0)\n",
            "Requirement already satisfied: autograd in /usr/local/lib/python3.7/dist-packages (from pennylane>=0.16->pennylane-cirq) (1.3)\n",
            "Requirement already satisfied: pyasn1<0.5.0,>=0.4.6 in /usr/local/lib/python3.7/dist-packages (from pyasn1-modules>=0.2.1->google-auth<2.0dev,>=1.21.1->google-api-core[grpc]<2.0.0dev,>=1.14.0->cirq-google==0.12.0->cirq>=0.9->pennylane-cirq) (0.4.8)\n",
            "Requirement already satisfied: lark<0.12.0,>=0.11.1 in /usr/local/lib/python3.7/dist-packages (from pyquil~=3.0.0->cirq-rigetti==0.12.0->cirq>=0.9->pennylane-cirq) (0.11.3)\n",
            "Requirement already satisfied: retry<0.10.0,>=0.9.2 in /usr/local/lib/python3.7/dist-packages (from pyquil~=3.0.0->cirq-rigetti==0.12.0->cirq>=0.9->pennylane-cirq) (0.9.2)\n",
            "Requirement already satisfied: importlib-metadata<4.0.0,>=3.7.3 in /usr/local/lib/python3.7/dist-packages (from pyquil~=3.0.0->cirq-rigetti==0.12.0->cirq>=0.9->pennylane-cirq) (3.10.1)\n",
            "Requirement already satisfied: rpcq<4.0.0,>=3.6.0 in /usr/local/lib/python3.7/dist-packages (from pyquil~=3.0.0->cirq-rigetti==0.12.0->cirq>=0.9->pennylane-cirq) (3.9.2)\n",
            "Requirement already satisfied: zipp>=0.5 in /usr/local/lib/python3.7/dist-packages (from importlib-metadata<4.0.0,>=3.7.3->pyquil~=3.0.0->cirq-rigetti==0.12.0->cirq>=0.9->pennylane-cirq) (3.5.0)\n",
            "Requirement already satisfied: chardet<4,>=3.0.2 in /usr/local/lib/python3.7/dist-packages (from requests~=2.18->cirq-aqt==0.12.0->cirq>=0.9->pennylane-cirq) (3.0.4)\n",
            "Requirement already satisfied: urllib3!=1.25.0,!=1.25.1,<1.26,>=1.21.1 in /usr/local/lib/python3.7/dist-packages (from requests~=2.18->cirq-aqt==0.12.0->cirq>=0.9->pennylane-cirq) (1.24.3)\n",
            "Requirement already satisfied: decorator>=3.4.2 in /usr/local/lib/python3.7/dist-packages (from retry<0.10.0,>=0.9.2->pyquil~=3.0.0->cirq-rigetti==0.12.0->cirq>=0.9->pennylane-cirq) (4.4.2)\n",
            "Requirement already satisfied: py<2.0.0,>=1.4.26 in /usr/local/lib/python3.7/dist-packages (from retry<0.10.0,>=0.9.2->pyquil~=3.0.0->cirq-rigetti==0.12.0->cirq>=0.9->pennylane-cirq) (1.10.0)\n",
            "Requirement already satisfied: ruamel.yaml in /usr/local/lib/python3.7/dist-packages (from rpcq<4.0.0,>=3.6.0->pyquil~=3.0.0->cirq-rigetti==0.12.0->cirq>=0.9->pennylane-cirq) (0.17.10)\n",
            "Requirement already satisfied: python-rapidjson in /usr/local/lib/python3.7/dist-packages (from rpcq<4.0.0,>=3.6.0->pyquil~=3.0.0->cirq-rigetti==0.12.0->cirq>=0.9->pennylane-cirq) (1.4)\n",
            "Requirement already satisfied: pyzmq>=17 in /usr/local/lib/python3.7/dist-packages (from rpcq<4.0.0,>=3.6.0->pyquil~=3.0.0->cirq-rigetti==0.12.0->cirq>=0.9->pennylane-cirq) (22.2.1)\n",
            "Requirement already satisfied: msgpack<1.0,>=0.6 in /usr/local/lib/python3.7/dist-packages (from rpcq<4.0.0,>=3.6.0->pyquil~=3.0.0->cirq-rigetti==0.12.0->cirq>=0.9->pennylane-cirq) (0.6.2)\n",
            "Requirement already satisfied: future>=0.15.2 in /usr/local/lib/python3.7/dist-packages (from autograd->pennylane>=0.16->pennylane-cirq) (0.16.0)\n",
            "Requirement already satisfied: ruamel.yaml.clib>=0.1.2 in /usr/local/lib/python3.7/dist-packages (from ruamel.yaml->rpcq<4.0.0,>=3.6.0->pyquil~=3.0.0->cirq-rigetti==0.12.0->cirq>=0.9->pennylane-cirq) (0.2.6)\n",
            "Requirement already satisfied: mpmath>=0.19 in /usr/local/lib/python3.7/dist-packages (from sympy->cirq-core==0.12.0->cirq>=0.9->pennylane-cirq) (1.2.1)\n"
          ]
        }
      ]
    },
    {
      "cell_type": "code",
      "metadata": {
        "colab": {
          "base_uri": "https://localhost:8080/"
        },
        "id": "A-WR0WPjVyQh",
        "outputId": "59028482-bc4d-42c1-fb44-50cf0f319194"
      },
      "source": [
        "pip install pennylane-forest"
      ],
      "execution_count": null,
      "outputs": [
        {
          "name": "stdout",
          "output_type": "stream",
          "text": [
            "Collecting pennylane-forest\n",
            "  Downloading PennyLane_Forest-0.16.0-py3-none-any.whl (27 kB)\n",
            "Requirement already satisfied: pennylane>=0.15 in /usr/local/lib/python3.7/dist-packages (from pennylane-forest) (0.16.0)\n",
            "Requirement already satisfied: pyquil>=2.16 in /usr/local/lib/python3.7/dist-packages (from pennylane-forest) (3.0.0)\n",
            "Requirement already satisfied: toml in /usr/local/lib/python3.7/dist-packages (from pennylane>=0.15->pennylane-forest) (0.10.2)\n",
            "Requirement already satisfied: numpy in /usr/local/lib/python3.7/dist-packages (from pennylane>=0.15->pennylane-forest) (1.21.2)\n",
            "Requirement already satisfied: semantic-version==2.6 in /usr/local/lib/python3.7/dist-packages (from pennylane>=0.15->pennylane-forest) (2.6.0)\n",
            "Requirement already satisfied: networkx in /usr/local/lib/python3.7/dist-packages (from pennylane>=0.15->pennylane-forest) (2.6.2)\n",
            "Requirement already satisfied: scipy in /usr/local/lib/python3.7/dist-packages (from pennylane>=0.15->pennylane-forest) (1.7.1)\n",
            "Requirement already satisfied: autograd in /usr/local/lib/python3.7/dist-packages (from pennylane>=0.15->pennylane-forest) (1.3)\n",
            "Requirement already satisfied: appdirs in /usr/local/lib/python3.7/dist-packages (from pennylane>=0.15->pennylane-forest) (1.4.4)\n",
            "Requirement already satisfied: autoray in /usr/local/lib/python3.7/dist-packages (from pennylane>=0.15->pennylane-forest) (0.2.5)\n",
            "Requirement already satisfied: retry<0.10.0,>=0.9.2 in /usr/local/lib/python3.7/dist-packages (from pyquil>=2.16->pennylane-forest) (0.9.2)\n",
            "Requirement already satisfied: rpcq<4.0.0,>=3.6.0 in /usr/local/lib/python3.7/dist-packages (from pyquil>=2.16->pennylane-forest) (3.9.2)\n",
            "Requirement already satisfied: qcs-api-client<0.9.0,>=0.8.0 in /usr/local/lib/python3.7/dist-packages (from pyquil>=2.16->pennylane-forest) (0.8.0)\n",
            "Requirement already satisfied: lark<0.12.0,>=0.11.1 in /usr/local/lib/python3.7/dist-packages (from pyquil>=2.16->pennylane-forest) (0.11.3)\n",
            "Requirement already satisfied: importlib-metadata<4.0.0,>=3.7.3 in /usr/local/lib/python3.7/dist-packages (from pyquil>=2.16->pennylane-forest) (3.10.1)\n",
            "Requirement already satisfied: typing-extensions>=3.6.4 in /usr/local/lib/python3.7/dist-packages (from importlib-metadata<4.0.0,>=3.7.3->pyquil>=2.16->pennylane-forest) (3.7.4.3)\n",
            "Requirement already satisfied: zipp>=0.5 in /usr/local/lib/python3.7/dist-packages (from importlib-metadata<4.0.0,>=3.7.3->pyquil>=2.16->pennylane-forest) (3.5.0)\n",
            "Requirement already satisfied: python-dateutil<3.0.0,>=2.8.1 in /usr/local/lib/python3.7/dist-packages (from qcs-api-client<0.9.0,>=0.8.0->pyquil>=2.16->pennylane-forest) (2.8.2)\n",
            "Requirement already satisfied: attrs<21.0.0,>=20.1.0 in /usr/local/lib/python3.7/dist-packages (from qcs-api-client<0.9.0,>=0.8.0->pyquil>=2.16->pennylane-forest) (20.3.0)\n",
            "Requirement already satisfied: retrying<2.0.0,>=1.3.3 in /usr/local/lib/python3.7/dist-packages (from qcs-api-client<0.9.0,>=0.8.0->pyquil>=2.16->pennylane-forest) (1.3.3)\n",
            "Requirement already satisfied: pydantic<2.0.0,>=1.7.2 in /usr/local/lib/python3.7/dist-packages (from qcs-api-client<0.9.0,>=0.8.0->pyquil>=2.16->pennylane-forest) (1.8.2)\n",
            "Requirement already satisfied: pyjwt<2.0.0,>=1.7.1 in /usr/local/lib/python3.7/dist-packages (from qcs-api-client<0.9.0,>=0.8.0->pyquil>=2.16->pennylane-forest) (1.7.1)\n",
            "Requirement already satisfied: iso8601<0.2.0,>=0.1.13 in /usr/local/lib/python3.7/dist-packages (from qcs-api-client<0.9.0,>=0.8.0->pyquil>=2.16->pennylane-forest) (0.1.16)\n",
            "Requirement already satisfied: httpx<0.16.0,>=0.15.0 in /usr/local/lib/python3.7/dist-packages (from qcs-api-client<0.9.0,>=0.8.0->pyquil>=2.16->pennylane-forest) (0.15.5)\n",
            "Requirement already satisfied: rfc3339<7.0,>=6.2 in /usr/local/lib/python3.7/dist-packages (from qcs-api-client<0.9.0,>=0.8.0->pyquil>=2.16->pennylane-forest) (6.2)\n",
            "Requirement already satisfied: rfc3986[idna2008]<2,>=1.3 in /usr/local/lib/python3.7/dist-packages (from httpx<0.16.0,>=0.15.0->qcs-api-client<0.9.0,>=0.8.0->pyquil>=2.16->pennylane-forest) (1.5.0)\n",
            "Requirement already satisfied: httpcore==0.11.* in /usr/local/lib/python3.7/dist-packages (from httpx<0.16.0,>=0.15.0->qcs-api-client<0.9.0,>=0.8.0->pyquil>=2.16->pennylane-forest) (0.11.1)\n",
            "Requirement already satisfied: certifi in /usr/local/lib/python3.7/dist-packages (from httpx<0.16.0,>=0.15.0->qcs-api-client<0.9.0,>=0.8.0->pyquil>=2.16->pennylane-forest) (2021.5.30)\n",
            "Requirement already satisfied: sniffio in /usr/local/lib/python3.7/dist-packages (from httpx<0.16.0,>=0.15.0->qcs-api-client<0.9.0,>=0.8.0->pyquil>=2.16->pennylane-forest) (1.2.0)\n",
            "Requirement already satisfied: h11<0.10,>=0.8 in /usr/local/lib/python3.7/dist-packages (from httpcore==0.11.*->httpx<0.16.0,>=0.15.0->qcs-api-client<0.9.0,>=0.8.0->pyquil>=2.16->pennylane-forest) (0.9.0)\n",
            "Requirement already satisfied: six>=1.5 in /usr/local/lib/python3.7/dist-packages (from python-dateutil<3.0.0,>=2.8.1->qcs-api-client<0.9.0,>=0.8.0->pyquil>=2.16->pennylane-forest) (1.16.0)\n",
            "Requirement already satisfied: decorator>=3.4.2 in /usr/local/lib/python3.7/dist-packages (from retry<0.10.0,>=0.9.2->pyquil>=2.16->pennylane-forest) (4.4.2)\n",
            "Requirement already satisfied: py<2.0.0,>=1.4.26 in /usr/local/lib/python3.7/dist-packages (from retry<0.10.0,>=0.9.2->pyquil>=2.16->pennylane-forest) (1.10.0)\n",
            "Requirement already satisfied: idna in /usr/local/lib/python3.7/dist-packages (from rfc3986[idna2008]<2,>=1.3->httpx<0.16.0,>=0.15.0->qcs-api-client<0.9.0,>=0.8.0->pyquil>=2.16->pennylane-forest) (2.10)\n",
            "Requirement already satisfied: ruamel.yaml in /usr/local/lib/python3.7/dist-packages (from rpcq<4.0.0,>=3.6.0->pyquil>=2.16->pennylane-forest) (0.17.10)\n",
            "Requirement already satisfied: msgpack<1.0,>=0.6 in /usr/local/lib/python3.7/dist-packages (from rpcq<4.0.0,>=3.6.0->pyquil>=2.16->pennylane-forest) (0.6.2)\n",
            "Requirement already satisfied: python-rapidjson in /usr/local/lib/python3.7/dist-packages (from rpcq<4.0.0,>=3.6.0->pyquil>=2.16->pennylane-forest) (1.4)\n",
            "Requirement already satisfied: pyzmq>=17 in /usr/local/lib/python3.7/dist-packages (from rpcq<4.0.0,>=3.6.0->pyquil>=2.16->pennylane-forest) (22.2.1)\n",
            "Requirement already satisfied: future>=0.15.2 in /usr/local/lib/python3.7/dist-packages (from autograd->pennylane>=0.15->pennylane-forest) (0.16.0)\n",
            "Requirement already satisfied: ruamel.yaml.clib>=0.1.2 in /usr/local/lib/python3.7/dist-packages (from ruamel.yaml->rpcq<4.0.0,>=3.6.0->pyquil>=2.16->pennylane-forest) (0.2.6)\n",
            "Installing collected packages: pennylane-forest\n",
            "Successfully installed pennylane-forest-0.16.0\n"
          ]
        }
      ]
    },
    {
      "cell_type": "code",
      "metadata": {
        "colab": {
          "base_uri": "https://localhost:8080/"
        },
        "id": "5zWhCum-nm1U",
        "outputId": "7f8cd220-5680-4210-c6be-69b6b6a856e7"
      },
      "source": [
        "pip install pyquil"
      ],
      "execution_count": null,
      "outputs": [
        {
          "name": "stdout",
          "output_type": "stream",
          "text": [
            "Requirement already satisfied: pyquil in /usr/local/lib/python3.7/dist-packages (3.0.0)\n",
            "Requirement already satisfied: numpy<2.0,>=1.20 in /usr/local/lib/python3.7/dist-packages (from pyquil) (1.21.2)\n",
            "Requirement already satisfied: retry<0.10.0,>=0.9.2 in /usr/local/lib/python3.7/dist-packages (from pyquil) (0.9.2)\n",
            "Requirement already satisfied: importlib-metadata<4.0.0,>=3.7.3 in /usr/local/lib/python3.7/dist-packages (from pyquil) (3.10.1)\n",
            "Requirement already satisfied: networkx<3.0,>=2.5 in /usr/local/lib/python3.7/dist-packages (from pyquil) (2.6.2)\n",
            "Requirement already satisfied: lark<0.12.0,>=0.11.1 in /usr/local/lib/python3.7/dist-packages (from pyquil) (0.11.3)\n",
            "Requirement already satisfied: rpcq<4.0.0,>=3.6.0 in /usr/local/lib/python3.7/dist-packages (from pyquil) (3.9.2)\n",
            "Requirement already satisfied: qcs-api-client<0.9.0,>=0.8.0 in /usr/local/lib/python3.7/dist-packages (from pyquil) (0.8.0)\n",
            "Requirement already satisfied: scipy<2.0.0,>=1.6.1 in /usr/local/lib/python3.7/dist-packages (from pyquil) (1.7.1)\n",
            "Requirement already satisfied: zipp>=0.5 in /usr/local/lib/python3.7/dist-packages (from importlib-metadata<4.0.0,>=3.7.3->pyquil) (3.5.0)\n",
            "Requirement already satisfied: typing-extensions>=3.6.4 in /usr/local/lib/python3.7/dist-packages (from importlib-metadata<4.0.0,>=3.7.3->pyquil) (3.7.4.3)\n",
            "Requirement already satisfied: toml<0.11.0,>=0.10.2 in /usr/local/lib/python3.7/dist-packages (from qcs-api-client<0.9.0,>=0.8.0->pyquil) (0.10.2)\n",
            "Requirement already satisfied: rfc3339<7.0,>=6.2 in /usr/local/lib/python3.7/dist-packages (from qcs-api-client<0.9.0,>=0.8.0->pyquil) (6.2)\n",
            "Requirement already satisfied: httpx<0.16.0,>=0.15.0 in /usr/local/lib/python3.7/dist-packages (from qcs-api-client<0.9.0,>=0.8.0->pyquil) (0.15.5)\n",
            "Requirement already satisfied: attrs<21.0.0,>=20.1.0 in /usr/local/lib/python3.7/dist-packages (from qcs-api-client<0.9.0,>=0.8.0->pyquil) (20.3.0)\n",
            "Requirement already satisfied: python-dateutil<3.0.0,>=2.8.1 in /usr/local/lib/python3.7/dist-packages (from qcs-api-client<0.9.0,>=0.8.0->pyquil) (2.8.2)\n",
            "Requirement already satisfied: retrying<2.0.0,>=1.3.3 in /usr/local/lib/python3.7/dist-packages (from qcs-api-client<0.9.0,>=0.8.0->pyquil) (1.3.3)\n",
            "Requirement already satisfied: iso8601<0.2.0,>=0.1.13 in /usr/local/lib/python3.7/dist-packages (from qcs-api-client<0.9.0,>=0.8.0->pyquil) (0.1.16)\n",
            "Requirement already satisfied: pyjwt<2.0.0,>=1.7.1 in /usr/local/lib/python3.7/dist-packages (from qcs-api-client<0.9.0,>=0.8.0->pyquil) (1.7.1)\n",
            "Requirement already satisfied: pydantic<2.0.0,>=1.7.2 in /usr/local/lib/python3.7/dist-packages (from qcs-api-client<0.9.0,>=0.8.0->pyquil) (1.8.2)\n",
            "Requirement already satisfied: rfc3986[idna2008]<2,>=1.3 in /usr/local/lib/python3.7/dist-packages (from httpx<0.16.0,>=0.15.0->qcs-api-client<0.9.0,>=0.8.0->pyquil) (1.5.0)\n",
            "Requirement already satisfied: sniffio in /usr/local/lib/python3.7/dist-packages (from httpx<0.16.0,>=0.15.0->qcs-api-client<0.9.0,>=0.8.0->pyquil) (1.2.0)\n",
            "Requirement already satisfied: httpcore==0.11.* in /usr/local/lib/python3.7/dist-packages (from httpx<0.16.0,>=0.15.0->qcs-api-client<0.9.0,>=0.8.0->pyquil) (0.11.1)\n",
            "Requirement already satisfied: certifi in /usr/local/lib/python3.7/dist-packages (from httpx<0.16.0,>=0.15.0->qcs-api-client<0.9.0,>=0.8.0->pyquil) (2021.5.30)\n",
            "Requirement already satisfied: h11<0.10,>=0.8 in /usr/local/lib/python3.7/dist-packages (from httpcore==0.11.*->httpx<0.16.0,>=0.15.0->qcs-api-client<0.9.0,>=0.8.0->pyquil) (0.9.0)\n",
            "Requirement already satisfied: six>=1.5 in /usr/local/lib/python3.7/dist-packages (from python-dateutil<3.0.0,>=2.8.1->qcs-api-client<0.9.0,>=0.8.0->pyquil) (1.16.0)\n",
            "Requirement already satisfied: decorator>=3.4.2 in /usr/local/lib/python3.7/dist-packages (from retry<0.10.0,>=0.9.2->pyquil) (4.4.2)\n",
            "Requirement already satisfied: py<2.0.0,>=1.4.26 in /usr/local/lib/python3.7/dist-packages (from retry<0.10.0,>=0.9.2->pyquil) (1.10.0)\n",
            "Requirement already satisfied: idna in /usr/local/lib/python3.7/dist-packages (from rfc3986[idna2008]<2,>=1.3->httpx<0.16.0,>=0.15.0->qcs-api-client<0.9.0,>=0.8.0->pyquil) (2.10)\n",
            "Requirement already satisfied: ruamel.yaml in /usr/local/lib/python3.7/dist-packages (from rpcq<4.0.0,>=3.6.0->pyquil) (0.17.10)\n",
            "Requirement already satisfied: msgpack<1.0,>=0.6 in /usr/local/lib/python3.7/dist-packages (from rpcq<4.0.0,>=3.6.0->pyquil) (0.6.2)\n",
            "Requirement already satisfied: python-rapidjson in /usr/local/lib/python3.7/dist-packages (from rpcq<4.0.0,>=3.6.0->pyquil) (1.4)\n",
            "Requirement already satisfied: pyzmq>=17 in /usr/local/lib/python3.7/dist-packages (from rpcq<4.0.0,>=3.6.0->pyquil) (22.2.1)\n",
            "Requirement already satisfied: ruamel.yaml.clib>=0.1.2 in /usr/local/lib/python3.7/dist-packages (from ruamel.yaml->rpcq<4.0.0,>=3.6.0->pyquil) (0.2.6)\n"
          ]
        }
      ]
    },
    {
      "cell_type": "code",
      "metadata": {
        "colab": {
          "base_uri": "https://localhost:8080/"
        },
        "id": "mBdT1JoLn8zv",
        "outputId": "1faaefee-56d3-4003-e283-8124de445686"
      },
      "source": [
        " pip install ruamel.yaml"
      ],
      "execution_count": null,
      "outputs": [
        {
          "name": "stdout",
          "output_type": "stream",
          "text": [
            "Requirement already satisfied: ruamel.yaml in /usr/local/lib/python3.7/dist-packages (0.17.10)\n",
            "Requirement already satisfied: ruamel.yaml.clib>=0.1.2 in /usr/local/lib/python3.7/dist-packages (from ruamel.yaml) (0.2.6)\n"
          ]
        }
      ]
    },
    {
      "cell_type": "code",
      "metadata": {
        "colab": {
          "base_uri": "https://localhost:8080/"
        },
        "id": "nF-IevC6oDSl",
        "outputId": "f9aaa748-8675-4fa2-fe08-6d90ffcee709"
      },
      "source": [
        "pip install git+https://github.com/rigetti/pennylane-forest.git"
      ],
      "execution_count": null,
      "outputs": [
        {
          "name": "stdout",
          "output_type": "stream",
          "text": [
            "Collecting git+https://github.com/rigetti/pennylane-forest.git\n",
            "  Cloning https://github.com/rigetti/pennylane-forest.git to /tmp/pip-req-build-r3y0072v\n",
            "  Running command git clone -q https://github.com/rigetti/pennylane-forest.git /tmp/pip-req-build-r3y0072v\n",
            "Collecting pennylane@ git+https://github.com/PennyLaneAI/pennylane.git@master\n",
            "  Cloning https://github.com/PennyLaneAI/pennylane.git (to revision master) to /tmp/pip-install-0sms08t4/pennylane_14686eb20684406596dae163dce6a8f8\n",
            "  Running command git clone -q https://github.com/PennyLaneAI/pennylane.git /tmp/pip-install-0sms08t4/pennylane_14686eb20684406596dae163dce6a8f8\n",
            "Collecting pyquil<2.28.3,>=2.16\n",
            "  Downloading pyquil-2.28.2.tar.gz (200 kB)\n",
            "\u001b[K     |████████████████████████████████| 200 kB 15.2 MB/s \n",
            "\u001b[?25h  Installing build dependencies ... \u001b[?25l\u001b[?25hdone\n",
            "  Getting requirements to build wheel ... \u001b[?25l\u001b[?25hdone\n",
            "    Preparing wheel metadata ... \u001b[?25l\u001b[?25hdone\n",
            "Requirement already satisfied: numpy in /usr/local/lib/python3.7/dist-packages (from pennylane@ git+https://github.com/PennyLaneAI/pennylane.git@master->PennyLane-Forest==0.17.0) (1.21.2)\n",
            "Requirement already satisfied: scipy in /usr/local/lib/python3.7/dist-packages (from pennylane@ git+https://github.com/PennyLaneAI/pennylane.git@master->PennyLane-Forest==0.17.0) (1.7.1)\n",
            "Requirement already satisfied: networkx in /usr/local/lib/python3.7/dist-packages (from pennylane@ git+https://github.com/PennyLaneAI/pennylane.git@master->PennyLane-Forest==0.17.0) (2.6.2)\n",
            "Requirement already satisfied: autograd in /usr/local/lib/python3.7/dist-packages (from pennylane@ git+https://github.com/PennyLaneAI/pennylane.git@master->PennyLane-Forest==0.17.0) (1.3)\n",
            "Requirement already satisfied: toml in /usr/local/lib/python3.7/dist-packages (from pennylane@ git+https://github.com/PennyLaneAI/pennylane.git@master->PennyLane-Forest==0.17.0) (0.10.2)\n",
            "Requirement already satisfied: appdirs in /usr/local/lib/python3.7/dist-packages (from pennylane@ git+https://github.com/PennyLaneAI/pennylane.git@master->PennyLane-Forest==0.17.0) (1.4.4)\n",
            "Requirement already satisfied: semantic_version==2.6 in /usr/local/lib/python3.7/dist-packages (from pennylane@ git+https://github.com/PennyLaneAI/pennylane.git@master->PennyLane-Forest==0.17.0) (2.6.0)\n",
            "Requirement already satisfied: autoray in /usr/local/lib/python3.7/dist-packages (from pennylane@ git+https://github.com/PennyLaneAI/pennylane.git@master->PennyLane-Forest==0.17.0) (0.2.5)\n",
            "Requirement already satisfied: requests in /usr/local/lib/python3.7/dist-packages (from pyquil<2.28.3,>=2.16->PennyLane-Forest==0.17.0) (2.23.0)\n",
            "Requirement already satisfied: lark in /usr/local/lib/python3.7/dist-packages (from pyquil<2.28.3,>=2.16->PennyLane-Forest==0.17.0) (0.11.3)\n",
            "Collecting immutables==0.6\n",
            "  Downloading immutables-0.6.tar.gz (31 kB)\n",
            "Requirement already satisfied: rpcq>=3.6.0 in /usr/local/lib/python3.7/dist-packages (from pyquil<2.28.3,>=2.16->PennyLane-Forest==0.17.0) (3.9.2)\n",
            "Requirement already satisfied: ruamel.yaml in /usr/local/lib/python3.7/dist-packages (from rpcq>=3.6.0->pyquil<2.28.3,>=2.16->PennyLane-Forest==0.17.0) (0.17.10)\n",
            "Requirement already satisfied: msgpack<1.0,>=0.6 in /usr/local/lib/python3.7/dist-packages (from rpcq>=3.6.0->pyquil<2.28.3,>=2.16->PennyLane-Forest==0.17.0) (0.6.2)\n",
            "Requirement already satisfied: python-rapidjson in /usr/local/lib/python3.7/dist-packages (from rpcq>=3.6.0->pyquil<2.28.3,>=2.16->PennyLane-Forest==0.17.0) (1.4)\n",
            "Requirement already satisfied: pyzmq>=17 in /usr/local/lib/python3.7/dist-packages (from rpcq>=3.6.0->pyquil<2.28.3,>=2.16->PennyLane-Forest==0.17.0) (22.2.1)\n",
            "Requirement already satisfied: future>=0.15.2 in /usr/local/lib/python3.7/dist-packages (from autograd->pennylane@ git+https://github.com/PennyLaneAI/pennylane.git@master->PennyLane-Forest==0.17.0) (0.16.0)\n",
            "Requirement already satisfied: urllib3!=1.25.0,!=1.25.1,<1.26,>=1.21.1 in /usr/local/lib/python3.7/dist-packages (from requests->pyquil<2.28.3,>=2.16->PennyLane-Forest==0.17.0) (1.24.3)\n",
            "Requirement already satisfied: certifi>=2017.4.17 in /usr/local/lib/python3.7/dist-packages (from requests->pyquil<2.28.3,>=2.16->PennyLane-Forest==0.17.0) (2021.5.30)\n",
            "Requirement already satisfied: chardet<4,>=3.0.2 in /usr/local/lib/python3.7/dist-packages (from requests->pyquil<2.28.3,>=2.16->PennyLane-Forest==0.17.0) (3.0.4)\n",
            "Requirement already satisfied: idna<3,>=2.5 in /usr/local/lib/python3.7/dist-packages (from requests->pyquil<2.28.3,>=2.16->PennyLane-Forest==0.17.0) (2.10)\n",
            "Requirement already satisfied: ruamel.yaml.clib>=0.1.2 in /usr/local/lib/python3.7/dist-packages (from ruamel.yaml->rpcq>=3.6.0->pyquil<2.28.3,>=2.16->PennyLane-Forest==0.17.0) (0.2.6)\n",
            "Building wheels for collected packages: PennyLane-Forest, pennylane, pyquil, immutables\n",
            "  Building wheel for PennyLane-Forest (setup.py) ... \u001b[?25l\u001b[?25hdone\n",
            "  Created wheel for PennyLane-Forest: filename=PennyLane_Forest-0.17.0-py3-none-any.whl size=26949 sha256=3aa58af5d560de43f57a03e1b139221fbc92666d7c1e6e78f4127605cd3a0424\n",
            "  Stored in directory: /tmp/pip-ephem-wheel-cache-2ugdl5ef/wheels/05/63/81/f589044f76af0cb4daa5a9e5defaac64fc4fc5c3e573efb7ea\n",
            "  Building wheel for pennylane (setup.py) ... \u001b[?25l\u001b[?25hdone\n",
            "  Created wheel for pennylane: filename=PennyLane-0.17.0-py3-none-any.whl size=587596 sha256=3549f5464af85f09209be82a4234ab60b1ef1860f5018df7b6c6fc76ffff198f\n",
            "  Stored in directory: /tmp/pip-ephem-wheel-cache-2ugdl5ef/wheels/88/f4/90/4508830e65ac4d43c8b53d46bad58aa43ede4f078063562bac\n",
            "  Building wheel for pyquil (PEP 517) ... \u001b[?25l\u001b[?25hdone\n",
            "  Created wheel for pyquil: filename=pyquil-2.28.2-py3-none-any.whl size=239587 sha256=17ffc70d7ea2bd0fbe5340cb16095bbe64043ed92e9d9736d417b6755dbe2165\n",
            "  Stored in directory: /root/.cache/pip/wheels/25/6b/e2/81dcfe788e4b351e703df40340a0b02e2fb214da6034725885\n",
            "  Building wheel for immutables (setup.py) ... \u001b[?25l\u001b[?25hdone\n",
            "  Created wheel for immutables: filename=immutables-0.6-cp37-cp37m-linux_x86_64.whl size=77116 sha256=aaa73de1f9b1049a67d6385f0dee74dafd8eb2508d315af9e71723f7919c774f\n",
            "  Stored in directory: /root/.cache/pip/wheels/69/ff/bd/6e4e16ef442f900c47db9850c226cdb07fddaa25da739acb38\n",
            "Successfully built PennyLane-Forest pennylane pyquil immutables\n",
            "Installing collected packages: immutables, pyquil, pennylane, PennyLane-Forest\n",
            "  Attempting uninstall: pyquil\n",
            "    Found existing installation: pyquil 3.0.0\n",
            "    Uninstalling pyquil-3.0.0:\n",
            "      Successfully uninstalled pyquil-3.0.0\n",
            "  Attempting uninstall: pennylane\n",
            "    Found existing installation: PennyLane 0.16.0\n",
            "    Uninstalling PennyLane-0.16.0:\n",
            "      Successfully uninstalled PennyLane-0.16.0\n",
            "  Attempting uninstall: PennyLane-Forest\n",
            "    Found existing installation: PennyLane-Forest 0.16.0\n",
            "    Uninstalling PennyLane-Forest-0.16.0:\n",
            "      Successfully uninstalled PennyLane-Forest-0.16.0\n",
            "\u001b[31mERROR: pip's dependency resolver does not currently take into account all the packages that are installed. This behaviour is the source of the following dependency conflicts.\n",
            "cirq-rigetti 0.12.0 requires pyquil~=3.0.0; python_version >= \"3.7\", but you have pyquil 2.28.2 which is incompatible.\u001b[0m\n",
            "Successfully installed PennyLane-Forest-0.17.0 immutables-0.6 pennylane-0.17.0 pyquil-2.28.2\n"
          ]
        }
      ]
    },
    {
      "cell_type": "code",
      "metadata": {
        "id": "l9IsvldjmIZR"
      },
      "source": [
        "import pennylane as qml\n",
        "from pennylane import numpy as np\n",
        "from pennylane.templates import RandomLayers\n",
        "import tensorflow as tf\n",
        "from tensorflow import keras\n",
        "import matplotlib.pyplot as plt"
      ],
      "execution_count": null,
      "outputs": []
    },
    {
      "cell_type": "code",
      "metadata": {
        "id": "3_ehIzlNLKJs"
      },
      "source": [
        "from collections import Counter\n",
        "\n",
        "import matplotlib.pyplot as plt\n",
        "import numpy as np\n",
        "import pennylane as qml\n",
        "import sklearn.datasets\n",
        "import sklearn.decomposition\n",
        "import torch\n",
        "from matplotlib.lines import Line2D\n",
        "from matplotlib.patches import Patch"
      ],
      "execution_count": null,
      "outputs": []
    },
    {
      "cell_type": "code",
      "metadata": {
        "colab": {
          "base_uri": "https://localhost:8080/"
        },
        "id": "4_aQCrfObp-L",
        "outputId": "0d3941bd-fa77-4ae8-a4a7-f2d73c443f8e"
      },
      "source": [
        "from google.colab import drive\n",
        "drive.mount('/content/drive')"
      ],
      "execution_count": null,
      "outputs": [
        {
          "name": "stdout",
          "output_type": "stream",
          "text": [
            "Drive already mounted at /content/drive; to attempt to forcibly remount, call drive.mount(\"/content/drive\", force_remount=True).\n"
          ]
        }
      ]
    },
    {
      "cell_type": "markdown",
      "metadata": {
        "id": "StPgFMjv2agk"
      },
      "source": [
        "Notebook used :https://pennylane.ai/qml/demos/tutorial_ensemble_multi_qpu.html"
      ]
    },
    {
      "cell_type": "markdown",
      "metadata": {
        "id": "Y4HU-tgQmQeF"
      },
      "source": [
        "# **Setting of the main hyper-parameters of the model**"
      ]
    },
    {
      "cell_type": "code",
      "metadata": {
        "id": "LHXhE8ywmP5f"
      },
      "source": [
        "n_epochs = 30   # Number of optimization epochs\n",
        "n_layers = 1    # Number of random layers\n",
        "n_train = 50   # Size of the train dataset\n",
        "n_test = 30    # Size of the test dataset\n",
        "\n",
        "SAVE_PATH =  \"/content/drive/MyDrive/Qintern/quanvolution/\" # Data saving folder. Create folder with this name in files tab of colab.\n",
        "PREPROCESS = True           # If False, skip quantum processing and load data from SAVE_PATH\n",
        "np.random.seed(0)           # Seed for NumPy random number generator\n",
        "tf.random.set_seed(0)       # Seed for TensorFlow random number generator"
      ],
      "execution_count": null,
      "outputs": []
    },
    {
      "cell_type": "markdown",
      "metadata": {
        "id": "cE_bqNS1mhnb"
      },
      "source": [
        "# **Loading of the CIFAR10 dataset**"
      ]
    },
    {
      "cell_type": "code",
      "metadata": {
        "id": "KJNSYLugmZjm"
      },
      "source": [
        "cifar10_dataset = keras.datasets.cifar10\n",
        "(train_images, train_labels), (test_images, test_labels) = cifar10_dataset.load_data()\n",
        "\n",
        "# Reduce dataset size\n",
        "train_images = train_images[:n_train]\n",
        "train_labels = train_labels[:n_train]\n",
        "test_images = test_images[:n_test]\n",
        "test_labels = test_labels[:n_test]\n",
        "\n",
        "# Normalize pixel values within 0 and 1\n",
        "train_images = train_images / 255\n",
        "test_images = test_images / 255"
      ],
      "execution_count": null,
      "outputs": []
    },
    {
      "cell_type": "code",
      "metadata": {
        "colab": {
          "base_uri": "https://localhost:8080/"
        },
        "id": "qQ1x2DBWVdPB",
        "outputId": "093714b9-e55d-4e0d-8f30-12bfbe5764a6"
      },
      "source": [
        "print(train_images.shape)\n",
        "print(train_labels.shape)\n",
        "print(test_images.shape)\n",
        "print(test_labels.shape)\n",
        "print(train_labels)\n"
      ],
      "execution_count": null,
      "outputs": [
        {
          "name": "stdout",
          "output_type": "stream",
          "text": [
            "(50, 32, 32, 3)\n",
            "(50, 1)\n",
            "(30, 32, 32, 3)\n",
            "(30, 1)\n",
            "[[6]\n",
            " [9]\n",
            " [9]\n",
            " [4]\n",
            " [1]\n",
            " [1]\n",
            " [2]\n",
            " [7]\n",
            " [8]\n",
            " [3]\n",
            " [4]\n",
            " [7]\n",
            " [7]\n",
            " [2]\n",
            " [9]\n",
            " [9]\n",
            " [9]\n",
            " [3]\n",
            " [2]\n",
            " [6]\n",
            " [4]\n",
            " [3]\n",
            " [6]\n",
            " [6]\n",
            " [2]\n",
            " [6]\n",
            " [3]\n",
            " [5]\n",
            " [4]\n",
            " [0]\n",
            " [0]\n",
            " [9]\n",
            " [1]\n",
            " [3]\n",
            " [4]\n",
            " [0]\n",
            " [3]\n",
            " [7]\n",
            " [3]\n",
            " [3]\n",
            " [5]\n",
            " [2]\n",
            " [2]\n",
            " [7]\n",
            " [1]\n",
            " [1]\n",
            " [1]\n",
            " [2]\n",
            " [2]\n",
            " [0]]\n"
          ]
        }
      ]
    },
    {
      "cell_type": "code",
      "metadata": {
        "id": "kFheGjy2BqXt"
      },
      "source": [
        ""
      ],
      "execution_count": null,
      "outputs": []
    },
    {
      "cell_type": "markdown",
      "metadata": {
        "id": "rDH4ZfvKBsBM"
      },
      "source": [
        "# **Train_images**"
      ]
    },
    {
      "cell_type": "code",
      "metadata": {
        "id": "9OSj1Mjs_9Fm"
      },
      "source": [
        "train_images= tf.image.rgb_to_grayscale(train_images)"
      ],
      "execution_count": null,
      "outputs": []
    },
    {
      "cell_type": "code",
      "metadata": {
        "id": "l_TvytUjAHsW"
      },
      "source": [
        "train_images=tf.image.resize(train_images, [4,4])"
      ],
      "execution_count": null,
      "outputs": []
    },
    {
      "cell_type": "code",
      "metadata": {
        "colab": {
          "base_uri": "https://localhost:8080/"
        },
        "id": "Hlxce6gMAmfc",
        "outputId": "ca286c5e-40a3-4f1f-bdc8-fa4a47eb704d"
      },
      "source": [
        "train_images.shape"
      ],
      "execution_count": null,
      "outputs": [
        {
          "data": {
            "text/plain": [
              "TensorShape([50, 4, 4, 1])"
            ]
          },
          "execution_count": 16,
          "metadata": {
            "tags": []
          },
          "output_type": "execute_result"
        }
      ]
    },
    {
      "cell_type": "code",
      "metadata": {
        "colab": {
          "base_uri": "https://localhost:8080/"
        },
        "id": "ooKN6_hIX3X1",
        "outputId": "1b154a16-97a8-43f1-caba-6e58976e3fff"
      },
      "source": [
        "print(train_images)"
      ],
      "execution_count": null,
      "outputs": [
        {
          "name": "stdout",
          "output_type": "stream",
          "text": [
            "tf.Tensor(\n",
            "[[[[0.3198312 ]\n",
            "   [0.31110334]\n",
            "   [0.36866   ]\n",
            "   [0.35138166]]\n",
            "\n",
            "  [[0.42248994]\n",
            "   [0.46491054]\n",
            "   [0.5830338 ]\n",
            "   [0.39712912]]\n",
            "\n",
            "  [[0.3776957 ]\n",
            "   [0.5735027 ]\n",
            "   [0.43730474]\n",
            "   [0.32515883]]\n",
            "\n",
            "  [[0.45607552]\n",
            "   [0.40536475]\n",
            "   [0.4329126 ]\n",
            "   [0.520121  ]]]\n",
            "\n",
            "\n",
            " [[[0.68178594]\n",
            "   [0.6094276 ]\n",
            "   [0.7007469 ]\n",
            "   [0.34035316]]\n",
            "\n",
            "  [[0.52385134]\n",
            "   [0.5778806 ]\n",
            "   [0.85462934]\n",
            "   [0.54424953]]\n",
            "\n",
            "  [[0.31732953]\n",
            "   [0.46292984]\n",
            "   [0.75293267]\n",
            "   [0.72628576]]\n",
            "\n",
            "  [[0.31487364]\n",
            "   [0.46560955]\n",
            "   [0.24327983]\n",
            "   [0.17532325]]]\n",
            "\n",
            "\n",
            " [[[0.99990004]\n",
            "   [0.99990004]\n",
            "   [0.6158812 ]\n",
            "   [0.99990004]]\n",
            "\n",
            "  [[0.8192512 ]\n",
            "   [0.8273669 ]\n",
            "   [0.2718061 ]\n",
            "   [0.6202409 ]]\n",
            "\n",
            "  [[0.30415052]\n",
            "   [0.2750522 ]\n",
            "   [0.1899899 ]\n",
            "   [0.16230717]]\n",
            "\n",
            "  [[0.38927326]\n",
            "   [0.31050813]\n",
            "   [0.29437327]\n",
            "   [0.27015433]]]\n",
            "\n",
            "\n",
            " [[[0.28533903]\n",
            "   [0.32132944]\n",
            "   [0.29952592]\n",
            "   [0.3178768 ]]\n",
            "\n",
            "  [[0.32812196]\n",
            "   [0.2530505 ]\n",
            "   [0.34288436]\n",
            "   [0.323846  ]]\n",
            "\n",
            "  [[0.39912984]\n",
            "   [0.76242614]\n",
            "   [0.26851088]\n",
            "   [0.38392836]]\n",
            "\n",
            "  [[0.28878325]\n",
            "   [0.280742  ]\n",
            "   [0.34002522]\n",
            "   [0.31232697]]]\n",
            "\n",
            "\n",
            " [[[0.37207198]\n",
            "   [0.3905551 ]\n",
            "   [0.66100025]\n",
            "   [0.68583083]]\n",
            "\n",
            "  [[0.27034646]\n",
            "   [0.3180812 ]\n",
            "   [0.32449108]\n",
            "   [0.25358373]]\n",
            "\n",
            "  [[0.35418913]\n",
            "   [0.8149018 ]\n",
            "   [0.61751896]\n",
            "   [0.33640373]]\n",
            "\n",
            "  [[0.32032198]\n",
            "   [0.2837811 ]\n",
            "   [0.18448892]\n",
            "   [0.0505899 ]]]\n",
            "\n",
            "\n",
            " [[[0.37839875]\n",
            "   [0.15775089]\n",
            "   [0.6553786 ]\n",
            "   [0.3482956 ]]\n",
            "\n",
            "  [[0.4332408 ]\n",
            "   [0.5433688 ]\n",
            "   [0.5184639 ]\n",
            "   [0.56608754]]\n",
            "\n",
            "  [[0.18226522]\n",
            "   [0.28637326]\n",
            "   [0.25000215]\n",
            "   [0.17679648]]\n",
            "\n",
            "  [[0.56411517]\n",
            "   [0.0780504 ]\n",
            "   [0.10632795]\n",
            "   [0.2637108 ]]]\n",
            "\n",
            "\n",
            " [[[0.5339676 ]\n",
            "   [0.6195828 ]\n",
            "   [0.7476822 ]\n",
            "   [0.49065444]]\n",
            "\n",
            "  [[0.38086355]\n",
            "   [0.70042306]\n",
            "   [0.35438865]\n",
            "   [0.7987251 ]]\n",
            "\n",
            "  [[0.7894726 ]\n",
            "   [0.24937433]\n",
            "   [0.22659463]\n",
            "   [0.56293404]]\n",
            "\n",
            "  [[0.49174336]\n",
            "   [0.53884584]\n",
            "   [0.36579502]\n",
            "   [0.3359751 ]]]\n",
            "\n",
            "\n",
            " [[[0.23481128]\n",
            "   [0.3445007 ]\n",
            "   [0.83500874]\n",
            "   [0.77066267]]\n",
            "\n",
            "  [[0.18096109]\n",
            "   [0.51545787]\n",
            "   [0.36695617]\n",
            "   [0.11934756]]\n",
            "\n",
            "  [[0.85606027]\n",
            "   [0.23978904]\n",
            "   [0.7204617 ]\n",
            "   [0.67610425]]\n",
            "\n",
            "  [[0.7956078 ]\n",
            "   [0.35443807]\n",
            "   [0.60517937]\n",
            "   [0.5343051 ]]]\n",
            "\n",
            "\n",
            " [[[0.65741897]\n",
            "   [0.6957886 ]\n",
            "   [0.68712085]\n",
            "   [0.6675149 ]]\n",
            "\n",
            "  [[0.41344225]\n",
            "   [0.50682044]\n",
            "   [0.43964896]\n",
            "   [0.419765  ]]\n",
            "\n",
            "  [[0.39027783]\n",
            "   [0.74438906]\n",
            "   [0.8517631 ]\n",
            "   [0.31881422]]\n",
            "\n",
            "  [[0.37613392]\n",
            "   [0.91703343]\n",
            "   [0.90633476]\n",
            "   [0.2587565 ]]]\n",
            "\n",
            "\n",
            " [[[0.6401716 ]\n",
            "   [0.73832005]\n",
            "   [0.12984678]\n",
            "   [0.16583098]]\n",
            "\n",
            "  [[0.23927854]\n",
            "   [0.17470431]\n",
            "   [0.10935647]\n",
            "   [0.09511745]]\n",
            "\n",
            "  [[0.34770933]\n",
            "   [0.18808873]\n",
            "   [0.07949001]\n",
            "   [0.0856498 ]]\n",
            "\n",
            "  [[0.14943022]\n",
            "   [0.11004265]\n",
            "   [0.11222854]\n",
            "   [0.29671824]]]\n",
            "\n",
            "\n",
            " [[[0.22809021]\n",
            "   [0.3833515 ]\n",
            "   [0.339267  ]\n",
            "   [0.18319255]]\n",
            "\n",
            "  [[0.27500257]\n",
            "   [0.31881905]\n",
            "   [0.33841953]\n",
            "   [0.25457934]]\n",
            "\n",
            "  [[0.32827413]\n",
            "   [0.37546727]\n",
            "   [0.25387293]\n",
            "   [0.21812737]]\n",
            "\n",
            "  [[0.32344207]\n",
            "   [0.40864804]\n",
            "   [0.37269884]\n",
            "   [0.30202657]]]\n",
            "\n",
            "\n",
            " [[[0.71141315]\n",
            "   [0.8611289 ]\n",
            "   [0.58654535]\n",
            "   [0.6712667 ]]\n",
            "\n",
            "  [[0.8350656 ]\n",
            "   [0.5424948 ]\n",
            "   [0.42977083]\n",
            "   [0.69463134]]\n",
            "\n",
            "  [[0.30204648]\n",
            "   [0.5403832 ]\n",
            "   [0.10256589]\n",
            "   [0.3210176 ]]\n",
            "\n",
            "  [[0.5278039 ]\n",
            "   [0.6642351 ]\n",
            "   [0.71836275]\n",
            "   [0.6618119 ]]]\n",
            "\n",
            "\n",
            " [[[0.8179828 ]\n",
            "   [0.8187124 ]\n",
            "   [0.81813693]\n",
            "   [0.8133639 ]]\n",
            "\n",
            "  [[0.8371119 ]\n",
            "   [0.16953197]\n",
            "   [0.6377234 ]\n",
            "   [0.24112532]]\n",
            "\n",
            "  [[0.4779959 ]\n",
            "   [0.43509382]\n",
            "   [0.05704628]\n",
            "   [0.12355854]]\n",
            "\n",
            "  [[0.5657892 ]\n",
            "   [0.58764434]\n",
            "   [0.5429012 ]\n",
            "   [0.40800834]]]\n",
            "\n",
            "\n",
            " [[[0.03960186]\n",
            "   [0.19915059]\n",
            "   [0.07194099]\n",
            "   [0.07568696]]\n",
            "\n",
            "  [[0.13233216]\n",
            "   [0.613344  ]\n",
            "   [0.4201411 ]\n",
            "   [0.07959756]]\n",
            "\n",
            "  [[0.10404442]\n",
            "   [0.12177687]\n",
            "   [0.19873609]\n",
            "   [0.08246   ]]\n",
            "\n",
            "  [[0.7963875 ]\n",
            "   [0.9001033 ]\n",
            "   [0.69930285]\n",
            "   [0.10613666]]]\n",
            "\n",
            "\n",
            " [[[0.5073701 ]\n",
            "   [0.40083462]\n",
            "   [0.3223899 ]\n",
            "   [0.4157353 ]]\n",
            "\n",
            "  [[0.4999624 ]\n",
            "   [0.16347629]\n",
            "   [0.04651755]\n",
            "   [0.22262952]]\n",
            "\n",
            "  [[0.4251553 ]\n",
            "   [0.11976422]\n",
            "   [0.28978825]\n",
            "   [0.31452042]]\n",
            "\n",
            "  [[0.46770072]\n",
            "   [0.28517583]\n",
            "   [0.7265962 ]\n",
            "   [0.59942883]]]\n",
            "\n",
            "\n",
            " [[[0.6039815 ]\n",
            "   [0.5099262 ]\n",
            "   [0.6376215 ]\n",
            "   [0.6349691 ]]\n",
            "\n",
            "  [[0.6905334 ]\n",
            "   [0.5786867 ]\n",
            "   [0.4269507 ]\n",
            "   [0.61103594]]\n",
            "\n",
            "  [[0.730807  ]\n",
            "   [0.57831085]\n",
            "   [0.44724548]\n",
            "   [0.42687923]]\n",
            "\n",
            "  [[0.70421696]\n",
            "   [0.24425766]\n",
            "   [0.12994617]\n",
            "   [0.40038317]]]\n",
            "\n",
            "\n",
            " [[[0.9503309 ]\n",
            "   [0.9861759 ]\n",
            "   [0.96371365]\n",
            "   [0.932962  ]]\n",
            "\n",
            "  [[0.462471  ]\n",
            "   [0.6680261 ]\n",
            "   [0.51827216]\n",
            "   [0.61055857]]\n",
            "\n",
            "  [[0.37208608]\n",
            "   [0.4606157 ]\n",
            "   [0.19193128]\n",
            "   [0.69269335]]\n",
            "\n",
            "  [[0.57321084]\n",
            "   [0.39050463]\n",
            "   [0.1932951 ]\n",
            "   [0.33209032]]]\n",
            "\n",
            "\n",
            " [[[0.32411373]\n",
            "   [0.21231404]\n",
            "   [0.21054971]\n",
            "   [0.1392802 ]]\n",
            "\n",
            "  [[0.4179068 ]\n",
            "   [0.30319893]\n",
            "   [0.21580315]\n",
            "   [0.19269755]]\n",
            "\n",
            "  [[0.35149884]\n",
            "   [0.4867308 ]\n",
            "   [0.7162163 ]\n",
            "   [0.47001582]]\n",
            "\n",
            "  [[0.29509786]\n",
            "   [0.34984443]\n",
            "   [0.33275804]\n",
            "   [0.20368491]]]\n",
            "\n",
            "\n",
            " [[[0.6403031 ]\n",
            "   [0.43978277]\n",
            "   [0.75958943]\n",
            "   [0.81402826]]\n",
            "\n",
            "  [[0.763793  ]\n",
            "   [0.4216621 ]\n",
            "   [0.34384844]\n",
            "   [0.70828485]]\n",
            "\n",
            "  [[0.72464013]\n",
            "   [0.27714697]\n",
            "   [0.35345864]\n",
            "   [0.23157384]]\n",
            "\n",
            "  [[0.658406  ]\n",
            "   [0.61245394]\n",
            "   [0.3699169 ]\n",
            "   [0.3150819 ]]]\n",
            "\n",
            "\n",
            " [[[0.31600875]\n",
            "   [0.4098655 ]\n",
            "   [0.65480876]\n",
            "   [0.36716318]]\n",
            "\n",
            "  [[0.2878366 ]\n",
            "   [0.5326092 ]\n",
            "   [0.48166668]\n",
            "   [0.36209983]]\n",
            "\n",
            "  [[0.47077972]\n",
            "   [0.5445787 ]\n",
            "   [0.47957474]\n",
            "   [0.43323845]]\n",
            "\n",
            "  [[0.78277254]\n",
            "   [0.7508956 ]\n",
            "   [0.6236605 ]\n",
            "   [0.8443288 ]]]\n",
            "\n",
            "\n",
            " [[[0.7059773 ]\n",
            "   [0.6752696 ]\n",
            "   [0.617786  ]\n",
            "   [0.5387402 ]]\n",
            "\n",
            "  [[0.8021958 ]\n",
            "   [0.76683134]\n",
            "   [0.8114955 ]\n",
            "   [0.78710485]]\n",
            "\n",
            "  [[0.8068526 ]\n",
            "   [0.69983935]\n",
            "   [0.32361403]\n",
            "   [0.44628462]]\n",
            "\n",
            "  [[0.7078762 ]\n",
            "   [0.7767688 ]\n",
            "   [0.8144275 ]\n",
            "   [0.7733747 ]]]\n",
            "\n",
            "\n",
            " [[[0.3616343 ]\n",
            "   [0.35790503]\n",
            "   [0.31529933]\n",
            "   [0.30854344]]\n",
            "\n",
            "  [[0.4354108 ]\n",
            "   [0.0915398 ]\n",
            "   [0.19174471]\n",
            "   [0.3001304 ]]\n",
            "\n",
            "  [[0.49231404]\n",
            "   [0.43593228]\n",
            "   [0.12397285]\n",
            "   [0.27899933]]\n",
            "\n",
            "  [[0.47433317]\n",
            "   [0.5393221 ]\n",
            "   [0.49655646]\n",
            "   [0.5096851 ]]]\n",
            "\n",
            "\n",
            " [[[0.28686786]\n",
            "   [0.27784735]\n",
            "   [0.26644784]\n",
            "   [0.33584815]]\n",
            "\n",
            "  [[0.15376794]\n",
            "   [0.31184816]\n",
            "   [0.30785894]\n",
            "   [0.2764125 ]]\n",
            "\n",
            "  [[0.12294225]\n",
            "   [0.4582822 ]\n",
            "   [0.23721236]\n",
            "   [0.21579394]]\n",
            "\n",
            "  [[0.15983981]\n",
            "   [0.15605922]\n",
            "   [0.21595246]\n",
            "   [0.24485825]]]\n",
            "\n",
            "\n",
            " [[[0.47998267]\n",
            "   [0.5469358 ]\n",
            "   [0.5457952 ]\n",
            "   [0.38526216]]\n",
            "\n",
            "  [[0.38371354]\n",
            "   [0.32651168]\n",
            "   [0.28109872]\n",
            "   [0.38727385]]\n",
            "\n",
            "  [[0.4612558 ]\n",
            "   [0.41579276]\n",
            "   [0.30519676]\n",
            "   [0.3802122 ]]\n",
            "\n",
            "  [[0.49229717]\n",
            "   [0.5849909 ]\n",
            "   [0.4394403 ]\n",
            "   [0.29050255]]]\n",
            "\n",
            "\n",
            " [[[0.36880013]\n",
            "   [0.51788825]\n",
            "   [0.32972962]\n",
            "   [0.46469676]]\n",
            "\n",
            "  [[0.48790032]\n",
            "   [0.24659766]\n",
            "   [0.43081677]\n",
            "   [0.25153178]]\n",
            "\n",
            "  [[0.37304503]\n",
            "   [0.35105628]\n",
            "   [0.1958903 ]\n",
            "   [0.19061874]]\n",
            "\n",
            "  [[0.47123915]\n",
            "   [0.34727246]\n",
            "   [0.05785696]\n",
            "   [0.71452427]]]\n",
            "\n",
            "\n",
            " [[[0.88053447]\n",
            "   [0.8672773 ]\n",
            "   [0.72346044]\n",
            "   [0.66386485]]\n",
            "\n",
            "  [[0.72105587]\n",
            "   [0.43838993]\n",
            "   [0.31041512]\n",
            "   [0.8186027 ]]\n",
            "\n",
            "  [[0.39973363]\n",
            "   [0.40003267]\n",
            "   [0.41451108]\n",
            "   [0.308121  ]]\n",
            "\n",
            "  [[0.5015044 ]\n",
            "   [0.45428756]\n",
            "   [0.3749809 ]\n",
            "   [0.69048387]]]\n",
            "\n",
            "\n",
            " [[[0.32870716]\n",
            "   [0.56086355]\n",
            "   [0.63787836]\n",
            "   [0.6103333 ]]\n",
            "\n",
            "  [[0.30427375]\n",
            "   [0.19819364]\n",
            "   [0.38130856]\n",
            "   [0.6132021 ]]\n",
            "\n",
            "  [[0.2684855 ]\n",
            "   [0.36448118]\n",
            "   [0.3797505 ]\n",
            "   [0.5432975 ]]\n",
            "\n",
            "  [[0.12485206]\n",
            "   [0.17235765]\n",
            "   [0.23205441]\n",
            "   [0.27612275]]]\n",
            "\n",
            "\n",
            " [[[0.17053697]\n",
            "   [0.3097501 ]\n",
            "   [0.18814883]\n",
            "   [0.15556599]]\n",
            "\n",
            "  [[0.22941962]\n",
            "   [0.14631304]\n",
            "   [0.24822834]\n",
            "   [0.59607464]]\n",
            "\n",
            "  [[0.24358638]\n",
            "   [0.3691665 ]\n",
            "   [0.43227258]\n",
            "   [0.33756077]]\n",
            "\n",
            "  [[0.30255198]\n",
            "   [0.32319278]\n",
            "   [0.44793445]\n",
            "   [0.46624944]]]\n",
            "\n",
            "\n",
            " [[[0.54344743]\n",
            "   [0.51267016]\n",
            "   [0.4603565 ]\n",
            "   [0.48657167]]\n",
            "\n",
            "  [[0.77193445]\n",
            "   [0.5691476 ]\n",
            "   [0.5618248 ]\n",
            "   [0.7893572 ]]\n",
            "\n",
            "  [[0.12485325]\n",
            "   [0.18048109]\n",
            "   [0.6050278 ]\n",
            "   [0.32807028]]\n",
            "\n",
            "  [[0.5826998 ]\n",
            "   [0.59523493]\n",
            "   [0.72145057]\n",
            "   [0.5885676 ]]]\n",
            "\n",
            "\n",
            " [[[0.86258477]\n",
            "   [0.8985899 ]\n",
            "   [0.92953956]\n",
            "   [0.88303816]]\n",
            "\n",
            "  [[0.90958005]\n",
            "   [0.07246   ]\n",
            "   [0.20585382]\n",
            "   [0.98570937]]\n",
            "\n",
            "  [[0.12548491]\n",
            "   [0.03222579]\n",
            "   [0.03858186]\n",
            "   [0.94102955]]\n",
            "\n",
            "  [[0.31473178]\n",
            "   [0.19569021]\n",
            "   [0.38546246]\n",
            "   [0.95707524]]]\n",
            "\n",
            "\n",
            " [[[0.47896424]\n",
            "   [0.4977817 ]\n",
            "   [0.5191518 ]\n",
            "   [0.48161817]]\n",
            "\n",
            "  [[0.50750005]\n",
            "   [0.5624982 ]\n",
            "   [0.65961695]\n",
            "   [0.50106394]]\n",
            "\n",
            "  [[0.25172746]\n",
            "   [0.693311  ]\n",
            "   [0.47615895]\n",
            "   [0.49983454]]\n",
            "\n",
            "  [[0.48116505]\n",
            "   [0.51057565]\n",
            "   [0.5046077 ]\n",
            "   [0.40058452]]]\n",
            "\n",
            "\n",
            " [[[0.8339811 ]\n",
            "   [0.9756284 ]\n",
            "   [0.41457972]\n",
            "   [0.6606337 ]]\n",
            "\n",
            "  [[0.74695736]\n",
            "   [0.5916267 ]\n",
            "   [0.5945781 ]\n",
            "   [0.63656735]]\n",
            "\n",
            "  [[0.11288069]\n",
            "   [0.4908123 ]\n",
            "   [0.38406128]\n",
            "   [0.32363343]]\n",
            "\n",
            "  [[0.21436039]\n",
            "   [0.15055853]\n",
            "   [0.10382932]\n",
            "   [0.07817627]]]\n",
            "\n",
            "\n",
            " [[[0.14561245]\n",
            "   [0.13586226]\n",
            "   [0.19516021]\n",
            "   [0.23728757]]\n",
            "\n",
            "  [[0.22554207]\n",
            "   [0.76680624]\n",
            "   [0.36774904]\n",
            "   [0.2758863 ]]\n",
            "\n",
            "  [[0.53077555]\n",
            "   [0.56272495]\n",
            "   [0.27469933]\n",
            "   [0.3100617 ]]\n",
            "\n",
            "  [[0.5869214 ]\n",
            "   [0.01095392]\n",
            "   [0.2045356 ]\n",
            "   [0.66760325]]]\n",
            "\n",
            "\n",
            " [[[0.3163023 ]\n",
            "   [0.45271355]\n",
            "   [0.31730473]\n",
            "   [0.42776245]]\n",
            "\n",
            "  [[0.35841334]\n",
            "   [0.72758293]\n",
            "   [0.65523326]\n",
            "   [0.4543273 ]]\n",
            "\n",
            "  [[0.21794492]\n",
            "   [0.8590674 ]\n",
            "   [0.67303747]\n",
            "   [0.37970972]]\n",
            "\n",
            "  [[0.64533865]\n",
            "   [0.6422868 ]\n",
            "   [0.612744  ]\n",
            "   [0.51314485]]]\n",
            "\n",
            "\n",
            " [[[0.6963824 ]\n",
            "   [0.6867802 ]\n",
            "   [0.6916894 ]\n",
            "   [0.6353109 ]]\n",
            "\n",
            "  [[0.66371524]\n",
            "   [0.63045955]\n",
            "   [0.57285416]\n",
            "   [0.64411414]]\n",
            "\n",
            "  [[0.46443236]\n",
            "   [0.30557275]\n",
            "   [0.09943451]\n",
            "   [0.6113261 ]]\n",
            "\n",
            "  [[0.6514102 ]\n",
            "   [0.19416697]\n",
            "   [0.61422074]\n",
            "   [0.61202884]]]\n",
            "\n",
            "\n",
            " [[[0.280609  ]\n",
            "   [0.30881187]\n",
            "   [0.3388458 ]\n",
            "   [0.6072873 ]]\n",
            "\n",
            "  [[0.69772375]\n",
            "   [0.6058417 ]\n",
            "   [0.29097366]\n",
            "   [0.54201984]]\n",
            "\n",
            "  [[0.51124865]\n",
            "   [0.47073403]\n",
            "   [0.5267573 ]\n",
            "   [0.5597582 ]]\n",
            "\n",
            "  [[0.47379845]\n",
            "   [0.40985686]\n",
            "   [0.36411336]\n",
            "   [0.3911813 ]]]\n",
            "\n",
            "\n",
            " [[[0.8460889 ]\n",
            "   [0.69813365]\n",
            "   [0.54093474]\n",
            "   [0.7331101 ]]\n",
            "\n",
            "  [[0.85530573]\n",
            "   [0.63032913]\n",
            "   [0.62900287]\n",
            "   [0.59052926]]\n",
            "\n",
            "  [[0.44066864]\n",
            "   [0.6352306 ]\n",
            "   [0.6738018 ]\n",
            "   [0.7722868 ]]\n",
            "\n",
            "  [[0.42788786]\n",
            "   [0.60225874]\n",
            "   [0.815946  ]\n",
            "   [0.8930479 ]]]\n",
            "\n",
            "\n",
            " [[[0.3375498 ]\n",
            "   [0.5812265 ]\n",
            "   [0.2473663 ]\n",
            "   [0.38309395]]\n",
            "\n",
            "  [[0.2223104 ]\n",
            "   [0.22114903]\n",
            "   [0.30275637]\n",
            "   [0.4040663 ]]\n",
            "\n",
            "  [[0.4009564 ]\n",
            "   [0.3873365 ]\n",
            "   [0.32501513]\n",
            "   [0.3912561 ]]\n",
            "\n",
            "  [[0.5230369 ]\n",
            "   [0.34918365]\n",
            "   [0.492971  ]\n",
            "   [0.35628265]]]\n",
            "\n",
            "\n",
            " [[[0.71275073]\n",
            "   [0.6990135 ]\n",
            "   [0.8474321 ]\n",
            "   [0.84290814]]\n",
            "\n",
            "  [[0.34796774]\n",
            "   [0.7193777 ]\n",
            "   [0.85851276]\n",
            "   [0.03996912]]\n",
            "\n",
            "  [[0.4628718 ]\n",
            "   [0.39216834]\n",
            "   [0.42013305]\n",
            "   [0.20525609]]\n",
            "\n",
            "  [[0.31756032]\n",
            "   [0.59428674]\n",
            "   [0.32591835]\n",
            "   [0.07257285]]]\n",
            "\n",
            "\n",
            " [[[0.42099333]\n",
            "   [0.35576856]\n",
            "   [0.41314375]\n",
            "   [0.30277503]]\n",
            "\n",
            "  [[0.6338625 ]\n",
            "   [0.4883213 ]\n",
            "   [0.37963253]\n",
            "   [0.38092983]]\n",
            "\n",
            "  [[0.41327602]\n",
            "   [0.7595072 ]\n",
            "   [0.70314556]\n",
            "   [0.42743385]]\n",
            "\n",
            "  [[0.42513964]\n",
            "   [0.34216326]\n",
            "   [0.38151404]\n",
            "   [0.19417676]]]\n",
            "\n",
            "\n",
            " [[[0.51519924]\n",
            "   [0.5114592 ]\n",
            "   [0.73902047]\n",
            "   [0.89199287]]\n",
            "\n",
            "  [[0.50432974]\n",
            "   [0.52638805]\n",
            "   [0.43973413]\n",
            "   [0.39082515]]\n",
            "\n",
            "  [[0.39199257]\n",
            "   [0.2882954 ]\n",
            "   [0.48412356]\n",
            "   [0.5634366 ]]\n",
            "\n",
            "  [[0.10906511]\n",
            "   [0.01891108]\n",
            "   [0.39581168]\n",
            "   [0.6968089 ]]]\n",
            "\n",
            "\n",
            " [[[0.7103853 ]\n",
            "   [0.84511423]\n",
            "   [0.81265724]\n",
            "   [0.79526275]]\n",
            "\n",
            "  [[0.80035007]\n",
            "   [0.7915544 ]\n",
            "   [0.85918856]\n",
            "   [0.8183472 ]]\n",
            "\n",
            "  [[0.8318506 ]\n",
            "   [0.8263919 ]\n",
            "   [0.8173773 ]\n",
            "   [0.8208938 ]]\n",
            "\n",
            "  [[0.80871165]\n",
            "   [0.8222983 ]\n",
            "   [0.79551786]\n",
            "   [0.8102752 ]]]\n",
            "\n",
            "\n",
            " [[[0.45320177]\n",
            "   [0.45489377]\n",
            "   [0.59158874]\n",
            "   [0.5959554 ]]\n",
            "\n",
            "  [[0.6403122 ]\n",
            "   [0.24219346]\n",
            "   [0.28403187]\n",
            "   [0.6216578 ]]\n",
            "\n",
            "  [[0.6072963 ]\n",
            "   [0.58663154]\n",
            "   [0.5276866 ]\n",
            "   [0.58282363]]\n",
            "\n",
            "  [[0.5875121 ]\n",
            "   [0.5875771 ]\n",
            "   [0.6049067 ]\n",
            "   [0.6090679 ]]]\n",
            "\n",
            "\n",
            " [[[0.6283808 ]\n",
            "   [0.6724837 ]\n",
            "   [0.7055769 ]\n",
            "   [0.38708895]]\n",
            "\n",
            "  [[0.5078933 ]\n",
            "   [0.15325314]\n",
            "   [0.25277442]\n",
            "   [0.3218047 ]]\n",
            "\n",
            "  [[0.602097  ]\n",
            "   [0.631544  ]\n",
            "   [0.5129527 ]\n",
            "   [0.80303144]]\n",
            "\n",
            "  [[0.6280938 ]\n",
            "   [0.7576495 ]\n",
            "   [0.63432086]\n",
            "   [0.61254597]]]\n",
            "\n",
            "\n",
            " [[[0.47199982]\n",
            "   [0.5613612 ]\n",
            "   [0.46079686]\n",
            "   [0.4679563 ]]\n",
            "\n",
            "  [[0.46072268]\n",
            "   [0.5920657 ]\n",
            "   [0.37138805]\n",
            "   [0.36556852]]\n",
            "\n",
            "  [[0.28399187]\n",
            "   [0.624115  ]\n",
            "   [0.29047072]\n",
            "   [0.18210717]]\n",
            "\n",
            "  [[0.21222678]\n",
            "   [0.19027472]\n",
            "   [0.18184374]\n",
            "   [0.33208895]]]\n",
            "\n",
            "\n",
            " [[[0.42354158]\n",
            "   [0.5259904 ]\n",
            "   [0.44293013]\n",
            "   [0.5561602 ]]\n",
            "\n",
            "  [[0.22674304]\n",
            "   [0.30976796]\n",
            "   [0.30412677]\n",
            "   [0.39829317]]\n",
            "\n",
            "  [[0.41786247]\n",
            "   [0.15472333]\n",
            "   [0.2048302 ]\n",
            "   [0.16092744]]\n",
            "\n",
            "  [[0.50915706]\n",
            "   [0.18059951]\n",
            "   [0.85929054]\n",
            "   [0.6470479 ]]]\n",
            "\n",
            "\n",
            " [[[0.14881815]\n",
            "   [0.28230324]\n",
            "   [0.62216306]\n",
            "   [0.53654313]]\n",
            "\n",
            "  [[0.30536216]\n",
            "   [0.4463834 ]\n",
            "   [0.3273012 ]\n",
            "   [0.8961518 ]]\n",
            "\n",
            "  [[0.5177839 ]\n",
            "   [0.84151053]\n",
            "   [0.93265754]\n",
            "   [0.5965372 ]]\n",
            "\n",
            "  [[0.10211177]\n",
            "   [0.16016099]\n",
            "   [0.26040795]\n",
            "   [0.4142863 ]]]\n",
            "\n",
            "\n",
            " [[[0.34699935]\n",
            "   [0.3998807 ]\n",
            "   [0.35479325]\n",
            "   [0.28949443]]\n",
            "\n",
            "  [[0.42523706]\n",
            "   [0.34117648]\n",
            "   [0.33399403]\n",
            "   [0.3859664 ]]\n",
            "\n",
            "  [[0.32980716]\n",
            "   [0.36854768]\n",
            "   [0.31262118]\n",
            "   [0.2844207 ]]\n",
            "\n",
            "  [[0.29520845]\n",
            "   [0.36631826]\n",
            "   [0.33404875]\n",
            "   [0.34753257]]]\n",
            "\n",
            "\n",
            " [[[0.6306018 ]\n",
            "   [0.58479536]\n",
            "   [0.65088725]\n",
            "   [0.6228936 ]]\n",
            "\n",
            "  [[0.87603354]\n",
            "   [0.66709286]\n",
            "   [0.78750455]\n",
            "   [0.70981807]]\n",
            "\n",
            "  [[0.79649836]\n",
            "   [0.6121162 ]\n",
            "   [0.8383198 ]\n",
            "   [0.8802642 ]]\n",
            "\n",
            "  [[0.92596346]\n",
            "   [0.755461  ]\n",
            "   [0.92261946]\n",
            "   [0.9099226 ]]]\n",
            "\n",
            "\n",
            " [[[0.58710885]\n",
            "   [0.99597883]\n",
            "   [0.9911196 ]\n",
            "   [0.99637306]]\n",
            "\n",
            "  [[0.78814405]\n",
            "   [0.11889529]\n",
            "   [0.4152156 ]\n",
            "   [0.28563717]]\n",
            "\n",
            "  [[0.39830914]\n",
            "   [0.68601406]\n",
            "   [0.3868008 ]\n",
            "   [0.59388304]]\n",
            "\n",
            "  [[0.99597883]\n",
            "   [0.9949986 ]\n",
            "   [0.8441662 ]\n",
            "   [0.99303794]]]], shape=(50, 4, 4, 1), dtype=float32)\n"
          ]
        }
      ]
    },
    {
      "cell_type": "code",
      "metadata": {
        "colab": {
          "base_uri": "https://localhost:8080/"
        },
        "id": "tPUkCw-WNUxK",
        "outputId": "ebfc7d80-f327-40df-ce83-23d088b66531"
      },
      "source": [
        "len(train_images)"
      ],
      "execution_count": null,
      "outputs": [
        {
          "data": {
            "text/plain": [
              "50"
            ]
          },
          "execution_count": 18,
          "metadata": {
            "tags": []
          },
          "output_type": "execute_result"
        }
      ]
    },
    {
      "cell_type": "code",
      "metadata": {
        "id": "xnjnYLKgA15y"
      },
      "source": [
        "train_images=np.array((train_images),dtype=\"float64\").reshape(50,16)"
      ],
      "execution_count": null,
      "outputs": []
    },
    {
      "cell_type": "code",
      "metadata": {
        "colab": {
          "base_uri": "https://localhost:8080/"
        },
        "id": "_zmz7oaFA2Dj",
        "outputId": "d5aac7bc-7feb-453a-808d-fb67171a8024"
      },
      "source": [
        "train_images.shape"
      ],
      "execution_count": null,
      "outputs": [
        {
          "data": {
            "text/plain": [
              "(50, 16)"
            ]
          },
          "execution_count": 20,
          "metadata": {
            "tags": []
          },
          "output_type": "execute_result"
        }
      ]
    },
    {
      "cell_type": "code",
      "metadata": {
        "colab": {
          "base_uri": "https://localhost:8080/"
        },
        "id": "XruhvusDBEOV",
        "outputId": "3cf6a837-6ac6-4820-cf32-eae8f3b2534d"
      },
      "source": [
        "train_images"
      ],
      "execution_count": null,
      "outputs": [
        {
          "data": {
            "text/plain": [
              "array([[0.31983119, 0.31110334, 0.36866   , 0.35138166, 0.42248994,\n",
              "        0.46491054, 0.5830338 , 0.39712912, 0.37769571, 0.57350272,\n",
              "        0.43730474, 0.32515883, 0.45607552, 0.40536475, 0.43291259,\n",
              "        0.52012098],\n",
              "       [0.68178594, 0.60942757, 0.70074689, 0.34035316, 0.52385134,\n",
              "        0.57788062, 0.85462934, 0.54424953, 0.31732953, 0.46292984,\n",
              "        0.75293267, 0.72628576, 0.31487364, 0.46560955, 0.24327983,\n",
              "        0.17532325],\n",
              "       [0.99990004, 0.99990004, 0.6158812 , 0.99990004, 0.81925118,\n",
              "        0.82736689, 0.27180609, 0.62024093, 0.30415052, 0.27505219,\n",
              "        0.18998989, 0.16230717, 0.38927326, 0.31050813, 0.29437327,\n",
              "        0.27015433],\n",
              "       [0.28533903, 0.32132944, 0.29952592, 0.31787679, 0.32812196,\n",
              "        0.25305051, 0.34288436, 0.32384601, 0.39912984, 0.76242614,\n",
              "        0.26851088, 0.38392836, 0.28878325, 0.28074199, 0.34002522,\n",
              "        0.31232697],\n",
              "       [0.37207198, 0.39055511, 0.66100025, 0.68583083, 0.27034646,\n",
              "        0.3180812 , 0.32449108, 0.25358373, 0.35418913, 0.81490183,\n",
              "        0.61751896, 0.33640373, 0.32032198, 0.28378111, 0.18448892,\n",
              "        0.0505899 ],\n",
              "       [0.37839875, 0.15775089, 0.65537858, 0.3482956 , 0.4332408 ,\n",
              "        0.54336882, 0.51846391, 0.56608754, 0.18226522, 0.28637326,\n",
              "        0.25000215, 0.17679648, 0.56411517, 0.0780504 , 0.10632795,\n",
              "        0.2637108 ],\n",
              "       [0.53396761, 0.61958277, 0.74768221, 0.49065444, 0.38086355,\n",
              "        0.70042306, 0.35438865, 0.79872513, 0.78947258, 0.24937433,\n",
              "        0.22659463, 0.56293404, 0.49174336, 0.53884584, 0.36579502,\n",
              "        0.33597511],\n",
              "       [0.23481128, 0.34450069, 0.83500874, 0.77066267, 0.18096109,\n",
              "        0.51545787, 0.36695617, 0.11934756, 0.85606027, 0.23978904,\n",
              "        0.72046173, 0.67610425, 0.79560781, 0.35443807, 0.60517937,\n",
              "        0.5343051 ],\n",
              "       [0.65741897, 0.69578862, 0.68712085, 0.66751492, 0.41344225,\n",
              "        0.50682044, 0.43964896, 0.419765  , 0.39027783, 0.74438906,\n",
              "        0.85176313, 0.31881422, 0.37613392, 0.91703343, 0.90633476,\n",
              "        0.25875649],\n",
              "       [0.64017159, 0.73832005, 0.12984678, 0.16583098, 0.23927854,\n",
              "        0.17470431, 0.10935647, 0.09511745, 0.34770933, 0.18808873,\n",
              "        0.07949001, 0.0856498 , 0.14943022, 0.11004265, 0.11222854,\n",
              "        0.29671824],\n",
              "       [0.22809021, 0.3833515 , 0.33926699, 0.18319255, 0.27500257,\n",
              "        0.31881905, 0.33841953, 0.25457934, 0.32827413, 0.37546727,\n",
              "        0.25387293, 0.21812737, 0.32344207, 0.40864804, 0.37269884,\n",
              "        0.30202657],\n",
              "       [0.71141315, 0.86112893, 0.58654535, 0.67126667, 0.8350656 ,\n",
              "        0.54249477, 0.42977083, 0.69463134, 0.30204648, 0.54038322,\n",
              "        0.10256589, 0.32101759, 0.5278039 , 0.66423512, 0.71836275,\n",
              "        0.66181189],\n",
              "       [0.81798279, 0.81871241, 0.81813693, 0.81336391, 0.83711189,\n",
              "        0.16953197, 0.63772339, 0.24112532, 0.4779959 , 0.43509382,\n",
              "        0.05704628, 0.12355854, 0.56578922, 0.58764434, 0.54290122,\n",
              "        0.40800834],\n",
              "       [0.03960186, 0.19915059, 0.07194099, 0.07568696, 0.13233216,\n",
              "        0.61334401, 0.4201411 , 0.07959756, 0.10404442, 0.12177687,\n",
              "        0.19873609, 0.08246   , 0.79638749, 0.90010327, 0.69930285,\n",
              "        0.10613666],\n",
              "       [0.50737011, 0.40083462, 0.3223899 , 0.4157353 , 0.49996239,\n",
              "        0.16347629, 0.04651755, 0.22262952, 0.42515531, 0.11976422,\n",
              "        0.28978825, 0.31452042, 0.46770072, 0.28517583, 0.72659618,\n",
              "        0.59942883],\n",
              "       [0.60398149, 0.5099262 , 0.63762152, 0.63496912, 0.6905334 ,\n",
              "        0.57868671, 0.42695069, 0.61103594, 0.73080701, 0.57831085,\n",
              "        0.44724548, 0.42687923, 0.70421696, 0.24425766, 0.12994617,\n",
              "        0.40038317],\n",
              "       [0.95033091, 0.98617589, 0.96371365, 0.932962  , 0.46247101,\n",
              "        0.66802609, 0.51827216, 0.61055857, 0.37208608, 0.46061569,\n",
              "        0.19193128, 0.69269335, 0.57321084, 0.39050463, 0.19329511,\n",
              "        0.33209032],\n",
              "       [0.32411373, 0.21231404, 0.21054971, 0.1392802 , 0.41790679,\n",
              "        0.30319893, 0.21580315, 0.19269755, 0.35149884, 0.48673081,\n",
              "        0.71621633, 0.47001582, 0.29509786, 0.34984443, 0.33275804,\n",
              "        0.20368491],\n",
              "       [0.64030308, 0.43978277, 0.75958943, 0.81402826, 0.76379299,\n",
              "        0.42166209, 0.34384844, 0.70828485, 0.72464013, 0.27714697,\n",
              "        0.35345864, 0.23157384, 0.65840602, 0.61245394, 0.36991689,\n",
              "        0.31508189],\n",
              "       [0.31600875, 0.4098655 , 0.65480876, 0.36716318, 0.28783661,\n",
              "        0.53260922, 0.48166668, 0.36209983, 0.47077972, 0.54457867,\n",
              "        0.47957474, 0.43323845, 0.78277254, 0.75089562, 0.6236605 ,\n",
              "        0.84432882],\n",
              "       [0.70597732, 0.6752696 , 0.61778599, 0.53874022, 0.80219579,\n",
              "        0.76683134, 0.81149548, 0.78710485, 0.80685258, 0.69983935,\n",
              "        0.32361403, 0.44628462, 0.70787621, 0.7767688 , 0.8144275 ,\n",
              "        0.77337468],\n",
              "       [0.36163431, 0.35790503, 0.31529933, 0.30854344, 0.4354108 ,\n",
              "        0.0915398 , 0.19174471, 0.3001304 , 0.49231404, 0.43593228,\n",
              "        0.12397285, 0.27899933, 0.47433317, 0.53932208, 0.49655646,\n",
              "        0.5096851 ],\n",
              "       [0.28686786, 0.27784735, 0.26644784, 0.33584815, 0.15376794,\n",
              "        0.31184816, 0.30785894, 0.27641249, 0.12294225, 0.4582822 ,\n",
              "        0.23721236, 0.21579394, 0.15983981, 0.15605922, 0.21595246,\n",
              "        0.24485825],\n",
              "       [0.47998267, 0.5469358 , 0.5457952 , 0.38526216, 0.38371354,\n",
              "        0.32651168, 0.28109872, 0.38727385, 0.46125579, 0.41579276,\n",
              "        0.30519676, 0.38021219, 0.49229717, 0.58499092, 0.43944031,\n",
              "        0.29050255],\n",
              "       [0.36880013, 0.51788825, 0.32972962, 0.46469676, 0.48790032,\n",
              "        0.24659766, 0.43081677, 0.25153178, 0.37304503, 0.35105628,\n",
              "        0.19589031, 0.19061874, 0.47123915, 0.34727246, 0.05785696,\n",
              "        0.71452427],\n",
              "       [0.88053447, 0.86727732, 0.72346044, 0.66386485, 0.72105587,\n",
              "        0.43838993, 0.31041512, 0.81860268, 0.39973363, 0.40003267,\n",
              "        0.41451108, 0.308121  , 0.50150442, 0.45428756, 0.3749809 ,\n",
              "        0.69048387],\n",
              "       [0.32870716, 0.56086355, 0.63787836, 0.61033332, 0.30427375,\n",
              "        0.19819364, 0.38130856, 0.6132021 , 0.26848549, 0.36448118,\n",
              "        0.37975049, 0.54329753, 0.12485206, 0.17235765, 0.23205441,\n",
              "        0.27612275],\n",
              "       [0.17053697, 0.30975011, 0.18814883, 0.15556599, 0.22941962,\n",
              "        0.14631304, 0.24822834, 0.59607464, 0.24358638, 0.36916649,\n",
              "        0.43227258, 0.33756077, 0.30255198, 0.32319278, 0.44793445,\n",
              "        0.46624944],\n",
              "       [0.54344743, 0.51267016, 0.4603565 , 0.48657167, 0.77193445,\n",
              "        0.56914759, 0.5618248 , 0.78935719, 0.12485325, 0.18048109,\n",
              "        0.60502779, 0.32807028, 0.58269978, 0.59523493, 0.72145057,\n",
              "        0.58856761],\n",
              "       [0.86258477, 0.89858991, 0.92953956, 0.88303816, 0.90958005,\n",
              "        0.07246   , 0.20585382, 0.98570937, 0.12548491, 0.03222579,\n",
              "        0.03858186, 0.94102955, 0.31473178, 0.19569021, 0.38546246,\n",
              "        0.95707524],\n",
              "       [0.47896424, 0.49778169, 0.51915181, 0.48161817, 0.50750005,\n",
              "        0.56249821, 0.65961695, 0.50106394, 0.25172746, 0.69331098,\n",
              "        0.47615895, 0.49983454, 0.48116505, 0.51057565, 0.50460768,\n",
              "        0.40058452],\n",
              "       [0.8339811 , 0.97562838, 0.41457972, 0.66063368, 0.74695736,\n",
              "        0.5916267 , 0.59457809, 0.63656735, 0.11288069, 0.4908123 ,\n",
              "        0.38406128, 0.32363343, 0.21436039, 0.15055853, 0.10382932,\n",
              "        0.07817627],\n",
              "       [0.14561245, 0.13586226, 0.19516021, 0.23728757, 0.22554207,\n",
              "        0.76680624, 0.36774904, 0.2758863 , 0.53077555, 0.56272495,\n",
              "        0.27469933, 0.31006169, 0.58692139, 0.01095392, 0.2045356 ,\n",
              "        0.66760325],\n",
              "       [0.3163023 , 0.45271355, 0.31730473, 0.42776245, 0.35841334,\n",
              "        0.72758293, 0.65523326, 0.45432729, 0.21794492, 0.85906738,\n",
              "        0.67303747, 0.37970972, 0.64533865, 0.64228678, 0.61274397,\n",
              "        0.51314485],\n",
              "       [0.6963824 , 0.68678021, 0.69168937, 0.63531089, 0.66371524,\n",
              "        0.63045955, 0.57285416, 0.64411414, 0.46443236, 0.30557275,\n",
              "        0.09943451, 0.6113261 , 0.65141022, 0.19416697, 0.61422074,\n",
              "        0.61202884],\n",
              "       [0.28060901, 0.30881187, 0.33884579, 0.60728729, 0.69772375,\n",
              "        0.6058417 , 0.29097366, 0.54201984, 0.51124865, 0.47073403,\n",
              "        0.5267573 , 0.55975819, 0.47379845, 0.40985686, 0.36411336,\n",
              "        0.39118129],\n",
              "       [0.84608889, 0.69813365, 0.54093474, 0.73311007, 0.85530573,\n",
              "        0.63032913, 0.62900287, 0.59052926, 0.44066864, 0.6352306 ,\n",
              "        0.67380178, 0.77228677, 0.42788786, 0.60225874, 0.81594598,\n",
              "        0.89304793],\n",
              "       [0.33754981, 0.58122653, 0.24736629, 0.38309395, 0.22231039,\n",
              "        0.22114903, 0.30275637, 0.40406629, 0.40095639, 0.38733649,\n",
              "        0.32501513, 0.39125609, 0.5230369 , 0.34918365, 0.492971  ,\n",
              "        0.35628265],\n",
              "       [0.71275073, 0.69901347, 0.84743208, 0.84290814, 0.34796774,\n",
              "        0.7193777 , 0.85851276, 0.03996912, 0.46287179, 0.39216834,\n",
              "        0.42013305, 0.20525609, 0.31756032, 0.59428674, 0.32591835,\n",
              "        0.07257285],\n",
              "       [0.42099333, 0.35576856, 0.41314375, 0.30277503, 0.6338625 ,\n",
              "        0.4883213 , 0.37963253, 0.38092983, 0.41327602, 0.75950718,\n",
              "        0.70314556, 0.42743385, 0.42513964, 0.34216326, 0.38151404,\n",
              "        0.19417676],\n",
              "       [0.51519924, 0.51145917, 0.73902047, 0.89199287, 0.50432974,\n",
              "        0.52638805, 0.43973413, 0.39082515, 0.39199257, 0.28829539,\n",
              "        0.48412356, 0.56343663, 0.10906511, 0.01891108, 0.39581168,\n",
              "        0.69680887],\n",
              "       [0.71038532, 0.84511423, 0.81265724, 0.79526275, 0.80035007,\n",
              "        0.79155439, 0.85918856, 0.81834722, 0.83185059, 0.82639188,\n",
              "        0.81737733, 0.82089382, 0.80871165, 0.82229829, 0.79551786,\n",
              "        0.8102752 ],\n",
              "       [0.45320177, 0.45489377, 0.59158874, 0.59595537, 0.64031219,\n",
              "        0.24219346, 0.28403187, 0.62165779, 0.60729629, 0.58663154,\n",
              "        0.5276866 , 0.58282363, 0.58751208, 0.5875771 , 0.60490668,\n",
              "        0.60906792],\n",
              "       [0.62838078, 0.67248368, 0.7055769 , 0.38708895, 0.50789332,\n",
              "        0.15325314, 0.25277442, 0.3218047 , 0.60209697, 0.63154399,\n",
              "        0.51295269, 0.80303144, 0.62809378, 0.75764948, 0.63432086,\n",
              "        0.61254597],\n",
              "       [0.47199982, 0.56136119, 0.46079686, 0.4679563 , 0.46072268,\n",
              "        0.59206569, 0.37138805, 0.36556852, 0.28399187, 0.62411499,\n",
              "        0.29047072, 0.18210717, 0.21222678, 0.19027472, 0.18184374,\n",
              "        0.33208895],\n",
              "       [0.42354158, 0.52599043, 0.44293013, 0.55616021, 0.22674304,\n",
              "        0.30976796, 0.30412677, 0.39829317, 0.41786247, 0.15472333,\n",
              "        0.2048302 , 0.16092744, 0.50915706, 0.18059951, 0.85929054,\n",
              "        0.64704788],\n",
              "       [0.14881815, 0.28230324, 0.62216306, 0.53654313, 0.30536216,\n",
              "        0.44638339, 0.3273012 , 0.89615178, 0.51778388, 0.84151053,\n",
              "        0.93265754, 0.59653717, 0.10211177, 0.16016099, 0.26040795,\n",
              "        0.41428629],\n",
              "       [0.34699935, 0.39988071, 0.35479325, 0.28949443, 0.42523706,\n",
              "        0.34117648, 0.33399403, 0.38596639, 0.32980716, 0.36854768,\n",
              "        0.31262118, 0.2844207 , 0.29520845, 0.36631826, 0.33404875,\n",
              "        0.34753257],\n",
              "       [0.63060182, 0.58479536, 0.65088725, 0.62289357, 0.87603354,\n",
              "        0.66709286, 0.78750455, 0.70981807, 0.79649836, 0.61211622,\n",
              "        0.83831978, 0.88026422, 0.92596346, 0.75546098, 0.92261946,\n",
              "        0.9099226 ],\n",
              "       [0.58710885, 0.99597883, 0.99111962, 0.99637306, 0.78814405,\n",
              "        0.11889529, 0.41521561, 0.28563717, 0.39830914, 0.68601406,\n",
              "        0.3868008 , 0.59388304, 0.99597883, 0.99499857, 0.84416622,\n",
              "        0.99303794]])"
            ]
          },
          "execution_count": 21,
          "metadata": {
            "tags": []
          },
          "output_type": "execute_result"
        }
      ]
    },
    {
      "cell_type": "markdown",
      "metadata": {
        "id": "CAbFCFZuB4zX"
      },
      "source": [
        "# **Train_labels**"
      ]
    },
    {
      "cell_type": "code",
      "metadata": {
        "id": "55NzH5reCAli"
      },
      "source": [
        "train_labels=np.array(train_labels).reshape(-1,)"
      ],
      "execution_count": null,
      "outputs": []
    },
    {
      "cell_type": "code",
      "metadata": {
        "colab": {
          "base_uri": "https://localhost:8080/"
        },
        "id": "TFxdLJVyCAv8",
        "outputId": "8878c9dd-b798-4f6e-c94a-e64a34443a77"
      },
      "source": [
        "print(train_labels)"
      ],
      "execution_count": null,
      "outputs": [
        {
          "name": "stdout",
          "output_type": "stream",
          "text": [
            "[6 9 9 4 1 1 2 7 8 3 4 7 7 2 9 9 9 3 2 6 4 3 6 6 2 6 3 5 4 0 0 9 1 3 4 0 3\n",
            " 7 3 3 5 2 2 7 1 1 1 2 2 0]\n"
          ]
        }
      ]
    },
    {
      "cell_type": "code",
      "metadata": {
        "colab": {
          "base_uri": "https://localhost:8080/"
        },
        "id": "GPpWmNI8LxxN",
        "outputId": "eb6f2794-bb3a-4797-9155-0929122ba57b"
      },
      "source": [
        "len(train_labels)"
      ],
      "execution_count": null,
      "outputs": [
        {
          "data": {
            "text/plain": [
              "50"
            ]
          },
          "execution_count": 24,
          "metadata": {
            "tags": []
          },
          "output_type": "execute_result"
        }
      ]
    },
    {
      "cell_type": "code",
      "metadata": {
        "id": "jRNQVCOZLx3h"
      },
      "source": [
        ""
      ],
      "execution_count": null,
      "outputs": []
    },
    {
      "cell_type": "markdown",
      "metadata": {
        "id": "V_rT1zjBCry9"
      },
      "source": [
        "# **Test_images**"
      ]
    },
    {
      "cell_type": "code",
      "metadata": {
        "id": "X-7xA6_DCogP"
      },
      "source": [
        "test_images= tf.image.rgb_to_grayscale(test_images)"
      ],
      "execution_count": null,
      "outputs": []
    },
    {
      "cell_type": "code",
      "metadata": {
        "id": "Fa7jHBogCAzZ"
      },
      "source": [
        "test_images=tf.image.resize(test_images, [4,4])"
      ],
      "execution_count": null,
      "outputs": []
    },
    {
      "cell_type": "code",
      "metadata": {
        "colab": {
          "base_uri": "https://localhost:8080/"
        },
        "id": "tkaBrtqLDJ5_",
        "outputId": "f91556cf-0b06-4151-92b6-1af495301485"
      },
      "source": [
        "test_images.shape"
      ],
      "execution_count": null,
      "outputs": [
        {
          "data": {
            "text/plain": [
              "TensorShape([30, 4, 4, 1])"
            ]
          },
          "execution_count": 27,
          "metadata": {
            "tags": []
          },
          "output_type": "execute_result"
        }
      ]
    },
    {
      "cell_type": "code",
      "metadata": {
        "id": "VflgRgTVDJ8i"
      },
      "source": [
        "test_images=np.array((test_images),dtype=\"float64\").reshape(30,16)"
      ],
      "execution_count": null,
      "outputs": []
    },
    {
      "cell_type": "code",
      "metadata": {
        "colab": {
          "base_uri": "https://localhost:8080/"
        },
        "id": "p36-pPPbDJ_6",
        "outputId": "d66893c5-4e07-46a8-d555-3282cbb060db"
      },
      "source": [
        "test_images.shape"
      ],
      "execution_count": null,
      "outputs": [
        {
          "data": {
            "text/plain": [
              "(30, 16)"
            ]
          },
          "execution_count": 29,
          "metadata": {
            "tags": []
          },
          "output_type": "execute_result"
        }
      ]
    },
    {
      "cell_type": "code",
      "metadata": {
        "colab": {
          "base_uri": "https://localhost:8080/"
        },
        "id": "Cjeq_RQTW8Sl",
        "outputId": "1ba00866-262a-4145-c438-336c52ff870b"
      },
      "source": [
        "test_images"
      ],
      "execution_count": null,
      "outputs": [
        {
          "data": {
            "text/plain": [
              "array([[0.47801962, 0.65812367, 0.38839352, 0.38643676, 0.66770339,\n",
              "        0.59297967, 0.6461246 , 0.32625216, 0.69982266, 0.34252042,\n",
              "        0.38584238, 0.49494588, 0.30350855, 0.34309411, 0.32988316,\n",
              "        0.40685716],\n",
              "       [0.92147654, 0.91853565, 0.7798152 , 0.92020321, 0.85197002,\n",
              "        0.6390363 , 0.86889493, 0.85645932, 0.48380569, 0.5497328 ,\n",
              "        0.4372409 , 0.42502031, 0.0058501 , 0.00525343, 0.24610472,\n",
              "        0.57386935],\n",
              "       [0.70104229, 0.85280144, 0.78838861, 0.94570142, 0.41075277,\n",
              "        0.47837907, 0.44124734, 0.66730303, 0.54723763, 0.63091058,\n",
              "        0.63462871, 0.36006352, 0.1563251 , 0.21318816, 0.22013482,\n",
              "        0.15013981],\n",
              "       [0.7592777 , 0.60760701, 0.64230227, 0.8098008 , 0.72498596,\n",
              "        0.76458591, 0.76834857, 0.7956022 , 0.83654237, 0.1960256 ,\n",
              "        0.24469432, 0.73785573, 0.25120786, 0.22289097, 0.22469461,\n",
              "        0.24668069],\n",
              "       [0.33448619, 0.16967422, 0.36342511, 0.40814406, 0.49509698,\n",
              "        0.45648336, 0.47690001, 0.54830474, 0.39814481, 0.47993118,\n",
              "        0.62714636, 0.34778246, 0.22153352, 0.54756129, 0.58652854,\n",
              "        0.38005531],\n",
              "       [0.51236933, 0.48043552, 0.18006128, 0.31712344, 0.50083053,\n",
              "        0.6449542 , 0.4433217 , 0.27459306, 0.56020784, 0.54592931,\n",
              "        0.17760187, 0.5783422 , 0.44152462, 0.38792855, 0.33124483,\n",
              "        0.33196247],\n",
              "       [0.38104779, 0.24997698, 0.22489345, 0.16679609, 0.22107346,\n",
              "        0.44323248, 0.53651041, 0.23490903, 0.72020543, 0.12444109,\n",
              "        0.60285896, 0.62201172, 0.22693413, 0.21793424, 0.25964001,\n",
              "        0.02011186],\n",
              "       [0.32316032, 0.3519561 , 0.26473433, 0.2913911 , 0.62430876,\n",
              "        0.422566  , 0.36382198, 0.41356209, 0.97007763, 0.55719221,\n",
              "        0.44103011, 0.22805384, 0.38263285, 0.3296901 , 0.30278265,\n",
              "        0.25254217],\n",
              "       [0.17940637, 0.56575298, 0.43724394, 0.74492151, 0.74943674,\n",
              "        0.69140679, 0.58954072, 0.81370604, 0.72174221, 0.74850559,\n",
              "        0.65624982, 0.59855324, 0.67366463, 0.67998862, 0.42987308,\n",
              "        0.49871111],\n",
              "       [0.95602703, 0.52175188, 0.7551803 , 0.79851949, 0.84564042,\n",
              "        0.43288267, 0.45273197, 0.95578682, 0.32376981, 0.2475554 ,\n",
              "        0.42655003, 0.30428404, 0.59539974, 0.18160315, 0.36839464,\n",
              "        0.25591314],\n",
              "       [0.47715494, 0.49081728, 0.50528169, 0.57470393, 0.48644131,\n",
              "        0.49044257, 0.77299774, 0.62829113, 0.45666209, 0.75958622,\n",
              "        0.5208025 , 0.49681091, 0.49750876, 0.70568311, 0.50296021,\n",
              "        0.47896159],\n",
              "       [0.647753  , 0.72421145, 0.86771166, 0.50856572, 0.61807287,\n",
              "        0.66310918, 0.64024651, 0.61151803, 0.55246425, 0.61407328,\n",
              "        0.64008737, 0.39655563, 0.52626944, 0.12962109, 0.32144883,\n",
              "        0.49698991],\n",
              "       [0.37006739, 0.22355942, 0.19794786, 0.12304099, 0.44460708,\n",
              "        0.58822447, 0.62960196, 0.30171669, 0.31145072, 0.71553701,\n",
              "        0.64248925, 0.50253063, 0.36503875, 0.54484093, 0.41786402,\n",
              "        0.13864923],\n",
              "       [0.06971148, 0.05911854, 0.11311471, 0.45747268, 0.19634295,\n",
              "        0.97873557, 0.80140018, 0.12755178, 0.45149583, 0.47214699,\n",
              "        0.11123098, 0.01629353, 0.05249941, 0.14821208, 0.19901393,\n",
              "        0.15275109],\n",
              "       [0.59651029, 0.35525304, 0.27769381, 0.93726516, 0.41003108,\n",
              "        0.51201665, 0.59734631, 0.44629961, 0.31480345, 0.29827306,\n",
              "        0.42628318, 0.21887746, 0.2187303 , 0.04549392, 0.32474217,\n",
              "        0.47990775],\n",
              "       [0.86655748, 0.64138985, 0.50117141, 0.47608858, 0.44128922,\n",
              "        0.49439317, 0.67000353, 0.39615002, 0.84239745, 0.54872173,\n",
              "        0.81193286, 0.24971303, 0.35046795, 0.30624825, 0.34426498,\n",
              "        0.36735141],\n",
              "       [0.32194179, 0.50016445, 0.32193148, 0.02448275, 0.34657472,\n",
              "        0.76940262, 0.73619044, 0.02728951, 0.82414258, 0.85972416,\n",
              "        0.38203627, 0.76323485, 0.93017244, 0.33140078, 0.29594481,\n",
              "        0.7787357 ],\n",
              "       [0.572788  , 0.41346729, 0.33359835, 0.52377224, 0.42567709,\n",
              "        0.34323353, 0.66033846, 0.4957068 , 0.31023538, 0.33991441,\n",
              "        0.39620981, 0.81625926, 0.84984279, 0.83551151, 0.84092677,\n",
              "        0.53980851],\n",
              "       [0.91055816, 0.97291839, 0.98617589, 0.94204712, 0.73430419,\n",
              "        0.70132524, 0.95280033, 0.75216138, 0.15221855, 0.31777355,\n",
              "        0.2045958 , 0.198906  , 0.38643396, 0.08140138, 0.07927334,\n",
              "        0.12070795],\n",
              "       [0.19242521, 0.26393002, 0.24383579, 0.38276148, 0.22784472,\n",
              "        0.74145192, 0.87571746, 0.54623383, 0.28454441, 0.67529571,\n",
              "        0.75201666, 0.23396668, 0.45583749, 0.45756835, 0.59306556,\n",
              "        0.5729568 ],\n",
              "       [0.38267362, 0.34148961, 0.70104921, 0.80498159, 0.34472513,\n",
              "        0.21888736, 0.2032809 , 0.20307931, 0.50326699, 0.23062216,\n",
              "        0.16391148, 0.30648607, 0.53108215, 0.52345002, 0.47615394,\n",
              "        0.6178236 ],\n",
              "       [0.96821356, 0.96640241, 0.96346158, 0.95954043, 0.96052074,\n",
              "        0.88107461, 0.24538325, 0.95954043, 0.95856011, 0.7046262 ,\n",
              "        0.95062715, 0.95954043, 0.95600295, 0.95591223, 0.95600295,\n",
              "        0.95561922],\n",
              "       [0.30646253, 0.32298845, 0.32983717, 0.35639149, 0.25705081,\n",
              "        0.32654873, 0.36653277, 0.26335901, 0.28992775, 0.30931431,\n",
              "        0.35155022, 0.28303248, 0.25284305, 0.32121897, 0.5082106 ,\n",
              "        0.22455961],\n",
              "       [0.28467491, 0.37951434, 0.52856421, 0.7516886 , 0.17031501,\n",
              "        0.20473628, 0.27050483, 0.22376326, 0.18811069, 0.16571039,\n",
              "        0.36203101, 0.21523705, 0.47140563, 0.08589892, 0.51426798,\n",
              "        0.67579198],\n",
              "       [0.65564084, 0.63687474, 0.71843541, 0.72419691, 0.6391108 ,\n",
              "        0.52535653, 0.76755905, 0.73898631, 0.71521288, 0.57819569,\n",
              "        0.35074097, 0.53267014, 0.63212597, 0.61764634, 0.56646729,\n",
              "        0.64932096],\n",
              "       [0.63542354, 0.64784992, 0.60728765, 0.5680654 , 0.62432408,\n",
              "        0.42660296, 0.67650509, 0.33160099, 0.65793228, 0.13116422,\n",
              "        0.33050013, 0.41951385, 0.55276275, 0.12517843, 0.12584825,\n",
              "        0.58949149],\n",
              "       [0.34629503, 0.34631443, 0.41718709, 0.4979319 , 0.36248523,\n",
              "        0.29273257, 0.27889776, 0.29847738, 0.3062256 , 0.17747012,\n",
              "        0.38187373, 0.25981814, 0.55833173, 0.94625902, 0.18158078,\n",
              "        0.95444119],\n",
              "       [0.92712063, 0.96180511, 0.7277751 , 0.71288967, 0.67809856,\n",
              "        0.52880329, 0.41560727, 0.71780396, 0.210971  , 0.3535651 ,\n",
              "        0.31675991, 0.60901719, 0.29024354, 0.22862971, 0.54358339,\n",
              "        0.2360009 ],\n",
              "       [0.59083045, 0.59619159, 0.44713825, 0.77637285, 0.55484533,\n",
              "        0.40463912, 0.3912662 , 0.65619463, 0.20426992, 0.07840687,\n",
              "        0.35503462, 0.54525137, 0.90366906, 0.5460211 , 0.24369019,\n",
              "        0.81082797],\n",
              "       [0.47880962, 0.40885961, 0.45491228, 0.44192505, 0.17059648,\n",
              "        0.33285463, 0.31358933, 0.44030687, 0.48270002, 0.50027531,\n",
              "        0.34901953, 0.22711137, 0.40132019, 0.23363775, 0.15692002,\n",
              "        0.16079167]])"
            ]
          },
          "execution_count": 30,
          "metadata": {
            "tags": []
          },
          "output_type": "execute_result"
        }
      ]
    },
    {
      "cell_type": "markdown",
      "metadata": {
        "id": "gin0Idq9DlAd"
      },
      "source": [
        "# **Test_labels**"
      ]
    },
    {
      "cell_type": "code",
      "metadata": {
        "id": "XvJTahLKDnuh"
      },
      "source": [
        "test_labels=np.array(test_labels).reshape(-1,)"
      ],
      "execution_count": null,
      "outputs": []
    },
    {
      "cell_type": "code",
      "metadata": {
        "colab": {
          "base_uri": "https://localhost:8080/"
        },
        "id": "YtMgNbtlDn-k",
        "outputId": "36a6b5ee-ff7e-4729-9ee1-e5ffdf43414b"
      },
      "source": [
        "print(test_labels)"
      ],
      "execution_count": null,
      "outputs": [
        {
          "name": "stdout",
          "output_type": "stream",
          "text": [
            "[3 8 8 0 6 6 1 6 3 1 0 9 5 7 9 8 5 7 8 6 7 0 4 9 5 2 4 0 9 6]\n"
          ]
        }
      ]
    },
    {
      "cell_type": "code",
      "metadata": {
        "colab": {
          "base_uri": "https://localhost:8080/"
        },
        "id": "rWnyA5qaL9Xs",
        "outputId": "94af75b5-b9e1-463a-ba5b-6f1dd8a7dfe4"
      },
      "source": [
        "len(test_labels)"
      ],
      "execution_count": null,
      "outputs": [
        {
          "data": {
            "text/plain": [
              "30"
            ]
          },
          "execution_count": 33,
          "metadata": {
            "tags": []
          },
          "output_type": "execute_result"
        }
      ]
    },
    {
      "cell_type": "markdown",
      "metadata": {
        "id": "PEwD-1yn2W5E"
      },
      "source": [
        "# **Load data**"
      ]
    },
    {
      "cell_type": "code",
      "metadata": {
        "id": "sn2KTxL_LYYS"
      },
      "source": [
        "n_features = 2\n",
        "n_classes = 10\n",
        "n_samples = 50"
      ],
      "execution_count": null,
      "outputs": []
    },
    {
      "cell_type": "code",
      "metadata": {
        "colab": {
          "base_uri": "https://localhost:8080/"
        },
        "id": "vAjvCjYDOHSM",
        "outputId": "316b51c0-c819-46b4-f944-270e00c77689"
      },
      "source": [
        "np.random.seed(1967)\n",
        "x, y = zip(*np.random.permutation(list(zip(train_images, train_labels ))))\n",
        "\n",
        "pca = sklearn.decomposition.PCA(n_components=n_features)\n",
        "pca.fit(x)\n",
        "x = pca.transform(x)"
      ],
      "execution_count": null,
      "outputs": [
        {
          "name": "stderr",
          "output_type": "stream",
          "text": [
            "/usr/local/lib/python3.7/dist-packages/ipykernel_launcher.py:2: VisibleDeprecationWarning: Creating an ndarray from ragged nested sequences (which is a list-or-tuple of lists-or-tuples-or ndarrays with different lengths or shapes) is deprecated. If you meant to do this, you must specify 'dtype=object' when creating the ndarray.\n",
            "  \n"
          ]
        }
      ]
    },
    {
      "cell_type": "code",
      "metadata": {
        "id": "MmsasSNqPPaR"
      },
      "source": [
        "x_min = np.min(x, axis=0)\n",
        "x_max = np.max(x, axis=0)\n",
        "\n",
        "x = 2 * np.pi * (x - x_min) / (x_max - x_min) - np.pi"
      ],
      "execution_count": null,
      "outputs": []
    },
    {
      "cell_type": "code",
      "metadata": {
        "colab": {
          "base_uri": "https://localhost:8080/",
          "height": 502
        },
        "id": "mLYgnMfEa1Ff",
        "outputId": "defbac06-3cf7-4fe7-e56a-2f512da2a090"
      },
      "source": [
        "#colours = [\"#ec6f86\", \"#4573e7\", \"#ad61ed\", \"#FF8000\", \"#00008B\", \"\t#458B00\", \"\t#CD1076\", \"#8B3A62\", \"\t#FFF68F\",\"\t#8B008B\"]\n",
        "colours =  ['#1f77b4', '#ff7f0e', '#2ca02c', '#d62728', '#9467bd', '#8c564b', '#e377c2', '#7f7f7f', '#bcbd22', '#17becf']\n",
        "\n",
        "\n",
        "def plot_points(train_images, train_labels, test_images, test_labels):\n",
        "    c_train = []\n",
        "    c_test = []\n",
        "\n",
        "    for y in train_labels:\n",
        "        c_train.append(colours[y])\n",
        "\n",
        "    for y in test_labels:\n",
        "        c_test.append(colours[y])\n",
        "\n",
        "    plt.scatter(train_images[:, 0], train_images[:, 1], c=c_train)\n",
        "    plt.scatter(test_images[:, 0], test_images[:, 1], c=c_test, marker=\"x\")\n",
        "\n",
        "    plt.xlabel(\"Feature 1\", fontsize=16)\n",
        "    plt.ylabel(\"Feature 2\", fontsize=16)\n",
        "\n",
        "    ax = plt.gca()\n",
        "    ax.set_aspect(1)\n",
        "\n",
        "    c_transparent = \"#00000000\"\n",
        "\n",
        "    custom_lines = [\n",
        "        Patch(facecolor=colours[0], edgecolor=c_transparent, label=\"Class 0\"),\n",
        "        Patch(facecolor=colours[1], edgecolor=c_transparent, label=\"Class 1\"),\n",
        "        Patch(facecolor=colours[2], edgecolor=c_transparent, label=\"Class 2\"),\n",
        "        Patch(facecolor=colours[3], edgecolor=c_transparent, label=\"Class 3\"),\n",
        "        Patch(facecolor=colours[4], edgecolor=c_transparent, label=\"Class 4\"),\n",
        "        Patch(facecolor=colours[5], edgecolor=c_transparent, label=\"Class 5\"),\n",
        "        Patch(facecolor=colours[6], edgecolor=c_transparent, label=\"Class 6\"),\n",
        "        Patch(facecolor=colours[7], edgecolor=c_transparent, label=\"Class 7\"),\n",
        "        Patch(facecolor=colours[8], edgecolor=c_transparent, label=\"Class 8\"),\n",
        "        Patch(facecolor=colours[9], edgecolor=c_transparent, label=\"Class 9\"),\n",
        "\n",
        "\n",
        "\n",
        "       \n",
        "        Line2D([0], [0], marker=\"o\", color=c_transparent, label=\"Train\",\n",
        "               markerfacecolor=\"black\", markersize=10),\n",
        "        Line2D([0], [0], marker=\"x\", color=c_transparent, label=\"Test\",\n",
        "               markerfacecolor=\"black\", markersize=10),\n",
        "    ]\n",
        "\n",
        "    ax.legend(handles=custom_lines, bbox_to_anchor=(1.5, 0.75))\n",
        "plt.figure(figsize=(8,8))\n",
        "\n",
        "\n",
        "plot_points(train_images, train_labels, test_images, test_labels)"
      ],
      "execution_count": null,
      "outputs": [
        {
          "data": {
            "image/png": "[encoded data removed]",
            "text/plain": [
              "<Figure size 576x576 with 1 Axes>"
            ]
          },
          "metadata": {
            "needs_background": "light",
            "tags": []
          },
          "output_type": "display_data"
        }
      ]
    },
    {
      "cell_type": "markdown",
      "metadata": {
        "id": "iuhinMNuTTtB"
      },
      "source": [
        "# **Experience**"
      ]
    },
    {
      "cell_type": "code",
      "metadata": {
        "id": "QRyIP8QeTS5i"
      },
      "source": [
        "n_wires = 4\n",
        "#from pennylane_qiskit import AerDevice\n",
        "\n",
        "#dev = AerDevice(wires=4)\n",
        "#dev1 = qml.device(\"qiskit.aer\", wires=4)\n",
        "#dev0 = qml.device(\"forest.qvm\", device=\"4q-qvm\")\n",
        "\n",
        "#dev0 =  qml.device('cirq.simulator', wires=4)\n",
        "\n",
        "dev0 = qml.device('forest.numpy_wavefunction', wires=4)\n",
        "dev1 = qml.device('qiskit.basicaer', wires=4)\n",
        "devs = [dev0, dev1]"
      ],
      "execution_count": null,
      "outputs": []
    },
    {
      "cell_type": "code",
      "metadata": {
        "id": "GbkZLFlQTd8D"
      },
      "source": [
        "def circuit0(params, x=None):\n",
        "    for i in range(n_wires):\n",
        "        qml.RX(x[i % n_features], wires=i)\n",
        "        qml.Rot(*params[1, 0, i], wires=i)\n",
        "\n",
        "    qml.CZ(wires=[1, 0])\n",
        "    qml.CZ(wires=[1, 2])\n",
        "    qml.CZ(wires=[3, 0])\n",
        "\n",
        "    for i in range(n_wires):\n",
        "        qml.Rot(*params[1, 1, i], wires=i)\n",
        "    return qml.expval(qml.PauliZ(0)), qml.expval(qml.PauliZ(1)), qml.expval(qml.PauliZ(2))\n",
        "\n",
        "\n",
        "def circuit1(params, x=None):\n",
        "    for i in range(n_wires):\n",
        "        qml.RX(x[i % n_features], wires=i)\n",
        "        qml.Rot(*params[0, 0, i], wires=i)\n",
        "\n",
        "    qml.CZ(wires=[0, 1])\n",
        "    qml.CZ(wires=[1, 2])\n",
        "    qml.CZ(wires=[1, 3])\n",
        "\n",
        "    for i in range(n_wires):\n",
        "        qml.Rot(*params[0, 1, i], wires=i)\n",
        "    return qml.expval(qml.PauliZ(0)), qml.expval(qml.PauliZ(1)), qml.expval(qml.PauliZ(2))"
      ],
      "execution_count": null,
      "outputs": []
    },
    {
      "cell_type": "code",
      "metadata": {
        "id": "YQ3--vCzTd-_"
      },
      "source": [
        "qnodes = qml.QNodeCollection(\n",
        "    [qml.QNode(circuit0, dev0, interface=\"torch\"),\n",
        "     qml.QNode(circuit1, dev1, interface=\"torch\")]\n",
        ")"
      ],
      "execution_count": null,
      "outputs": []
    },
    {
      "cell_type": "markdown",
      "metadata": {
        "id": "yg4KyYaxTnFB"
      },
      "source": [
        "# **Postprocessing into a prediction**"
      ]
    },
    {
      "cell_type": "code",
      "metadata": {
        "id": "J-5Qy-e8TeBl"
      },
      "source": [
        "def decision(softmax):\n",
        "    return int(torch.argmax(softmax))\n",
        "\n",
        "\n",
        "def predict_point(params, x_point=None, parallel=True):\n",
        "    results = qnodes(params, x=x_point, parallel=parallel)\n",
        "    softmax = torch.nn.functional.softmax(results, dim=1)\n",
        "    choice = torch.where(softmax == torch.max(softmax))[0][0]\n",
        "    chosen_softmax = softmax[choice]\n",
        "    return decision(chosen_softmax), decision(softmax[0]), decision(softmax[1]), int(choice)"
      ],
      "execution_count": null,
      "outputs": []
    },
    {
      "cell_type": "code",
      "metadata": {
        "id": "q5VZoI3hTeDt"
      },
      "source": [
        "def predict(params, x=None, parallel=True):\n",
        "    predictions_ensemble = []\n",
        "    predictions_0 = []\n",
        "    predictions_1 = []\n",
        "    choices = []\n",
        "\n",
        "    for i, x_point in enumerate(x):\n",
        "        if i % 10 == 0 and i > 0:\n",
        "            print(\"Completed up to iteration {}\".format(i))\n",
        "        results = predict_point(params, x_point=x_point, parallel=parallel)\n",
        "        predictions_ensemble.append(results[0])\n",
        "        predictions_0.append(results[1])\n",
        "        predictions_1.append(results[2])\n",
        "        choices.append(results[3])\n",
        "\n",
        "    return predictions_ensemble, predictions_0, predictions_1, choices"
      ],
      "execution_count": null,
      "outputs": []
    },
    {
      "cell_type": "markdown",
      "metadata": {
        "id": "yntDMafVTxs8"
      },
      "source": [
        "# **Make predictions**"
      ]
    },
    {
      "cell_type": "code",
      "metadata": {
        "id": "DezLtq7MTeHI"
      },
      "source": [
        "params = np.load(\"/content/drive/MyDrive/Qintern/params.npy\")"
      ],
      "execution_count": null,
      "outputs": []
    },
    {
      "cell_type": "code",
      "metadata": {
        "colab": {
          "base_uri": "https://localhost:8080/"
        },
        "id": "_TrD4G6hT3G0",
        "outputId": "dc2172f8-fe8f-4ec1-96d8-a2465214ec09"
      },
      "source": [
        "print(\"Predicting on training dataset\")\n",
        "p_train, p_train_0, p_train_1, choices_train = predict(params, x=train_images)\n",
        "print(\"Predicting on test dataset\")\n",
        "p_test, p_test_0, p_test_1, choices_test = predict(params, x=test_images)"
      ],
      "execution_count": null,
      "outputs": [
        {
          "name": "stdout",
          "output_type": "stream",
          "text": [
            "Predicting on training dataset\n"
          ]
        },
        {
          "name": "stderr",
          "output_type": "stream",
          "text": [
            "/usr/local/lib/python3.7/dist-packages/pennylane_qiskit/qiskit_device.py:315: UserWarning: Option verbose is not used by this backend\n",
            "  self._current_job = self.backend.run(qcirc, shots=self.shots, **self.run_args)\n"
          ]
        },
        {
          "name": "stdout",
          "output_type": "stream",
          "text": [
            "Completed up to iteration 10\n",
            "Completed up to iteration 20\n",
            "Completed up to iteration 30\n",
            "Completed up to iteration 40\n",
            "Predicting on test dataset\n",
            "Completed up to iteration 10\n",
            "Completed up to iteration 20\n"
          ]
        }
      ]
    },
    {
      "cell_type": "markdown",
      "metadata": {
        "id": "UexC_WBDUNxl"
      },
      "source": [
        "# **Accuracy**"
      ]
    },
    {
      "cell_type": "code",
      "metadata": {
        "id": "ZdLxCddpUNKG"
      },
      "source": [
        "def accuracy(predictions, actuals):\n",
        "    count = 0\n",
        "\n",
        "    for i in range(len(predictions)):\n",
        "        if predictions[i] == actuals[i]:\n",
        "            count += 1\n",
        "\n",
        "    accuracy = count / (len(predictions))\n",
        "    return accuracy"
      ],
      "execution_count": null,
      "outputs": []
    },
    {
      "cell_type": "code",
      "metadata": {
        "colab": {
          "base_uri": "https://localhost:8080/"
        },
        "id": "8o0m_U5sUSB4",
        "outputId": "22897696-c73e-48e8-9478-107079851028"
      },
      "source": [
        "print(\"Training accuracy (ensemble): {}\".format(accuracy(p_train, train_labels)))\n",
        "print(\"Training accuracy (QPU0):  {}\".format(accuracy(p_train_0, train_labels)))\n",
        "print(\"Training accuracy (QPU1):  {}\".format(accuracy(p_train_1, train_labels)))"
      ],
      "execution_count": null,
      "outputs": [
        {
          "name": "stdout",
          "output_type": "stream",
          "text": [
            "Training accuracy (ensemble): 0.16\n",
            "Training accuracy (QPU0):  0.16\n",
            "Training accuracy (QPU1):  0.14\n"
          ]
        }
      ]
    },
    {
      "cell_type": "code",
      "metadata": {
        "colab": {
          "base_uri": "https://localhost:8080/"
        },
        "id": "aHzD38TlUSEI",
        "outputId": "8c225bc6-cbc2-4cbc-c6fc-3ad759845a8b"
      },
      "source": [
        "print(\"Test accuracy (ensemble): {}\".format(accuracy(p_test,train_labels)))\n",
        "print(\"Test accuracy (QPU0):  {}\".format(accuracy(p_test_0, train_labels)))\n",
        "print(\"Test accuracy (QPU1):  {}\".format(accuracy(p_test_1, train_labels)))"
      ],
      "execution_count": null,
      "outputs": [
        {
          "name": "stdout",
          "output_type": "stream",
          "text": [
            "Test accuracy (ensemble): 0.1\n",
            "Test accuracy (QPU0):  0.13333333333333333\n",
            "Test accuracy (QPU1):  0.03333333333333333\n"
          ]
        }
      ]
    }
  ]
}