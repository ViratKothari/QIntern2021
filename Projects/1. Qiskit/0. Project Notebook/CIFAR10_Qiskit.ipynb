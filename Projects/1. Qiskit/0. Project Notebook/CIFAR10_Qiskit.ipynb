{
  "nbformat": 4,
  "nbformat_minor": 0,
  "metadata": {
    "colab": {
      "name": "CIFAR Qiskit.ipynb",
      "provenance": [],
      "collapsed_sections": []
    },
    "kernelspec": {
      "name": "python3",
      "display_name": "Python 3"
    },
    "language_info": {
      "name": "python"
    }
  },
  "cells": [
    {
      "cell_type": "markdown",
      "metadata": {
        "id": "vJ0Ovu4UlhW_"
      },
      "source": [
        "# CIFAR10 Classification\n",
        "\n",
        "In this example we will build a quantum neural network (QNN) to classify a simplified version of CIFAR.\n",
        "\n",
        "We will try to follow tutorial given at following link for MNIST classification:\n",
        "\n",
        "URL: https://qiskit.org/documentation/machine-learning/tutorials/05_torch_connector.html#Part-2:-MNIST-Classification\n"
      ]
    },
    {
      "cell_type": "markdown",
      "metadata": {
        "id": "qkH17R8b74DV"
      },
      "source": [
        "## Setup"
      ]
    },
    {
      "cell_type": "code",
      "metadata": {
        "id": "aHVUy1MFljie"
      },
      "source": [
        "# installing necessary pakages\n",
        "\n",
        "!pip install qiskit # Quantum Qiskit Library\n",
        "!pip install pylatexenc # Quantum circuit visualization library. More info: https://github.com/phfaist/pylatexenc"
      ],
      "execution_count": null,
      "outputs": []
    },
    {
      "cell_type": "code",
      "metadata": {
        "id": "iOa_Qldm71XE"
      },
      "source": [
        "!pip install qiskit_machine_learning"
      ],
      "execution_count": null,
      "outputs": []
    },
    {
      "cell_type": "markdown",
      "metadata": {
        "id": "1H6urJi_77xb"
      },
      "source": [
        "Importing libraries"
      ]
    },
    {
      "cell_type": "code",
      "metadata": {
        "id": "ztdUC9OwnhgH"
      },
      "source": [
        "from torch import cat, no_grad\n",
        "from torch.utils.data import DataLoader\n",
        "from torchvision import datasets, transforms\n",
        "import torch.optim as optim\n",
        "from torch.nn import (Module, Conv2d, Linear, Dropout2d, NLLLoss,\n",
        "                     MaxPool2d, Flatten, Sequential, ReLU)\n",
        "import torch.nn.functional as F"
      ],
      "execution_count": 3,
      "outputs": []
    },
    {
      "cell_type": "code",
      "metadata": {
        "id": "wG8wRsjKmXYE"
      },
      "source": [
        "import numpy as np\n",
        "import matplotlib.pyplot as plt\n",
        "\n",
        "from torch import Tensor\n",
        "from torch.nn import Linear, CrossEntropyLoss, MSELoss\n",
        "from torch.optim import LBFGS\n",
        "\n",
        "from qiskit  import Aer, QuantumCircuit\n",
        "from qiskit.utils import QuantumInstance\n",
        "from qiskit.opflow import AerPauliExpectation\n",
        "from qiskit.circuit import Parameter\n",
        "from qiskit.circuit.library import RealAmplitudes, ZZFeatureMap\n",
        "from qiskit_machine_learning.neural_networks import CircuitQNN, TwoLayerQNN\n",
        "from qiskit_machine_learning.connectors import TorchConnector\n",
        "\n",
        "qi = QuantumInstance(Aer.get_backend('statevector_simulator'))"
      ],
      "execution_count": 4,
      "outputs": []
    },
    {
      "cell_type": "markdown",
      "metadata": {
        "id": "Bw75xa8a8Bi0"
      },
      "source": [
        "## 1. Loading data\n",
        "\n",
        "n this project we will build a binary classifier to distinguish between the two images of two categories at first. Following activites are envisaged:\n",
        "\n",
        "- Loading data from Keras\n",
        "- **Filtering the dataset for two categories i.e. airplane and dog**\n",
        "- We will use limited samples e.g. 50 or 100\n",
        "- Using QNN\n",
        "- Defining model, optimizer, and loss function\n",
        "- Model evaluation\n",
        "- Prediction"
      ]
    },
    {
      "cell_type": "code",
      "metadata": {
        "id": "_f9mXECvmnhz"
      },
      "source": [
        "# Concentrating on the first 100 samples\n",
        "batch_size = 1\n",
        "n_samples = 100\n",
        "\n",
        "X_train = datasets.CIFAR10(root='./data', train=True, download=True,\n",
        "                         transform=transforms.Compose([transforms.ToTensor()]))\n",
        "\n",
        "# Leaving only labels airplane and dog\n"
      ],
      "execution_count": null,
      "outputs": []
    },
    {
      "cell_type": "code",
      "metadata": {
        "id": "RsCPaevu9b49"
      },
      "source": [
        ""
      ],
      "execution_count": 5,
      "outputs": []
    }
  ]
}