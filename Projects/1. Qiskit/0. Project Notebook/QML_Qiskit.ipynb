{
  "nbformat": 4,
  "nbformat_minor": 0,
  "metadata": {
    "colab": {
      "name": "QML_Qiskit.ipynb",
      "provenance": [],
      "collapsed_sections": []
    },
    "kernelspec": {
      "name": "python3",
      "display_name": "Python 3"
    },
    "language_info": {
      "name": "python"
    },
    "widgets": {
      "application/vnd.jupyter.widget-state+json": {
        "226d26f407c04de7a0d8c0b57db3df2b": {
          "model_module": "@jupyter-widgets/controls",
          "model_name": "HBoxModel",
          "model_module_version": "1.5.0",
          "state": {
            "_view_name": "HBoxView",
            "_dom_classes": [],
            "_model_name": "HBoxModel",
            "_view_module": "@jupyter-widgets/controls",
            "_model_module_version": "1.5.0",
            "_view_count": null,
            "_view_module_version": "1.5.0",
            "box_style": "",
            "layout": "IPY_MODEL_69927ab53c544a81b426ed0f12d3b175",
            "_model_module": "@jupyter-widgets/controls",
            "children": [
              "IPY_MODEL_0995a8fc42b1467dabf6c32c789bf0e4",
              "IPY_MODEL_a83e658bf9bd4351b171f4dbab2cce47",
              "IPY_MODEL_d558cddd36ff4292a405a8c44c833633"
            ]
          }
        },
        "69927ab53c544a81b426ed0f12d3b175": {
          "model_module": "@jupyter-widgets/base",
          "model_name": "LayoutModel",
          "model_module_version": "1.2.0",
          "state": {
            "_view_name": "LayoutView",
            "grid_template_rows": null,
            "right": null,
            "justify_content": null,
            "_view_module": "@jupyter-widgets/base",
            "overflow": null,
            "_model_module_version": "1.2.0",
            "_view_count": null,
            "flex_flow": null,
            "width": null,
            "min_width": null,
            "border": null,
            "align_items": null,
            "bottom": null,
            "_model_module": "@jupyter-widgets/base",
            "top": null,
            "grid_column": null,
            "overflow_y": null,
            "overflow_x": null,
            "grid_auto_flow": null,
            "grid_area": null,
            "grid_template_columns": null,
            "flex": null,
            "_model_name": "LayoutModel",
            "justify_items": null,
            "grid_row": null,
            "max_height": null,
            "align_content": null,
            "visibility": null,
            "align_self": null,
            "height": null,
            "min_height": null,
            "padding": null,
            "grid_auto_rows": null,
            "grid_gap": null,
            "max_width": null,
            "order": null,
            "_view_module_version": "1.2.0",
            "grid_template_areas": null,
            "object_position": null,
            "object_fit": null,
            "grid_auto_columns": null,
            "margin": null,
            "display": null,
            "left": null
          }
        },
        "0995a8fc42b1467dabf6c32c789bf0e4": {
          "model_module": "@jupyter-widgets/controls",
          "model_name": "HTMLModel",
          "model_module_version": "1.5.0",
          "state": {
            "_view_name": "HTMLView",
            "style": "IPY_MODEL_d7bbd5f6cbae4e36ab23a1e497a96237",
            "_dom_classes": [],
            "description": "",
            "_model_name": "HTMLModel",
            "placeholder": "​",
            "_view_module": "@jupyter-widgets/controls",
            "_model_module_version": "1.5.0",
            "value": "100%",
            "_view_count": null,
            "_view_module_version": "1.5.0",
            "description_tooltip": null,
            "_model_module": "@jupyter-widgets/controls",
            "layout": "IPY_MODEL_3c0c30d2a2dd4eada3ff5e95da0850a2"
          }
        },
        "a83e658bf9bd4351b171f4dbab2cce47": {
          "model_module": "@jupyter-widgets/controls",
          "model_name": "FloatProgressModel",
          "model_module_version": "1.5.0",
          "state": {
            "_view_name": "ProgressView",
            "style": "IPY_MODEL_19a523fd8d2944238348376432f567c4",
            "_dom_classes": [],
            "description": "",
            "_model_name": "FloatProgressModel",
            "bar_style": "success",
            "max": 46830571,
            "_view_module": "@jupyter-widgets/controls",
            "_model_module_version": "1.5.0",
            "value": 46830571,
            "_view_count": null,
            "_view_module_version": "1.5.0",
            "orientation": "horizontal",
            "min": 0,
            "description_tooltip": null,
            "_model_module": "@jupyter-widgets/controls",
            "layout": "IPY_MODEL_3d89b1fb3aec4384b14c4e1876be8d84"
          }
        },
        "d558cddd36ff4292a405a8c44c833633": {
          "model_module": "@jupyter-widgets/controls",
          "model_name": "HTMLModel",
          "model_module_version": "1.5.0",
          "state": {
            "_view_name": "HTMLView",
            "style": "IPY_MODEL_d802aabba8724906ae67fc68fb99e296",
            "_dom_classes": [],
            "description": "",
            "_model_name": "HTMLModel",
            "placeholder": "​",
            "_view_module": "@jupyter-widgets/controls",
            "_model_module_version": "1.5.0",
            "value": " 44.7M/44.7M [00:00&lt;00:00, 106MB/s]",
            "_view_count": null,
            "_view_module_version": "1.5.0",
            "description_tooltip": null,
            "_model_module": "@jupyter-widgets/controls",
            "layout": "IPY_MODEL_c66617228f4743258b59f87af66fea57"
          }
        },
        "d7bbd5f6cbae4e36ab23a1e497a96237": {
          "model_module": "@jupyter-widgets/controls",
          "model_name": "DescriptionStyleModel",
          "model_module_version": "1.5.0",
          "state": {
            "_view_name": "StyleView",
            "_model_name": "DescriptionStyleModel",
            "description_width": "",
            "_view_module": "@jupyter-widgets/base",
            "_model_module_version": "1.5.0",
            "_view_count": null,
            "_view_module_version": "1.2.0",
            "_model_module": "@jupyter-widgets/controls"
          }
        },
        "3c0c30d2a2dd4eada3ff5e95da0850a2": {
          "model_module": "@jupyter-widgets/base",
          "model_name": "LayoutModel",
          "model_module_version": "1.2.0",
          "state": {
            "_view_name": "LayoutView",
            "grid_template_rows": null,
            "right": null,
            "justify_content": null,
            "_view_module": "@jupyter-widgets/base",
            "overflow": null,
            "_model_module_version": "1.2.0",
            "_view_count": null,
            "flex_flow": null,
            "width": null,
            "min_width": null,
            "border": null,
            "align_items": null,
            "bottom": null,
            "_model_module": "@jupyter-widgets/base",
            "top": null,
            "grid_column": null,
            "overflow_y": null,
            "overflow_x": null,
            "grid_auto_flow": null,
            "grid_area": null,
            "grid_template_columns": null,
            "flex": null,
            "_model_name": "LayoutModel",
            "justify_items": null,
            "grid_row": null,
            "max_height": null,
            "align_content": null,
            "visibility": null,
            "align_self": null,
            "height": null,
            "min_height": null,
            "padding": null,
            "grid_auto_rows": null,
            "grid_gap": null,
            "max_width": null,
            "order": null,
            "_view_module_version": "1.2.0",
            "grid_template_areas": null,
            "object_position": null,
            "object_fit": null,
            "grid_auto_columns": null,
            "margin": null,
            "display": null,
            "left": null
          }
        },
        "19a523fd8d2944238348376432f567c4": {
          "model_module": "@jupyter-widgets/controls",
          "model_name": "ProgressStyleModel",
          "model_module_version": "1.5.0",
          "state": {
            "_view_name": "StyleView",
            "_model_name": "ProgressStyleModel",
            "description_width": "",
            "_view_module": "@jupyter-widgets/base",
            "_model_module_version": "1.5.0",
            "_view_count": null,
            "_view_module_version": "1.2.0",
            "bar_color": null,
            "_model_module": "@jupyter-widgets/controls"
          }
        },
        "3d89b1fb3aec4384b14c4e1876be8d84": {
          "model_module": "@jupyter-widgets/base",
          "model_name": "LayoutModel",
          "model_module_version": "1.2.0",
          "state": {
            "_view_name": "LayoutView",
            "grid_template_rows": null,
            "right": null,
            "justify_content": null,
            "_view_module": "@jupyter-widgets/base",
            "overflow": null,
            "_model_module_version": "1.2.0",
            "_view_count": null,
            "flex_flow": null,
            "width": null,
            "min_width": null,
            "border": null,
            "align_items": null,
            "bottom": null,
            "_model_module": "@jupyter-widgets/base",
            "top": null,
            "grid_column": null,
            "overflow_y": null,
            "overflow_x": null,
            "grid_auto_flow": null,
            "grid_area": null,
            "grid_template_columns": null,
            "flex": null,
            "_model_name": "LayoutModel",
            "justify_items": null,
            "grid_row": null,
            "max_height": null,
            "align_content": null,
            "visibility": null,
            "align_self": null,
            "height": null,
            "min_height": null,
            "padding": null,
            "grid_auto_rows": null,
            "grid_gap": null,
            "max_width": null,
            "order": null,
            "_view_module_version": "1.2.0",
            "grid_template_areas": null,
            "object_position": null,
            "object_fit": null,
            "grid_auto_columns": null,
            "margin": null,
            "display": null,
            "left": null
          }
        },
        "d802aabba8724906ae67fc68fb99e296": {
          "model_module": "@jupyter-widgets/controls",
          "model_name": "DescriptionStyleModel",
          "model_module_version": "1.5.0",
          "state": {
            "_view_name": "StyleView",
            "_model_name": "DescriptionStyleModel",
            "description_width": "",
            "_view_module": "@jupyter-widgets/base",
            "_model_module_version": "1.5.0",
            "_view_count": null,
            "_view_module_version": "1.2.0",
            "_model_module": "@jupyter-widgets/controls"
          }
        },
        "c66617228f4743258b59f87af66fea57": {
          "model_module": "@jupyter-widgets/base",
          "model_name": "LayoutModel",
          "model_module_version": "1.2.0",
          "state": {
            "_view_name": "LayoutView",
            "grid_template_rows": null,
            "right": null,
            "justify_content": null,
            "_view_module": "@jupyter-widgets/base",
            "overflow": null,
            "_model_module_version": "1.2.0",
            "_view_count": null,
            "flex_flow": null,
            "width": null,
            "min_width": null,
            "border": null,
            "align_items": null,
            "bottom": null,
            "_model_module": "@jupyter-widgets/base",
            "top": null,
            "grid_column": null,
            "overflow_y": null,
            "overflow_x": null,
            "grid_auto_flow": null,
            "grid_area": null,
            "grid_template_columns": null,
            "flex": null,
            "_model_name": "LayoutModel",
            "justify_items": null,
            "grid_row": null,
            "max_height": null,
            "align_content": null,
            "visibility": null,
            "align_self": null,
            "height": null,
            "min_height": null,
            "padding": null,
            "grid_auto_rows": null,
            "grid_gap": null,
            "max_width": null,
            "order": null,
            "_view_module_version": "1.2.0",
            "grid_template_areas": null,
            "object_position": null,
            "object_fit": null,
            "grid_auto_columns": null,
            "margin": null,
            "display": null,
            "left": null
          }
        }
      }
    }
  },
  "cells": [
    {
      "cell_type": "markdown",
      "metadata": {
        "id": "w2B5qT0obUPH"
      },
      "source": [
        "**Hybrid classical-quantum Machine learning model using Pytorch + Qiskit on CIFAR-10 Dataset.** \n",
        "\n",
        "\n",
        "Project 19, Qworld Intern\n",
        "\n",
        "Mentor: Virat Kumar Kothari Sir\n",
        "\n",
        "The code makes use of the machine learning framework PyTorch, which is assumed to be correctly installed.\n",
        "\n",
        "The main imported modules are: some common PyTorch libraries, the quantum software framework Qiskit and the python plotting library matplotlib."
      ]
    },
    {
      "cell_type": "code",
      "metadata": {
        "colab": {
          "base_uri": "https://localhost:8080/"
        },
        "id": "zDfcPPb2R9hc",
        "outputId": "1893a26a-a615-4e6f-fa2f-75151725e4e1"
      },
      "source": [
        "!pip install qiskit\n",
        "import numpy as np\n",
        "import matplotlib.pyplot as plt\n",
        "import torch\n",
        "from torch.autograd import Function\n",
        "from torchvision import datasets, transforms\n",
        "import torch.optim as optim\n",
        "import torch.nn as nn\n",
        "import torch.nn.functional as F\n",
        "\n",
        "import qiskit\n",
        "from qiskit import transpile, assemble\n",
        "from qiskit.visualization import *\n",
        "import copy \n",
        "import time"
      ],
      "execution_count": null,
      "outputs": [
        {
          "output_type": "stream",
          "text": [
            "Requirement already satisfied: qiskit in /usr/local/lib/python3.7/dist-packages (0.29.0)\n",
            "Requirement already satisfied: qiskit-aer==0.8.2 in /usr/local/lib/python3.7/dist-packages (from qiskit) (0.8.2)\n",
            "Requirement already satisfied: qiskit-aqua==0.9.4 in /usr/local/lib/python3.7/dist-packages (from qiskit) (0.9.4)\n",
            "Requirement already satisfied: qiskit-ibmq-provider==0.16.0 in /usr/local/lib/python3.7/dist-packages (from qiskit) (0.16.0)\n",
            "Requirement already satisfied: qiskit-ignis==0.6.0 in /usr/local/lib/python3.7/dist-packages (from qiskit) (0.6.0)\n",
            "Requirement already satisfied: qiskit-terra==0.18.1 in /usr/local/lib/python3.7/dist-packages (from qiskit) (0.18.1)\n",
            "Requirement already satisfied: pybind11>=2.6 in /usr/local/lib/python3.7/dist-packages (from qiskit-aer==0.8.2->qiskit) (2.7.1)\n",
            "Requirement already satisfied: scipy>=1.0 in /usr/local/lib/python3.7/dist-packages (from qiskit-aer==0.8.2->qiskit) (1.4.1)\n",
            "Requirement already satisfied: numpy>=1.16.3 in /usr/local/lib/python3.7/dist-packages (from qiskit-aer==0.8.2->qiskit) (1.19.5)\n",
            "Requirement already satisfied: pandas in /usr/local/lib/python3.7/dist-packages (from qiskit-aqua==0.9.4->qiskit) (1.1.5)\n",
            "Requirement already satisfied: yfinance<0.1.63 in /usr/local/lib/python3.7/dist-packages (from qiskit-aqua==0.9.4->qiskit) (0.1.62)\n",
            "Requirement already satisfied: quandl in /usr/local/lib/python3.7/dist-packages (from qiskit-aqua==0.9.4->qiskit) (3.6.1)\n",
            "Requirement already satisfied: h5py<3.3.0 in /usr/local/lib/python3.7/dist-packages (from qiskit-aqua==0.9.4->qiskit) (3.1.0)\n",
            "Requirement already satisfied: setuptools>=40.1.0 in /usr/local/lib/python3.7/dist-packages (from qiskit-aqua==0.9.4->qiskit) (57.4.0)\n",
            "Requirement already satisfied: retworkx>=0.8.0 in /usr/local/lib/python3.7/dist-packages (from qiskit-aqua==0.9.4->qiskit) (0.9.0)\n",
            "Requirement already satisfied: sympy>=1.3 in /usr/local/lib/python3.7/dist-packages (from qiskit-aqua==0.9.4->qiskit) (1.7.1)\n",
            "Requirement already satisfied: scikit-learn>=0.20.0 in /usr/local/lib/python3.7/dist-packages (from qiskit-aqua==0.9.4->qiskit) (0.22.2.post1)\n",
            "Requirement already satisfied: docplex>=2.21.207 in /usr/local/lib/python3.7/dist-packages (from qiskit-aqua==0.9.4->qiskit) (2.21.207)\n",
            "Requirement already satisfied: dlx<=1.0.4 in /usr/local/lib/python3.7/dist-packages (from qiskit-aqua==0.9.4->qiskit) (1.0.4)\n",
            "Requirement already satisfied: fastdtw<=0.3.4 in /usr/local/lib/python3.7/dist-packages (from qiskit-aqua==0.9.4->qiskit) (0.3.4)\n",
            "Requirement already satisfied: psutil>=5 in /usr/local/lib/python3.7/dist-packages (from qiskit-aqua==0.9.4->qiskit) (5.4.8)\n",
            "Requirement already satisfied: requests-ntlm>=1.1.0 in /usr/local/lib/python3.7/dist-packages (from qiskit-ibmq-provider==0.16.0->qiskit) (1.1.0)\n",
            "Requirement already satisfied: requests>=2.19 in /usr/local/lib/python3.7/dist-packages (from qiskit-ibmq-provider==0.16.0->qiskit) (2.23.0)\n",
            "Requirement already satisfied: websocket-client>=1.0.1 in /usr/local/lib/python3.7/dist-packages (from qiskit-ibmq-provider==0.16.0->qiskit) (1.2.1)\n",
            "Requirement already satisfied: python-dateutil>=2.8.0 in /usr/local/lib/python3.7/dist-packages (from qiskit-ibmq-provider==0.16.0->qiskit) (2.8.2)\n",
            "Requirement already satisfied: urllib3>=1.21.1 in /usr/local/lib/python3.7/dist-packages (from qiskit-ibmq-provider==0.16.0->qiskit) (1.24.3)\n",
            "Requirement already satisfied: tweedledum<2.0,>=1.1 in /usr/local/lib/python3.7/dist-packages (from qiskit-terra==0.18.1->qiskit) (1.1.0)\n",
            "Requirement already satisfied: jsonschema>=2.6 in /usr/local/lib/python3.7/dist-packages (from qiskit-terra==0.18.1->qiskit) (2.6.0)\n",
            "Requirement already satisfied: python-constraint>=1.4 in /usr/local/lib/python3.7/dist-packages (from qiskit-terra==0.18.1->qiskit) (1.4.0)\n",
            "Requirement already satisfied: symengine>0.7 in /usr/local/lib/python3.7/dist-packages (from qiskit-terra==0.18.1->qiskit) (0.7.2)\n",
            "Requirement already satisfied: dill>=0.3 in /usr/local/lib/python3.7/dist-packages (from qiskit-terra==0.18.1->qiskit) (0.3.4)\n",
            "Requirement already satisfied: ply>=3.10 in /usr/local/lib/python3.7/dist-packages (from qiskit-terra==0.18.1->qiskit) (3.11)\n",
            "Requirement already satisfied: fastjsonschema>=2.10 in /usr/local/lib/python3.7/dist-packages (from qiskit-terra==0.18.1->qiskit) (2.15.1)\n",
            "Requirement already satisfied: six in /usr/local/lib/python3.7/dist-packages (from docplex>=2.21.207->qiskit-aqua==0.9.4->qiskit) (1.15.0)\n",
            "Requirement already satisfied: cached-property in /usr/local/lib/python3.7/dist-packages (from h5py<3.3.0->qiskit-aqua==0.9.4->qiskit) (1.5.2)\n",
            "Requirement already satisfied: chardet<4,>=3.0.2 in /usr/local/lib/python3.7/dist-packages (from requests>=2.19->qiskit-ibmq-provider==0.16.0->qiskit) (3.0.4)\n",
            "Requirement already satisfied: certifi>=2017.4.17 in /usr/local/lib/python3.7/dist-packages (from requests>=2.19->qiskit-ibmq-provider==0.16.0->qiskit) (2021.5.30)\n",
            "Requirement already satisfied: idna<3,>=2.5 in /usr/local/lib/python3.7/dist-packages (from requests>=2.19->qiskit-ibmq-provider==0.16.0->qiskit) (2.10)\n",
            "Requirement already satisfied: ntlm-auth>=1.0.2 in /usr/local/lib/python3.7/dist-packages (from requests-ntlm>=1.1.0->qiskit-ibmq-provider==0.16.0->qiskit) (1.5.0)\n",
            "Requirement already satisfied: cryptography>=1.3 in /usr/local/lib/python3.7/dist-packages (from requests-ntlm>=1.1.0->qiskit-ibmq-provider==0.16.0->qiskit) (3.4.7)\n",
            "Requirement already satisfied: cffi>=1.12 in /usr/local/lib/python3.7/dist-packages (from cryptography>=1.3->requests-ntlm>=1.1.0->qiskit-ibmq-provider==0.16.0->qiskit) (1.14.6)\n",
            "Requirement already satisfied: pycparser in /usr/local/lib/python3.7/dist-packages (from cffi>=1.12->cryptography>=1.3->requests-ntlm>=1.1.0->qiskit-ibmq-provider==0.16.0->qiskit) (2.20)\n",
            "Requirement already satisfied: joblib>=0.11 in /usr/local/lib/python3.7/dist-packages (from scikit-learn>=0.20.0->qiskit-aqua==0.9.4->qiskit) (1.0.1)\n",
            "Requirement already satisfied: mpmath>=0.19 in /usr/local/lib/python3.7/dist-packages (from sympy>=1.3->qiskit-aqua==0.9.4->qiskit) (1.2.1)\n",
            "Requirement already satisfied: multitasking>=0.0.7 in /usr/local/lib/python3.7/dist-packages (from yfinance<0.1.63->qiskit-aqua==0.9.4->qiskit) (0.0.9)\n",
            "Requirement already satisfied: lxml>=4.5.1 in /usr/local/lib/python3.7/dist-packages (from yfinance<0.1.63->qiskit-aqua==0.9.4->qiskit) (4.6.3)\n",
            "Requirement already satisfied: pytz>=2017.2 in /usr/local/lib/python3.7/dist-packages (from pandas->qiskit-aqua==0.9.4->qiskit) (2018.9)\n",
            "Requirement already satisfied: inflection>=0.3.1 in /usr/local/lib/python3.7/dist-packages (from quandl->qiskit-aqua==0.9.4->qiskit) (0.5.1)\n",
            "Requirement already satisfied: more-itertools in /usr/local/lib/python3.7/dist-packages (from quandl->qiskit-aqua==0.9.4->qiskit) (8.8.0)\n"
          ],
          "name": "stdout"
        }
      ]
    },
    {
      "cell_type": "code",
      "metadata": {
        "colab": {
          "base_uri": "https://localhost:8080/",
          "height": 349
        },
        "id": "2VWVxnyWtpiA",
        "outputId": "57e965f8-59bc-4087-c3b8-8880874363d1"
      },
      "source": [
        "!pip install torchvision\n",
        "import torch\n",
        "import torch.nn as nn\n",
        "import torch.optim as optim\n",
        "from torch.optim import lr_scheduler"
      ],
      "execution_count": null,
      "outputs": [
        {
          "output_type": "stream",
          "text": [
            "Requirement already satisfied: torchvision in /usr/local/lib/python3.7/dist-packages (0.10.0+cu102)\n",
            "Collecting torch==1.9.0\n",
            "  Downloading torch-1.9.0-cp37-cp37m-manylinux1_x86_64.whl (831.4 MB)\n",
            "\u001b[K     |████████████████████████████████| 831.4 MB 2.5 kB/s \n",
            "\u001b[?25hRequirement already satisfied: pillow>=5.3.0 in /usr/local/lib/python3.7/dist-packages (from torchvision) (7.1.2)\n",
            "Requirement already satisfied: numpy in /usr/local/lib/python3.7/dist-packages (from torchvision) (1.19.5)\n",
            "Requirement already satisfied: typing-extensions in /usr/local/lib/python3.7/dist-packages (from torch==1.9.0->torchvision) (3.7.4.3)\n",
            "Installing collected packages: torch\n",
            "  Attempting uninstall: torch\n",
            "    Found existing installation: torch 1.3.1\n",
            "    Uninstalling torch-1.3.1:\n",
            "      Successfully uninstalled torch-1.3.1\n",
            "Successfully installed torch-1.9.0\n"
          ],
          "name": "stdout"
        },
        {
          "output_type": "display_data",
          "data": {
            "application/vnd.colab-display-data+json": {
              "pip_warning": {
                "packages": [
                  "torch"
                ]
              }
            }
          },
          "metadata": {}
        }
      ]
    },
    {
      "cell_type": "code",
      "metadata": {
        "colab": {
          "base_uri": "https://localhost:8080/"
        },
        "id": "Qdl9ZW2ZDjC0",
        "outputId": "83e6b368-dfd8-49e1-9969-6394e6c2e2d5"
      },
      "source": [
        "from google.colab import drive\n",
        "drive.mount('/content/CIFAR_Data')"
      ],
      "execution_count": null,
      "outputs": [
        {
          "output_type": "stream",
          "text": [
            "Drive already mounted at /content/CIFAR_Data; to attempt to forcibly remount, call drive.mount(\"/content/CIFAR_Data\", force_remount=True).\n"
          ],
          "name": "stdout"
        }
      ]
    },
    {
      "cell_type": "code",
      "metadata": {
        "id": "Gp8YWyzw2Br3"
      },
      "source": [
        "filtered_classes = ['cat', 'dog']  # Subset of CIFAR ('plane', 'car', 'bird', 'cat','deer', 'dog', 'frog', 'horse', 'ship', 'truck')\n",
        "n_qubits = 4                       # Number of qubits used \n",
        "quantum = False                    # If set to \"False\", the dressed quantum circuit is replaced by \n",
        "                                   # An enterily classical net (defined by the next parameter). \n",
        "classical_model = '512_nq_n'          # Possible choices: '512_n','512_nq_n','551_512_n'. [nq=n_qubits, n=num_filtered_classes]\n",
        "step = 0.001                       # Learning rate\n",
        "batch_size = 8                     # Number of samples for each training step\n",
        "num_epochs = 5                     # Number of training epochs\n",
        "q_depth = 5                        # Depth of the quantum circuit (number of variational layers)\n",
        "gamma_lr_scheduler = 1             # Learning rate reduction applied every 10 epochs.                       \n",
        "max_layers = 15                    # Keep 15 even if not all are used.\n",
        "q_delta = 0.01                     # Initial spread of random quantum weights\n",
        "rng_seed = 0                       # Seed for random number generator\n",
        "start_time = time.time()           # start of the computation timer"
      ],
      "execution_count": 67,
      "outputs": []
    },
    {
      "cell_type": "code",
      "metadata": {
        "id": "DIimcE0_NOCI"
      },
      "source": [
        "dev = qml.device('default.qubit', wires=n_qubits)\n"
      ],
      "execution_count": null,
      "outputs": []
    },
    {
      "cell_type": "code",
      "metadata": {
        "id": "FAYWr4UV2Br4"
      },
      "source": [
        "device = torch.device(\"cuda:0\" if torch.cuda.is_available() else \"cpu\")"
      ],
      "execution_count": null,
      "outputs": []
    },
    {
      "cell_type": "markdown",
      "metadata": {
        "id": "8ExuPrD3cZtT"
      },
      "source": [
        "**Dataset loading**\n",
        "\n",
        "\n",
        "Remark: It may take several minutes to download the CIFAR dataset (only the first time). The PyTorch packages torchvision and torch.utils.data are used for loading the dataset and performing standard preliminary image operations: resize, center, crop, normalize, etc. ."
      ]
    },
    {
      "cell_type": "code",
      "metadata": {
        "colab": {
          "base_uri": "https://localhost:8080/"
        },
        "id": "2mMBEVE82Br4",
        "outputId": "62411cd5-f50f-4a2e-9c35-11d51bdac394"
      },
      "source": [
        "# Fixed pre-processing operations\n",
        "data_transforms = {\n",
        "    'train': transforms.Compose([\n",
        "        #transforms.RandomResizedCrop(224),     # uncomment for data augmentation\n",
        "        #transforms.RandomHorizontalFlip(),     # uncomment for data augmentation\n",
        "        transforms.Resize(256),\n",
        "        transforms.CenterCrop(224),\n",
        "        transforms.ToTensor(),\n",
        "        # Normalize input channels using mean values and standard deviations of ImageNet.\n",
        "        transforms.Normalize([0.485, 0.456, 0.406], [0.229, 0.224, 0.225])\n",
        "    ]),\n",
        "    'val': transforms.Compose([\n",
        "        transforms.Resize(256),\n",
        "        transforms.CenterCrop(224),\n",
        "        transforms.ToTensor(),\n",
        "        transforms.Normalize([0.485, 0.456, 0.406], [0.229, 0.224, 0.225])\n",
        "    ]),\n",
        "}\n",
        "\n",
        "\n",
        "# =================== begin CIFAR dataset loading ===================\n",
        "trainset_full = torchvision.datasets.CIFAR10(root='./data', train=True, download=True, transform=data_transforms['train'])\n",
        "testset_full = torchvision.datasets.CIFAR10(root='./data', train=False,\n",
        "                                       download=True, transform=data_transforms['val'])\n",
        "image_datasets_full={'train': trainset_full, 'val': testset_full}\n",
        "\n",
        "# CIFAR classes\n",
        "class_names = ('plane', 'car', 'bird', 'cat',\n",
        "           'deer', 'dog', 'frog', 'horse', 'ship', 'truck')\n",
        "\n",
        "# Get indices of samples associated to filtered_classes\n",
        "filtered_labels=[class_names.index(cl) for cl in filtered_classes]\n",
        "sub_indices={'train': [], 'val': []}\n",
        "for phase in ['train', 'val']:\n",
        "    for idx, label in enumerate(image_datasets_full[phase].targets):  \n",
        "        if label in filtered_labels:\n",
        "            sub_indices[phase].append(idx)\n",
        "            \n",
        "# Initialize sub-datasets according to filtered indices\n",
        "image_datasets = {x: torch.utils.data.Subset(image_datasets_full[x], sub_indices[x])\n",
        "                for x in ['train', 'val']}\n",
        "\n",
        "def labels_to_filtered(labels):\n",
        "    \"\"\"Maps CIFAR labels (0,1,2,3,4,5,6,7,8,9) to the index of filtered_labels\"\"\"\n",
        "    return [filtered_labels.index(label) for label in labels]\n",
        "# =================== end CIFAR dataset loading ==========================\n",
        "\n",
        "# Number of samples\n",
        "dataset_sizes = {x: len(image_datasets[x]) for x in ['train', 'val']}\n",
        "\n",
        "# Initialize dataloader\n",
        "dataloaders = {x: torch.utils.data.DataLoader(image_datasets[x], \n",
        "                  batch_size=batch_size, shuffle=True, num_workers=0) for x in ['train', 'val']}\n",
        "\n",
        "# Function to plot images from tensors\n",
        "def imshow(inp, title=None):\n",
        "    \"\"\"Imshow for Tensor.\"\"\"\n",
        "    inp = inp.numpy().transpose((1, 2, 0))\n",
        "    # We apply the inverse of the initial normalization operation.\n",
        "    mean = np.array([0.485, 0.456, 0.406])\n",
        "    std = np.array([0.229, 0.224, 0.225])\n",
        "    inp = std * inp + mean\n",
        "    inp = np.clip(inp, 0, 1)\n",
        "    plt.imshow(inp)\n",
        "    if title is not None:\n",
        "        plt.title(title)"
      ],
      "execution_count": null,
      "outputs": [
        {
          "output_type": "stream",
          "text": [
            "Files already downloaded and verified\n",
            "Files already downloaded and verified\n"
          ],
          "name": "stdout"
        }
      ]
    },
    {
      "cell_type": "code",
      "metadata": {
        "colab": {
          "base_uri": "https://localhost:8080/"
        },
        "id": "nYsLyLEuRrXV",
        "outputId": "979ef8d6-4dc0-4099-b273-4ce6394d40c6"
      },
      "source": [
        "!pip install pillow"
      ],
      "execution_count": null,
      "outputs": [
        {
          "output_type": "stream",
          "text": [
            "Requirement already satisfied: pillow in /usr/local/lib/python3.7/dist-packages (7.1.2)\n"
          ],
          "name": "stdout"
        }
      ]
    },
    {
      "cell_type": "code",
      "metadata": {
        "id": "ptX3gLaFR_Lg"
      },
      "source": [
        "import torch\n",
        "import torchvision\n",
        "import torchvision.transforms as transforms"
      ],
      "execution_count": null,
      "outputs": []
    },
    {
      "cell_type": "markdown",
      "metadata": {
        "id": "15HRdPn-iqbB"
      },
      "source": [
        "Let us show a batch of the test data, just to have an idea of the classification problem.\n",
        "Hint: re-run the next cell to see more samples."
      ]
    },
    {
      "cell_type": "code",
      "metadata": {
        "colab": {
          "base_uri": "https://localhost:8080/",
          "height": 106
        },
        "id": "rKAEzX8I2Br9",
        "outputId": "ff28f126-4a83-49a0-c3de-de34bd219022"
      },
      "source": [
        "# Get a batch of training data\n",
        "inputs, classes = next(iter(dataloaders['val']))\n",
        "\n",
        "# Make a grid from batch\n",
        "out = torchvision.utils.make_grid(inputs)\n",
        "imshow(out, title=[class_names[x] for x in classes])"
      ],
      "execution_count": null,
      "outputs": [
        {
          "output_type": "display_data",
          "data": {
            "image/png": "[encoded data removed]",
            "text/plain": [
              "<Figure size 432x288 with 1 Axes>"
            ]
          },
          "metadata": {
            "needs_background": "light"
          }
        }
      ]
    },
    {
      "cell_type": "code",
      "metadata": {
        "id": "QRXadcB82Br9"
      },
      "source": [
        "torch.manual_seed(rng_seed)\n",
        "dataloaders = {x: torch.utils.data.DataLoader(image_datasets[x], \n",
        "                  batch_size=batch_size, shuffle=True, num_workers=0) for x in ['train', 'val']}"
      ],
      "execution_count": null,
      "outputs": []
    },
    {
      "cell_type": "markdown",
      "metadata": {
        "id": "SZQj_s0ciuz4"
      },
      "source": [
        "**Hybrid transfer learning model (classical-to-quantum).**\n",
        "\n",
        "We first define some quantum layers that will compose the quantum circuit."
      ]
    },
    {
      "cell_type": "code",
      "metadata": {
        "id": "cMVoNy782Br-"
      },
      "source": [
        "def H_layer(nqubits):\n",
        "    \"\"\"Layer of single-qubit Hadamard gates. \n",
        "    \"\"\"\n",
        "    for idx in range(nqubits):\n",
        "        qml.Hadamard(wires=idx)\n",
        "        \n",
        "def RY_layer(w):\n",
        "    \"\"\"Layer of parametrized qubit rotations around the y axis. \n",
        "    \"\"\"\n",
        "    for idx, element in enumerate(w):\n",
        "        qml.RY(element, wires=idx)\n",
        "\n",
        "def entangling_layer(nqubits):\n",
        "    \"\"\"Layer of CNOTs followed by another shifted layer of CNOT.\n",
        "    \"\"\"\n",
        "    # In other words it should apply something like :\n",
        "    # CNOT  CNOT  CNOT  CNOT...  CNOT\n",
        "    #   CNOT  CNOT  CNOT...  CNOT  \n",
        "    for i in range(0, nqubits - 1, 2): # Loop over even indices: i=0,2,...N-2  \n",
        "        qml.CNOT(wires=[i, i + 1])\n",
        "    for i in range(1, nqubits - 1,2): # Loop over odd indices:  i=1,3,...N-3\n",
        "        qml.CNOT(wires=[i, i + 1])"
      ],
      "execution_count": null,
      "outputs": []
    },
    {
      "cell_type": "markdown",
      "metadata": {
        "id": "o3y-uUtpi2PT"
      },
      "source": [
        "**The structure is that of a typical variational quantum circuit:**\n",
        "\n",
        "All qubits are first initialized in a balanced superposition of up and down states, then they are rotated according to the input parameters (local embedding);\n",
        "\n",
        "Successively a sequence of trainable rotation layers and constant entangling layers is applied.\n",
        "\n",
        "This block is responsible for the main computation necessary to solve the classification problem.\n",
        "\n",
        "\n",
        "Eventually, for each qubit, the local expectation value of the Z operator is measured. This produces a classical output vector, suitable for additional post-processing."
      ]
    },
    {
      "cell_type": "code",
      "metadata": {
        "id": "GsmDV--k2Br-"
      },
      "source": [
        "@qml.qnode(dev, interface='torch')\n",
        "def q_net(q_in, q_weights_flat):\n",
        "        \n",
        "        # Reshape weights\n",
        "        q_weights = q_weights_flat.reshape(max_layers, n_qubits)\n",
        "        \n",
        "        # Start from state |+> , unbiased w.r.t. |0> and |1>\n",
        "        H_layer(n_qubits)\n",
        "        \n",
        "        # Embed features in the quantum node\n",
        "        RY_layer(q_in)\n",
        "       \n",
        "        # Sequence of trainable variational layers\n",
        "        for k in range(q_depth):\n",
        "            entangling_layer(n_qubits)\n",
        "            RY_layer(q_weights[k+1])\n",
        "\n",
        "        # Expectation values in the Z basis\n",
        "        return [qml.expval(qml.PauliZ(j)) for j in range(n_qubits)]"
      ],
      "execution_count": null,
      "outputs": []
    },
    {
      "cell_type": "markdown",
      "metadata": {
        "id": "c_Ynf3FtjB8N"
      },
      "source": [
        "**We can now define a custom torch.nn.Module representing a dressed quantum circuit.**\n",
        "\n",
        "This is a concatenation of:\n",
        "\n",
        "A classical pre-processing layer (nn.Linear)\n",
        "\n",
        "A classical activation function (F.tanh)\n",
        "\n",
        "A constant np.pi/2.0 scaling factor.\n",
        "\n",
        "The previously defined quantum circuit (q_net)\n",
        "A classical post-processing layer (nn.Linear)\n",
        "\n",
        "The input of the module is a batch of vectors with 512 real parameters (features) and the output is a batch of vectors with n real outputs (one for each class of images).\n"
      ]
    },
    {
      "cell_type": "code",
      "metadata": {
        "id": "WnPJ5eCX2Br-"
      },
      "source": [
        "class Quantumnet(nn.Module):\n",
        "        def __init__(self):\n",
        "            super().__init__()\n",
        "            self.pre_net = nn.Linear(512, n_qubits)\n",
        "            self.q_params = nn.Parameter(q_delta * torch.randn(max_layers * n_qubits))\n",
        "            self.post_net = nn.Linear(n_qubits, len(filtered_classes))\n",
        "\n",
        "        def forward(self, input_features):\n",
        "            pre_out = self.pre_net(input_features) \n",
        "            q_in = torch.tanh(pre_out) * np.pi / 2.0   \n",
        "            \n",
        "            # Apply the quantum circuit to each element of the batch, and append to q_out\n",
        "            q_out = torch.Tensor(0, n_qubits)\n",
        "            q_out = q_out.to(device)\n",
        "            for elem in q_in:\n",
        "                q_out_elem = q_net(elem,self.q_params).float().unsqueeze(0)\n",
        "                q_out = torch.cat((q_out, q_out_elem))\n",
        "            return self.post_net(q_out)"
      ],
      "execution_count": null,
      "outputs": []
    },
    {
      "cell_type": "markdown",
      "metadata": {
        "id": "nZpu8DymjNQ_"
      },
      "source": [
        "**We are finally ready to build our full hybrid classical-quantum network. We follow the transfer learning approach:**\n",
        "\n",
        "First load the classical pre-trained network ResNet18 from the torchvision.models zoo.\n",
        "\n",
        "Important: the model is downloaded from Internet and it may take a long time (only the first time).\n",
        "\n",
        "Freeze all the weights since they should not be trained.\n",
        "\n",
        "Replace the last fully connected layer with our trainable dressed quantum circuit (Quantumnet). Alternatively, if quantum==False, an entirely classical analogue is used."
      ]
    },
    {
      "cell_type": "code",
      "metadata": {
        "colab": {
          "base_uri": "https://localhost:8080/",
          "height": 87,
          "referenced_widgets": [
            "226d26f407c04de7a0d8c0b57db3df2b",
            "69927ab53c544a81b426ed0f12d3b175",
            "0995a8fc42b1467dabf6c32c789bf0e4",
            "a83e658bf9bd4351b171f4dbab2cce47",
            "d558cddd36ff4292a405a8c44c833633",
            "d7bbd5f6cbae4e36ab23a1e497a96237",
            "3c0c30d2a2dd4eada3ff5e95da0850a2",
            "19a523fd8d2944238348376432f567c4",
            "3d89b1fb3aec4384b14c4e1876be8d84",
            "d802aabba8724906ae67fc68fb99e296",
            "c66617228f4743258b59f87af66fea57"
          ]
        },
        "id": "a4VBxkDz2Br_",
        "outputId": "894d2265-3248-4eea-89e2-9e25a7a0555b"
      },
      "source": [
        "model_hybrid = torchvision.models.resnet18(pretrained=True)\n",
        "\n",
        "for param in model_hybrid.parameters():\n",
        "    param.requires_grad = False\n",
        "\n",
        "if quantum:\n",
        "    model_hybrid.fc = Quantumnet()\n",
        "\n",
        "elif classical_model == '512_n':\n",
        "    model_hybrid.fc = nn.Linear(512,len(filtered_classes))\n",
        "\n",
        "elif classical_model == '512_nq_n':\n",
        "    model_hybrid.fc = nn.Sequential(nn.Linear(512, n_qubits),torch.nn.ReLU(),nn.Linear(n_qubits, len(filtered_classes))) \n",
        "\n",
        "elif classical_model == '551_512_n':\n",
        "    model_hybrid.fc = nn.Sequential(nn.Linear(512, 512), torch.nn.ReLU(), nn.Linear(512, len(filtered_classes)))\n",
        "\n",
        "# Use CUDA or CPU according to the \"device\" object.\n",
        "model_hybrid = model_hybrid.to(device)"
      ],
      "execution_count": null,
      "outputs": [
        {
          "output_type": "stream",
          "text": [
            "Downloading: \"https://download.pytorch.org/models/resnet18-f37072fd.pth\" to /root/.cache/torch/hub/checkpoints/resnet18-f37072fd.pth\n"
          ],
          "name": "stderr"
        },
        {
          "output_type": "display_data",
          "data": {
            "application/vnd.jupyter.widget-view+json": {
              "model_id": "226d26f407c04de7a0d8c0b57db3df2b",
              "version_minor": 0,
              "version_major": 2
            },
            "text/plain": [
              "  0%|          | 0.00/44.7M [00:00<?, ?B/s]"
            ]
          },
          "metadata": {}
        }
      ]
    },
    {
      "cell_type": "markdown",
      "metadata": {
        "id": "NeeRUOWBeDMt"
      },
      "source": [
        "Defining loss function below and the criterion`"
      ]
    },
    {
      "cell_type": "code",
      "metadata": {
        "id": "c5BztmJ72Br_"
      },
      "source": [
        "criterion = nn.CrossEntropyLoss()"
      ],
      "execution_count": null,
      "outputs": []
    },
    {
      "cell_type": "code",
      "metadata": {
        "id": "8pTLIqYh2Br_"
      },
      "source": [
        "optimizer_hybrid = optim.Adam(model_hybrid.fc.parameters(), lr=step)"
      ],
      "execution_count": null,
      "outputs": []
    },
    {
      "cell_type": "code",
      "metadata": {
        "id": "N7E-uY852BsA"
      },
      "source": [
        "exp_lr_scheduler = lr_scheduler.StepLR(optimizer_hybrid, step_size=3, gamma=gamma_lr_scheduler)"
      ],
      "execution_count": null,
      "outputs": []
    },
    {
      "cell_type": "markdown",
      "metadata": {
        "id": "6nME4TURduvN"
      },
      "source": [
        "**Defining train_model**\n",
        "\n",
        "Function below taking parameters as optimizer, criterion, model, num_epochs and scheduler "
      ]
    },
    {
      "cell_type": "code",
      "metadata": {
        "id": "3a32gGl52BsA"
      },
      "source": [
        "def train_model(model, criterion, optimizer, scheduler, num_epochs):\n",
        "        since = time.time()\n",
        "        best_model_wts = copy.deepcopy(model.state_dict())\n",
        "        best_acc = 0.0\n",
        "        best_loss = 10000.0   # Large arbitrary number\n",
        "        best_acc_train = 0.0\n",
        "        best_loss_train = 10000.0  # Large arbitrary number\n",
        "        print('Training started:')\n",
        "        for epoch in range(num_epochs):\n",
        "            \n",
        "            # Each epoch has a training and validation phase\n",
        "            for phase in ['train', 'val']:\n",
        "                if phase == 'train':\n",
        "                    # Set model to training mode\n",
        "                    scheduler.step()\n",
        "                    model.train() \n",
        "                else:\n",
        "                    # Set model to evaluate mode\n",
        "                    model.eval()   \n",
        "                \n",
        "                # Iteration loop\n",
        "                running_loss = 0.0\n",
        "                running_corrects = 0\n",
        "                n_batches = dataset_sizes[phase] // batch_size\n",
        "                it = 0\n",
        "                for inputs, cifar_labels in dataloaders[phase]:\n",
        "                    since_batch = time.time()\n",
        "                    batch_size_ = len(inputs)\n",
        "                    inputs = inputs.to(device)\n",
        "                    labels = torch.tensor(labels_to_filtered(cifar_labels))\n",
        "                    labels = labels.to(device)\n",
        "                    optimizer.zero_grad()\n",
        "                    \n",
        "                    # Track/compute gradient and make an optimization step only when training\n",
        "                    with torch.set_grad_enabled(phase == 'train'):\n",
        "                        outputs = model(inputs)\n",
        "                        _, preds = torch.max(outputs, 1)\n",
        "                        loss = criterion(outputs, labels)\n",
        "                        if phase == 'train':\n",
        "                            loss.backward()\n",
        "                            optimizer.step()\n",
        "                            \n",
        "                    # Print iteration results\n",
        "                    running_loss += loss.item() * batch_size_\n",
        "                    batch_corrects = torch.sum(preds == labels.data).item()\n",
        "                    running_corrects += batch_corrects\n",
        "                    print('Phase: {} Epoch: {}/{} Iter: {}/{} Batch time: {:.4f}'.format(phase, epoch + 1, num_epochs, it + 1, n_batches + 1, time.time() - since_batch), end='\\r', flush=True)\n",
        "                    it += 1\n",
        "                \n",
        "                # Print epoch results\n",
        "                epoch_loss = running_loss / dataset_sizes[phase]\n",
        "                epoch_acc = running_corrects / dataset_sizes[phase]\n",
        "                print('Phase: {} Epoch: {}/{} Loss: {:.4f} Acc: {:.4f}             '.format('train' if phase == 'train' else 'val  ', epoch + 1, num_epochs, epoch_loss, epoch_acc))\n",
        "                \n",
        "                # Check if this is the best model wrt previous epochs\n",
        "                if phase == 'val' and epoch_acc > best_acc:\n",
        "                    best_acc = epoch_acc\n",
        "                    best_model_wts = copy.deepcopy(model.state_dict())\n",
        "                if phase == 'val' and epoch_loss < best_loss:\n",
        "                    best_loss = epoch_loss\n",
        "                if phase == 'train' and epoch_acc > best_acc_train:\n",
        "                    best_acc_train = epoch_acc\n",
        "                if phase == 'train' and epoch_loss < best_loss_train:\n",
        "                    best_loss_train = epoch_loss\n",
        "        \n",
        "        # Print final results             \n",
        "        model.load_state_dict(best_model_wts)\n",
        "        time_elapsed = time.time() - since\n",
        "        print('Training completed in {:.0f}m {:.0f}s'.format(time_elapsed // 60, time_elapsed % 60))\n",
        "        print('Best test loss: {:.4f} | Best test accuracy: {:.4f}'.format(best_loss, best_acc))\n",
        "        return model"
      ],
      "execution_count": 68,
      "outputs": []
    },
    {
      "cell_type": "markdown",
      "metadata": {
        "id": "Z__TWAlIdcdH"
      },
      "source": [
        "**Model Training below**\n",
        " \n",
        "Running through 5 epochs and getting a accuracy score of "
      ]
    },
    {
      "cell_type": "code",
      "metadata": {
        "colab": {
          "base_uri": "https://localhost:8080/"
        },
        "id": "owpmbUXJ2BsA",
        "outputId": "c16146f9-26fb-4300-fef1-c75fba646dde"
      },
      "source": [
        "model_hybrid = train_model(model_hybrid, criterion, optimizer_hybrid, exp_lr_scheduler, num_epochs=num_epochs)"
      ],
      "execution_count": 69,
      "outputs": [
        {
          "output_type": "stream",
          "text": [
            "Training started:\n",
            "Phase: train Epoch: 1/5 Loss: 0.4385 Acc: 0.7910             \n",
            "Phase: val   Epoch: 1/5 Loss: 0.4153 Acc: 0.8000             \n",
            "Phase: train Epoch: 2/5 Loss: 0.4332 Acc: 0.7952             \n",
            "Phase: val   Epoch: 2/5 Loss: 0.3744 Acc: 0.8275             \n",
            "Phase: train Epoch: 3/5 Loss: 0.4247 Acc: 0.7987             \n",
            "Phase: val   Epoch: 3/5 Loss: 0.3724 Acc: 0.8295             \n",
            "Phase: train Epoch: 4/5 Loss: 0.4235 Acc: 0.8006             \n",
            "Phase: val   Epoch: 4/5 Loss: 0.3728 Acc: 0.8310             \n",
            "Phase: train Epoch: 5/5 Loss: 0.4174 Acc: 0.8063             \n",
            "Phase: val   Epoch: 5/5 Loss: 0.3807 Acc: 0.8290             \n",
            "Training completed in 55m 40s\n",
            "Best test loss: 0.3724 | Best test accuracy: 0.8310\n"
          ],
          "name": "stdout"
        }
      ]
    },
    {
      "cell_type": "code",
      "metadata": {
        "colab": {
          "base_uri": "https://localhost:8080/"
        },
        "id": "3exXqOJ_2BsA",
        "scrolled": true,
        "outputId": "3746f7ed-c6c9-4aa6-89de-7d39f0d84f0e"
      },
      "source": [
        "path = '/content/CIFAR_Data/MyDrive/qml'\n",
        "if quantum:\n",
        "        torch.save(model_hybrid.state_dict(), \n",
        "            path+'quantum_' + filtered_classes[0] + '_' + filtered_classes[1] + '.pt'\n",
        "        )\n",
        "else:\n",
        "        torch.save(model_hybrid.state_dict(), \n",
        "            path+'classical_' + filtered_classes[0] + '_' + filtered_classes[1] + '.pt'\n",
        "        )\n",
        "print(\"Model state_dict saved.\")"
      ],
      "execution_count": 70,
      "outputs": [
        {
          "output_type": "stream",
          "text": [
            "Model state_dict saved.\n"
          ],
          "name": "stdout"
        }
      ]
    },
    {
      "cell_type": "code",
      "metadata": {
        "id": "F05jFHN82BsB"
      },
      "source": [
        "if quantum:\n",
        "    model_hybrid.load_state_dict(torch.load(\n",
        "        path+'quantum_' + filtered_classes[0] + '_' + filtered_classes[1] + '.pt'\n",
        "        )\n",
        "    )\n",
        "                                 \n",
        "else:\n",
        "    model_hybrid.load_state_dict(torch.load(\n",
        "        path+'classical_' + filtered_classes[0] + '_' + filtered_classes[1] + '.pt'\n",
        "        )\n",
        "    )"
      ],
      "execution_count": 71,
      "outputs": []
    },
    {
      "cell_type": "markdown",
      "metadata": {
        "id": "Y3005vS4jlOm"
      },
      "source": [
        "**Load model from file**\n",
        "\n",
        "To load the pre-trained weights it is necessary to first define the model. So, before this cell, one should have run all the cells above the *Training and results* section."
      ]
    },
    {
      "cell_type": "code",
      "metadata": {
        "id": "MDh7uWfJ2BsB",
        "colab": {
          "base_uri": "https://localhost:8080/"
        },
        "outputId": "69fb6beb-4360-46f6-c582-6b21035ae648"
      },
      "source": [
        "criterion = nn.CrossEntropyLoss()\n",
        "running_loss = 0.0\n",
        "running_corrects = 0\n",
        "n_batches = dataset_sizes['val'] // batch_size\n",
        "it = 0\n",
        "model_hybrid.eval()\n",
        "\n",
        "# Testing loop\n",
        "for inputs, cifar_labels in dataloaders['val']:\n",
        "    inputs = inputs.to(device)\n",
        "    labels = torch.tensor(labels_to_filtered(cifar_labels))\n",
        "    labels = labels.to(device)\n",
        "    batch_size_ = len(inputs)\n",
        "    with torch.set_grad_enabled(False):\n",
        "        outputs = model_hybrid(inputs)\n",
        "        _, preds = torch.max(outputs, 1)\n",
        "        loss = criterion(outputs, labels)\n",
        "    running_loss += loss.item() * batch_size_\n",
        "    batch_corrects = torch.sum(preds == labels.data).item()\n",
        "    running_corrects += batch_corrects\n",
        "    print('Iter: {}/{}'.format(it+1,n_batches+1), end='\\r', flush=True)\n",
        "    it += 1\n",
        "                    \n",
        "# Print final results\n",
        "epoch_loss = running_loss / dataset_sizes['val']\n",
        "epoch_acc = running_corrects / dataset_sizes['val']\n",
        "print('\\nTest Loss: {:.4f} Test Acc: {:.4f}        '.format(epoch_loss, epoch_acc))"
      ],
      "execution_count": 72,
      "outputs": [
        {
          "output_type": "stream",
          "text": [
            "\n",
            "Test Loss: 0.3728 Test Acc: 0.8310        \n"
          ],
          "name": "stdout"
        }
      ]
    },
    {
      "cell_type": "markdown",
      "metadata": {
        "id": "vS86ybt_jrnB"
      },
      "source": [
        "We apply the model to the test dataset to compute the associated loss and accuracy."
      ]
    },
    {
      "cell_type": "code",
      "metadata": {
        "id": "b8d19XZn2BsB",
        "colab": {
          "base_uri": "https://localhost:8080/",
          "height": 264
        },
        "outputId": "96f96248-7b8a-4005-dae5-c9f3cecb0c34"
      },
      "source": [
        "def visualize_model(model, num_images=6, fig_name='Predictions'):\n",
        "    images_so_far = 0\n",
        "    fig = plt.figure(fig_name)\n",
        "    model.eval()\n",
        "    with torch.no_grad():\n",
        "        for i, (inputs, cifar_labels) in enumerate(dataloaders['val']):\n",
        "            inputs = inputs.to(device)\n",
        "            labels = torch.tensor(labels_to_filtered(cifar_labels))\n",
        "            labels = labels.to(device)\n",
        "            outputs = model(inputs)\n",
        "            _, preds = torch.max(outputs, 1)\n",
        "            for j in range(inputs.size()[0]):\n",
        "                images_so_far += 1\n",
        "                ax = plt.subplot(num_images // 2, 2, images_so_far)\n",
        "                ax.axis('off')\n",
        "                ax.set_title('[{}]'.format(filtered_classes[preds[j]]))\n",
        "                imshow(inputs.cpu().data[j])\n",
        "                if images_so_far == num_images:\n",
        "                    return\n",
        "        \n",
        "visualize_model(model_hybrid, num_images=4)\n"
      ],
      "execution_count": 73,
      "outputs": [
        {
          "output_type": "display_data",
          "data": {
            "image/png": "[encoded data removed]",
            "text/plain": [
              "<Figure size 432x288 with 4 Axes>"
            ]
          },
          "metadata": {
            "needs_background": "light"
          }
        }
      ]
    },
    {
      "cell_type": "markdown",
      "metadata": {
        "id": "jlTEb2xT36Cs"
      },
      "source": [
        "The above pics gives us the prediction for the input images along with their labels.\n",
        "\n",
        "The Result we get using Quantum Computing is 83.10% "
      ]
    },
    {
      "cell_type": "markdown",
      "metadata": {
        "id": "A5zV0Tx-jwRF"
      },
      "source": [
        "**Visualize the model**\n",
        "\n",
        "Let us compute and the visualize the predictions for a batch of test data. Hint: re-run the next cell to see more samples.\n",
        "\n"
      ]
    }
  ]
}